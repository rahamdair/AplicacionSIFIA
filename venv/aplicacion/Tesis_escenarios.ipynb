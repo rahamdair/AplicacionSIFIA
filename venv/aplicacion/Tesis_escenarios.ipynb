{
 "cells": [
  {
   "cell_type": "markdown",
   "metadata": {
    "id": "ALBznRLZx-KO"
   },
   "source": [
    "### Escenario 1: Dataset completo"
   ]
  },
  {
   "cell_type": "code",
   "execution_count": 1,
   "metadata": {
    "id": "tWHPAxFSxiZE"
   },
   "outputs": [],
   "source": [
    "import pandas as pd\n",
    "from sklearn.model_selection import train_test_split\n",
    "from sklearn.preprocessing import StandardScaler\n",
    "from sklearn.metrics import classification_report, confusion_matrix\n",
    "from sklearn.metrics import roc_auc_score, roc_curve\n",
    "from sklearn.model_selection import GridSearchCV\n",
    "from imblearn.over_sampling import SMOTE\n",
    "from imblearn.under_sampling import RandomUnderSampler\n",
    "from collections import Counter\n",
    "\n",
    "from sklearn.ensemble import RandomForestClassifier\n",
    "from sklearn.linear_model import LogisticRegression\n",
    "from sklearn.svm import SVC\n",
    "from sklearn.tree import DecisionTreeClassifier\n",
    "from xgboost import XGBClassifier\n",
    "from sklearn.ensemble import AdaBoostClassifier\n",
    "from sklearn.neural_network import MLPClassifier\n",
    "\n",
    "import matplotlib.pyplot as plt\n",
    "import seaborn as sns"
   ]
  },
  {
   "cell_type": "markdown",
   "metadata": {
    "id": "pC2B4syGyIXx"
   },
   "source": [
    "#### 1 Carga del Dataset"
   ]
  },
  {
   "cell_type": "code",
   "execution_count": 2,
   "metadata": {
    "id": "IS_mY89lx5j2"
   },
   "outputs": [],
   "source": [
    "#data_esc1 = pd.read_csv(\"/content/drive/MyDrive/Colab_Tesis/Churn_Modelling_escenario1.csv\")\n",
    "data_esc1 = pd.read_csv(\"datasets/Churn_Modelling_escenario1.csv\")"
   ]
  },
  {
   "cell_type": "code",
   "execution_count": 3,
   "metadata": {
    "id": "k4BBBsrqy80r"
   },
   "outputs": [
    {
     "data": {
      "text/html": [
       "<div>\n",
       "<style scoped>\n",
       "    .dataframe tbody tr th:only-of-type {\n",
       "        vertical-align: middle;\n",
       "    }\n",
       "\n",
       "    .dataframe tbody tr th {\n",
       "        vertical-align: top;\n",
       "    }\n",
       "\n",
       "    .dataframe thead th {\n",
       "        text-align: right;\n",
       "    }\n",
       "</style>\n",
       "<table border=\"1\" class=\"dataframe\">\n",
       "  <thead>\n",
       "    <tr style=\"text-align: right;\">\n",
       "      <th></th>\n",
       "      <th>CreditScore</th>\n",
       "      <th>Age</th>\n",
       "      <th>Tenure</th>\n",
       "      <th>Balance</th>\n",
       "      <th>NumOfProducts</th>\n",
       "      <th>HasCrCard</th>\n",
       "      <th>IsActiveMember</th>\n",
       "      <th>EstimatedSalary</th>\n",
       "      <th>Exited</th>\n",
       "      <th>Geography_encoded</th>\n",
       "      <th>Gender_encoded</th>\n",
       "    </tr>\n",
       "  </thead>\n",
       "  <tbody>\n",
       "    <tr>\n",
       "      <th>0</th>\n",
       "      <td>619</td>\n",
       "      <td>42</td>\n",
       "      <td>2</td>\n",
       "      <td>0.00</td>\n",
       "      <td>1</td>\n",
       "      <td>1</td>\n",
       "      <td>1</td>\n",
       "      <td>101348.88</td>\n",
       "      <td>1</td>\n",
       "      <td>2</td>\n",
       "      <td>1</td>\n",
       "    </tr>\n",
       "    <tr>\n",
       "      <th>1</th>\n",
       "      <td>608</td>\n",
       "      <td>41</td>\n",
       "      <td>1</td>\n",
       "      <td>83807.86</td>\n",
       "      <td>1</td>\n",
       "      <td>0</td>\n",
       "      <td>1</td>\n",
       "      <td>112542.58</td>\n",
       "      <td>0</td>\n",
       "      <td>0</td>\n",
       "      <td>1</td>\n",
       "    </tr>\n",
       "    <tr>\n",
       "      <th>2</th>\n",
       "      <td>502</td>\n",
       "      <td>42</td>\n",
       "      <td>8</td>\n",
       "      <td>159660.80</td>\n",
       "      <td>3</td>\n",
       "      <td>1</td>\n",
       "      <td>0</td>\n",
       "      <td>113931.57</td>\n",
       "      <td>1</td>\n",
       "      <td>2</td>\n",
       "      <td>1</td>\n",
       "    </tr>\n",
       "  </tbody>\n",
       "</table>\n",
       "</div>"
      ],
      "text/plain": [
       "   CreditScore  Age  Tenure    Balance  NumOfProducts  HasCrCard  \\\n",
       "0          619   42       2       0.00              1          1   \n",
       "1          608   41       1   83807.86              1          0   \n",
       "2          502   42       8  159660.80              3          1   \n",
       "\n",
       "   IsActiveMember  EstimatedSalary  Exited  Geography_encoded  Gender_encoded  \n",
       "0               1        101348.88       1                  2               1  \n",
       "1               1        112542.58       0                  0               1  \n",
       "2               0        113931.57       1                  2               1  "
      ]
     },
     "execution_count": 3,
     "metadata": {},
     "output_type": "execute_result"
    }
   ],
   "source": [
    "data_esc1.head(3)"
   ]
  },
  {
   "cell_type": "code",
   "execution_count": 4,
   "metadata": {
    "id": "mDALvQm3y_FT"
   },
   "outputs": [
    {
     "name": "stdout",
     "output_type": "stream",
     "text": [
      "<class 'pandas.core.frame.DataFrame'>\n",
      "RangeIndex: 10000 entries, 0 to 9999\n",
      "Data columns (total 11 columns):\n",
      " #   Column             Non-Null Count  Dtype  \n",
      "---  ------             --------------  -----  \n",
      " 0   CreditScore        10000 non-null  int64  \n",
      " 1   Age                10000 non-null  int64  \n",
      " 2   Tenure             10000 non-null  int64  \n",
      " 3   Balance            10000 non-null  float64\n",
      " 4   NumOfProducts      10000 non-null  int64  \n",
      " 5   HasCrCard          10000 non-null  int64  \n",
      " 6   IsActiveMember     10000 non-null  int64  \n",
      " 7   EstimatedSalary    10000 non-null  float64\n",
      " 8   Exited             10000 non-null  int64  \n",
      " 9   Geography_encoded  10000 non-null  int64  \n",
      " 10  Gender_encoded     10000 non-null  int64  \n",
      "dtypes: float64(2), int64(9)\n",
      "memory usage: 859.5 KB\n"
     ]
    }
   ],
   "source": [
    "data_esc1.info()"
   ]
  },
  {
   "cell_type": "code",
   "execution_count": 5,
   "metadata": {
    "id": "ulcJlX2rzB_W"
   },
   "outputs": [],
   "source": [
    "# División del dataset en entrenamiento y prueba\n",
    "\n",
    "features = data_esc1.drop(\"Exited\", axis=1)\n",
    "target = data_esc1[\"Exited\"]\n",
    "\n",
    "X_train, X_test, y_train, y_test = train_test_split(features, target, test_size=0.3, random_state=42)"
   ]
  },
  {
   "cell_type": "markdown",
   "metadata": {
    "id": "IbiWCEJlzE36"
   },
   "source": [
    "#### 2 Balanceo de Datos con Oversampling y Undersampling"
   ]
  },
  {
   "cell_type": "markdown",
   "metadata": {
    "id": "uVFDeUCwzGrr"
   },
   "source": [
    "##### 2.1. Balanceo de Datos con Oversampling (SMOTE)"
   ]
  },
  {
   "cell_type": "code",
   "execution_count": 6,
   "metadata": {
    "colab": {
     "base_uri": "https://localhost:8080/"
    },
    "executionInfo": {
     "elapsed": 7,
     "status": "ok",
     "timestamp": 1725548983812,
     "user": {
      "displayName": "Raham Castillo",
      "userId": "06379344060245885210"
     },
     "user_tz": 300
    },
    "id": "Ae1RMhowzJlV",
    "outputId": "add5bd91-e54b-4566-bee4-aa4157562295"
   },
   "outputs": [
    {
     "name": "stdout",
     "output_type": "stream",
     "text": [
      "Distribución de clases antes del oversampling: Counter({0: 5547, 1: 1453})\n",
      "Distribución de clases después del oversampling: Counter({1: 5547, 0: 5547})\n"
     ]
    }
   ],
   "source": [
    "smote_esc1 = SMOTE(random_state=42)\n",
    "X_train_over, y_train_over = smote_esc1.fit_resample(X_train, y_train)\n",
    "\n",
    "print('Distribución de clases antes del oversampling:', Counter(y_train))\n",
    "print('Distribución de clases después del oversampling:', Counter(y_train_over))"
   ]
  },
  {
   "cell_type": "markdown",
   "metadata": {
    "id": "YgGyB_TgzOKd"
   },
   "source": [
    "##### 2.2 Balanceo de Datos con Undersampling"
   ]
  },
  {
   "cell_type": "code",
   "execution_count": 7,
   "metadata": {
    "id": "9R2XkNB-zQ-T"
   },
   "outputs": [],
   "source": [
    "rus_esc1 = RandomUnderSampler(random_state=42)\n",
    "X_train_under, y_train_under = rus_esc1.fit_resample(X_train, y_train)"
   ]
  },
  {
   "cell_type": "markdown",
   "metadata": {
    "id": "XpNBttehzSmB"
   },
   "source": [
    "#### 3 Estandarización de los Datos\n",
    "\n"
   ]
  },
  {
   "cell_type": "code",
   "execution_count": 8,
   "metadata": {
    "id": "0G6u_6I1zVh0"
   },
   "outputs": [],
   "source": [
    "# Se realiza el proceso de estandarización de las características (features)\n",
    "escalado = StandardScaler()\n",
    "\n",
    "# Se estandariza el conjunto de datos original (desbalanceado)\n",
    "X_train_std_esc1 = escalado.fit_transform(X_train)\n",
    "X_test_std_esc1 = escalado.transform(X_test)\n",
    "\n",
    "# Se estandariza el conjunto de datos con Oversampling\n",
    "X_train_over_std_esc1 = escalado.fit_transform(X_train_over)\n",
    "X_test_over_std_esc1 = escalado.transform(X_test)\n",
    "\n",
    "# Se estandariza el conjunto de datos con Undersampling\n",
    "X_train_under_std_esc1 = escalado.fit_transform(X_train_under)\n",
    "X_test_under_std_esc1 = escalado.transform(X_test)"
   ]
  },
  {
   "cell_type": "markdown",
   "metadata": {
    "id": "48yzHmY2zfg6"
   },
   "source": [
    "#### 4 Entrenamiento y Evaluación del Modelo"
   ]
  },
  {
   "cell_type": "markdown",
   "metadata": {
    "id": "0WEpBelKzhcb"
   },
   "source": [
    "##### 4.1. Aplicamos el modelo de Random Forest"
   ]
  },
  {
   "cell_type": "code",
   "execution_count": 9,
   "metadata": {
    "id": "kGKXx1UpzldR"
   },
   "outputs": [],
   "source": [
    "# Se configura el modelo de Random Forest y los hiperparámetros para GridSearch\n",
    "rf_esc1 = RandomForestClassifier(random_state=42)\n",
    "\n",
    "parametros_grid_rf_esc1 = {\n",
    "    'n_estimators': [20, 50, 100, 200],\n",
    "    'max_depth': [10, 20, 30],\n",
    "    'min_samples_split': [2, 5, 10],\n",
    "    'min_samples_leaf': [1, 2, 4]\n",
    "}\n",
    "\n",
    "# Configuración de GridSearch\n",
    "grid_search_rf_esc1 = GridSearchCV(estimator=rf_esc1,\n",
    "                           param_grid=parametros_grid_rf_esc1,\n",
    "                           cv=5,\n",
    "                           n_jobs=-1,\n",
    "                           scoring='accuracy'\n",
    "                           )"
   ]
  },
  {
   "cell_type": "markdown",
   "metadata": {
    "id": "8_yCB1rDzqHL"
   },
   "source": [
    "##### 4.1.1. Modelo con Datos Desbalanceados - Random Forest"
   ]
  },
  {
   "cell_type": "code",
   "execution_count": 10,
   "metadata": {
    "colab": {
     "base_uri": "https://localhost:8080/"
    },
    "executionInfo": {
     "elapsed": 456954,
     "status": "ok",
     "timestamp": 1725549440762,
     "user": {
      "displayName": "Raham Castillo",
      "userId": "06379344060245885210"
     },
     "user_tz": 300
    },
    "id": "T0Nx54ogzray",
    "outputId": "d8aca1a8-2dfa-4ac8-97df-4adb8f338efb"
   },
   "outputs": [
    {
     "name": "stdout",
     "output_type": "stream",
     "text": [
      "RandomForestClassifier(max_depth=30, min_samples_leaf=2, min_samples_split=10,\n",
      "                       n_estimators=200, random_state=42)\n",
      "Evaluación con datos desbalanceados:\n",
      "[[2343   73]\n",
      " [ 317  267]]\n",
      "              precision    recall  f1-score   support\n",
      "\n",
      "           0       0.88      0.97      0.92      2416\n",
      "           1       0.79      0.46      0.58       584\n",
      "\n",
      "    accuracy                           0.87      3000\n",
      "   macro avg       0.83      0.71      0.75      3000\n",
      "weighted avg       0.86      0.87      0.86      3000\n",
      "\n"
     ]
    }
   ],
   "source": [
    "grid_search_rf_esc1.fit(X_train_std_esc1, y_train)\n",
    "# Mejor modelo de Random Forest\n",
    "best_rf_esc1 = grid_search_rf_esc1.best_estimator_\n",
    "print(best_rf_esc1)\n",
    "\n",
    "# Predicciones y evaluación\n",
    "y_pred_rf_esc1 = best_rf_esc1.predict(X_test_std_esc1)\n",
    "y_prob_rf_esc1 = best_rf_esc1.predict_proba(X_test_std_esc1)[:, 1]\n",
    "print(\"Evaluación con datos desbalanceados:\")\n",
    "print(confusion_matrix(y_test, y_pred_rf_esc1))\n",
    "print(classification_report(y_test, y_pred_rf_esc1))"
   ]
  },
  {
   "cell_type": "markdown",
   "metadata": {
    "id": "VAtrRA-HzvLD"
   },
   "source": [
    "##### 4.1.2. Modelo con Oversamplig - Random Forest"
   ]
  },
  {
   "cell_type": "code",
   "execution_count": 11,
   "metadata": {
    "colab": {
     "base_uri": "https://localhost:8080/"
    },
    "executionInfo": {
     "elapsed": 416463,
     "status": "ok",
     "timestamp": 1725550093911,
     "user": {
      "displayName": "Raham Castillo",
      "userId": "06379344060245885210"
     },
     "user_tz": 300
    },
    "id": "bZP5qU3dzw-0",
    "outputId": "be510540-986b-4f81-c2b5-d02047b4040c"
   },
   "outputs": [
    {
     "name": "stdout",
     "output_type": "stream",
     "text": [
      "RandomForestClassifier(max_depth=30, random_state=42)\n",
      "Evaluación con Oversampling (SMOTE):\n",
      "[[2108  308]\n",
      " [ 214  370]]\n",
      "              precision    recall  f1-score   support\n",
      "\n",
      "           0       0.91      0.87      0.89      2416\n",
      "           1       0.55      0.63      0.59       584\n",
      "\n",
      "    accuracy                           0.83      3000\n",
      "   macro avg       0.73      0.75      0.74      3000\n",
      "weighted avg       0.84      0.83      0.83      3000\n",
      "\n"
     ]
    }
   ],
   "source": [
    "# Se entrena y evalúa el modelo con datos balanceados por oversampling\n",
    "grid_search_rf_esc1.fit(X_train_over_std_esc1, y_train_over)\n",
    "# Mejor modelo de Random Forest con oversampling\n",
    "best_rf_over_esc1 = grid_search_rf_esc1.best_estimator_\n",
    "print(best_rf_over_esc1)\n",
    "\n",
    "# Predicciones y evaluación\n",
    "y_pred_rf_over_esc1 = best_rf_over_esc1.predict(X_test_over_std_esc1)\n",
    "y_prob_rf_over_esc1 = best_rf_over_esc1.predict_proba(X_test_over_std_esc1)[:, 1]\n",
    "print(\"Evaluación con Oversampling (SMOTE):\")\n",
    "print(confusion_matrix(y_test, y_pred_rf_over_esc1))\n",
    "print(classification_report(y_test, y_pred_rf_over_esc1))"
   ]
  },
  {
   "cell_type": "markdown",
   "metadata": {
    "id": "XzjZQpYGz19P"
   },
   "source": [
    "##### 4.1.3 Modelo con Undersampling - Random Forest"
   ]
  },
  {
   "cell_type": "code",
   "execution_count": 12,
   "metadata": {
    "colab": {
     "background_save": true
    },
    "id": "H5chkQ_Nz1f2",
    "outputId": "166ec4ef-37b9-450b-a76c-7c8adb9511e6"
   },
   "outputs": [
    {
     "name": "stdout",
     "output_type": "stream",
     "text": [
      "RandomForestClassifier(max_depth=10, min_samples_leaf=2, random_state=42)\n",
      "Evaluación con Undersampling:\n",
      "[[1913  503]\n",
      " [ 141  443]]\n",
      "              precision    recall  f1-score   support\n",
      "\n",
      "           0       0.93      0.79      0.86      2416\n",
      "           1       0.47      0.76      0.58       584\n",
      "\n",
      "    accuracy                           0.79      3000\n",
      "   macro avg       0.70      0.78      0.72      3000\n",
      "weighted avg       0.84      0.79      0.80      3000\n",
      "\n"
     ]
    }
   ],
   "source": [
    "# Entrenar y evaluar el modelo con datos balanceados por undersampling\n",
    "grid_search_rf_esc1.fit(X_train_under_std_esc1, y_train_under)\n",
    "best_rf_under_esc1 = grid_search_rf_esc1.best_estimator_\n",
    "print(best_rf_under_esc1)\n",
    "\n",
    "# Predicciones y evaluación\n",
    "y_pred_rf_under_esc1 = best_rf_under_esc1.predict(X_test_under_std_esc1)\n",
    "y_prob_rf_under_esc1 = best_rf_under_esc1.predict_proba(X_test_under_std_esc1)[:, 1]\n",
    "print(\"Evaluación con Undersampling:\")\n",
    "print(confusion_matrix(y_test, y_pred_rf_under_esc1))\n",
    "print(classification_report(y_test, y_pred_rf_under_esc1))"
   ]
  },
  {
   "cell_type": "markdown",
   "metadata": {
    "id": "8ZtTfZqg7kPB"
   },
   "source": [
    "##### 5.1. Aplicamos el modelo de Regresión Logística"
   ]
  },
  {
   "cell_type": "code",
   "execution_count": 13,
   "metadata": {
    "colab": {
     "background_save": true
    },
    "id": "ujGdKULm7lZ6"
   },
   "outputs": [],
   "source": [
    "# Se configura el modelo de Regresión Logística y los hiperparámetros para GridSearch\n",
    "\n",
    "reglog_esc1 = LogisticRegression(random_state=42)\n",
    "\n",
    "parametros_grid_reglog_esc1 = {\n",
    "    'C': [0.01, 0.1, 1, 10, 100],\n",
    "    'solver': ['liblinear', 'lbfgs', 'sag'],\n",
    "    'max_iter': [100, 200, 300, 500]\n",
    "}\n",
    "\n",
    "# Configuración de GridSearch\n",
    "grid_search_reglog_esc1 = GridSearchCV(reglog_esc1,\n",
    "                           param_grid=parametros_grid_reglog_esc1,\n",
    "                           cv=5,\n",
    "                           n_jobs=-1,\n",
    "                           scoring='accuracy')"
   ]
  },
  {
   "cell_type": "markdown",
   "metadata": {
    "id": "On1BQT4s7pz_"
   },
   "source": [
    "##### 5.1.1. Modelo con Datos Desbalanceados - Regresión Logística"
   ]
  },
  {
   "cell_type": "code",
   "execution_count": 14,
   "metadata": {
    "colab": {
     "background_save": true
    },
    "id": "YNfPJrJs7q91",
    "outputId": "9c741e3c-5354-448a-a8eb-6c97c2cb48e7"
   },
   "outputs": [
    {
     "name": "stdout",
     "output_type": "stream",
     "text": [
      "LogisticRegression(C=1, random_state=42, solver='liblinear')\n",
      "Evaluación con datos desbalanceados:\n",
      "[[2349   67]\n",
      " [ 483  101]]\n",
      "              precision    recall  f1-score   support\n",
      "\n",
      "           0       0.83      0.97      0.90      2416\n",
      "           1       0.60      0.17      0.27       584\n",
      "\n",
      "    accuracy                           0.82      3000\n",
      "   macro avg       0.72      0.57      0.58      3000\n",
      "weighted avg       0.79      0.82      0.77      3000\n",
      "\n"
     ]
    }
   ],
   "source": [
    "grid_search_reglog_esc1.fit(X_train_std_esc1, y_train)\n",
    "# Mejor modelo de Random Forest\n",
    "best_reglog_esc1 = grid_search_reglog_esc1.best_estimator_\n",
    "print(best_reglog_esc1)\n",
    "\n",
    "# Predicciones y evaluación\n",
    "y_pred_reglog_esc1 = best_reglog_esc1.predict(X_test_std_esc1)\n",
    "y_prob_reglog_esc1 = best_reglog_esc1.predict_proba(X_test_std_esc1)[:, 1]\n",
    "print(\"Evaluación con datos desbalanceados:\")\n",
    "print(confusion_matrix(y_test, y_pred_reglog_esc1))\n",
    "print(classification_report(y_test, y_pred_reglog_esc1))"
   ]
  },
  {
   "cell_type": "markdown",
   "metadata": {
    "id": "_2ezyv0A7yzV"
   },
   "source": [
    "##### 5.1.2. Modelo con Oversamplig - Regresión Logística"
   ]
  },
  {
   "cell_type": "code",
   "execution_count": 15,
   "metadata": {
    "colab": {
     "background_save": true
    },
    "id": "2pRUtUX57zlJ",
    "outputId": "8d64292e-ea2c-4bc4-f35f-86b0d186055e"
   },
   "outputs": [
    {
     "name": "stdout",
     "output_type": "stream",
     "text": [
      "LogisticRegression(C=0.1, random_state=42, solver='liblinear')\n",
      "Evaluación con Oversampling\n",
      "[[1780  636]\n",
      " [ 247  337]]\n",
      "              precision    recall  f1-score   support\n",
      "\n",
      "           0       0.88      0.74      0.80      2416\n",
      "           1       0.35      0.58      0.43       584\n",
      "\n",
      "    accuracy                           0.71      3000\n",
      "   macro avg       0.61      0.66      0.62      3000\n",
      "weighted avg       0.77      0.71      0.73      3000\n",
      "\n"
     ]
    }
   ],
   "source": [
    "# Se entrena y evalúa el modelo con datos balanceados por oversampling\n",
    "grid_search_reglog_esc1.fit(X_train_over_std_esc1, y_train_over)\n",
    "best_reglog_over_esc1 = grid_search_reglog_esc1.best_estimator_\n",
    "print(best_reglog_over_esc1)\n",
    "\n",
    "# Predicciones y evaluación\n",
    "y_pred_reglog_over_esc1 = best_reglog_over_esc1.predict(X_test_over_std_esc1)\n",
    "y_prob_reglog_over_esc1 = best_reglog_over_esc1.predict_proba(X_test_over_std_esc1)[:, 1]\n",
    "print(\"Evaluación con Oversampling\")\n",
    "print(confusion_matrix(y_test, y_pred_reglog_over_esc1))\n",
    "print(classification_report(y_test, y_pred_reglog_over_esc1))"
   ]
  },
  {
   "cell_type": "markdown",
   "metadata": {
    "id": "WZ1WHHrN73fu"
   },
   "source": [
    "##### 5.1.3 Modelo con Undersampling - Regresión Logística"
   ]
  },
  {
   "cell_type": "code",
   "execution_count": 16,
   "metadata": {
    "colab": {
     "background_save": true
    },
    "id": "FYhwFc9375Hy",
    "outputId": "1cec1bb3-c377-4617-c1f0-4ae705c0915c"
   },
   "outputs": [
    {
     "name": "stdout",
     "output_type": "stream",
     "text": [
      "LogisticRegression(C=1, random_state=42, solver='liblinear')\n",
      "Evaluación con Undersampling\n",
      "[[1698  718]\n",
      " [ 187  397]]\n",
      "              precision    recall  f1-score   support\n",
      "\n",
      "           0       0.90      0.70      0.79      2416\n",
      "           1       0.36      0.68      0.47       584\n",
      "\n",
      "    accuracy                           0.70      3000\n",
      "   macro avg       0.63      0.69      0.63      3000\n",
      "weighted avg       0.79      0.70      0.73      3000\n",
      "\n"
     ]
    }
   ],
   "source": [
    "# Se entrena y evalúa el modelo con datos balanceados por undersampling\n",
    "grid_search_reglog_esc1.fit(X_train_under_std_esc1, y_train_under)\n",
    "best_reglog_under_esc1 = grid_search_reglog_esc1.best_estimator_\n",
    "print(best_reglog_under_esc1)\n",
    "\n",
    "# Prediciones y evaluación\n",
    "y_pred_reglog_under_esc1 = best_reglog_under_esc1.predict(X_test_under_std_esc1)\n",
    "y_prob_reglog_under_esc1 = best_reglog_under_esc1.predict_proba(X_test_under_std_esc1)[:, 1]\n",
    "print(\"Evaluación con Undersampling\")\n",
    "print(confusion_matrix(y_test, y_pred_reglog_under_esc1))\n",
    "print(classification_report(y_test, y_pred_reglog_under_esc1))"
   ]
  },
  {
   "cell_type": "markdown",
   "metadata": {
    "id": "6UFSt7UT78Xb"
   },
   "source": [
    "##### 6.1. Aplicamos el modelo de SVM"
   ]
  },
  {
   "cell_type": "code",
   "execution_count": 17,
   "metadata": {
    "colab": {
     "background_save": true
    },
    "id": "wF5y15lc7_CK"
   },
   "outputs": [],
   "source": [
    "# Se configura el modelo de SVM y los hiperparámetros para GridSearch\n",
    "svc_esc1 = SVC(random_state = 42, probability=True)\n",
    "\n",
    "parametros_grid_svc_esc1 = {\n",
    "    'C': [1, 10],\n",
    "    'gamma': ['scale', 'auto'],\n",
    "    'kernel': ['rbf', 'poly']\n",
    "}\n",
    "\n",
    "# Configuración de GridSearch\n",
    "grid_search_svc_esc1 = GridSearchCV(estimator=svc_esc1,\n",
    "                                    param_grid=parametros_grid_svc_esc1,\n",
    "                                    cv=5,\n",
    "                                    n_jobs=-1,\n",
    "                                    scoring='accuracy')"
   ]
  },
  {
   "cell_type": "markdown",
   "metadata": {
    "id": "LtyNxU2j8EEy"
   },
   "source": [
    "##### 6.1.1. Modelo con Datos Desbalanceados - SVM"
   ]
  },
  {
   "cell_type": "code",
   "execution_count": 18,
   "metadata": {
    "colab": {
     "base_uri": "https://localhost:8080/"
    },
    "executionInfo": {
     "elapsed": 109453,
     "status": "ok",
     "timestamp": 1725550575990,
     "user": {
      "displayName": "Raham Castillo",
      "userId": "06379344060245885210"
     },
     "user_tz": 300
    },
    "id": "jcjY90SC8F--",
    "outputId": "365b80c3-53fc-445a-f758-9014a6a33b3e"
   },
   "outputs": [
    {
     "name": "stdout",
     "output_type": "stream",
     "text": [
      "SVC(C=1, probability=True, random_state=42)\n",
      "Evaluación con los datos desbalanceados\n",
      "[[2372   44]\n",
      " [ 367  217]]\n",
      "              precision    recall  f1-score   support\n",
      "\n",
      "           0       0.87      0.98      0.92      2416\n",
      "           1       0.83      0.37      0.51       584\n",
      "\n",
      "    accuracy                           0.86      3000\n",
      "   macro avg       0.85      0.68      0.72      3000\n",
      "weighted avg       0.86      0.86      0.84      3000\n",
      "\n"
     ]
    }
   ],
   "source": [
    "grid_search_svc_esc1.fit(X_train_std_esc1, y_train)\n",
    "\n",
    "# Mejor modelo con SVM\n",
    "best_svc_esc1 = grid_search_svc_esc1.best_estimator_\n",
    "print(best_svc_esc1)\n",
    "\n",
    "# Prediciones y evaluación\n",
    "y_pred_svc_esc1 = best_svc_esc1.predict(X_test_std_esc1)\n",
    "y_prob_svc_esc1 = best_svc_esc1.predict_proba(X_test_std_esc1)[:, 1]\n",
    "print(\"Evaluación con los datos desbalanceados\")\n",
    "print(confusion_matrix(y_test, y_pred_svc_esc1))\n",
    "print(classification_report(y_test, y_pred_svc_esc1))"
   ]
  },
  {
   "cell_type": "markdown",
   "metadata": {
    "id": "N9mwTLZm8uDy"
   },
   "source": [
    "##### 6.1.2. Modelo con Oversamplig - SVM"
   ]
  },
  {
   "cell_type": "code",
   "execution_count": 19,
   "metadata": {
    "colab": {
     "base_uri": "https://localhost:8080/"
    },
    "executionInfo": {
     "elapsed": 776526,
     "status": "ok",
     "timestamp": 1725551701030,
     "user": {
      "displayName": "Raham Castillo",
      "userId": "06379344060245885210"
     },
     "user_tz": 300
    },
    "id": "IrSExWP082kZ",
    "outputId": "ea6f191e-fc22-4de0-e04e-0a0026bab9fb"
   },
   "outputs": [
    {
     "name": "stdout",
     "output_type": "stream",
     "text": [
      "SVC(C=10, gamma='auto', probability=True, random_state=42)\n",
      "Evaluación con Oversampling\n",
      "[[1983  433]\n",
      " [ 193  391]]\n",
      "              precision    recall  f1-score   support\n",
      "\n",
      "           0       0.91      0.82      0.86      2416\n",
      "           1       0.47      0.67      0.56       584\n",
      "\n",
      "    accuracy                           0.79      3000\n",
      "   macro avg       0.69      0.75      0.71      3000\n",
      "weighted avg       0.83      0.79      0.80      3000\n",
      "\n"
     ]
    }
   ],
   "source": [
    "# Se entrena y evalúa el modelo con datos balanceados por oversampling\n",
    "grid_search_svc_esc1.fit(X_train_over_std_esc1, y_train_over)\n",
    "best_svc_over_esc1 = grid_search_svc_esc1.best_estimator_\n",
    "print(best_svc_over_esc1)\n",
    "\n",
    "# Predicciones y evaluación\n",
    "y_pred_svc_over_esc1 = best_svc_over_esc1.predict(X_test_over_std_esc1)\n",
    "y_prob_svc_over_esc1 = best_svc_over_esc1.predict_proba(X_test_over_std_esc1)[:, 1]\n",
    "print(\"Evaluación con Oversampling\")\n",
    "print(confusion_matrix(y_test, y_pred_svc_over_esc1))\n",
    "print(classification_report(y_test, y_pred_svc_over_esc1))"
   ]
  },
  {
   "cell_type": "markdown",
   "metadata": {
    "id": "EB0qgx13APWY"
   },
   "source": [
    "##### 6.1.3 Modelo con Undersampling - SVM"
   ]
  },
  {
   "cell_type": "code",
   "execution_count": 20,
   "metadata": {
    "colab": {
     "base_uri": "https://localhost:8080/"
    },
    "executionInfo": {
     "elapsed": 61016,
     "status": "ok",
     "timestamp": 1725551804283,
     "user": {
      "displayName": "Raham Castillo",
      "userId": "06379344060245885210"
     },
     "user_tz": 300
    },
    "id": "UypmrxbaAaBc",
    "outputId": "e7dab424-9695-4264-e5d6-25621d6ba32e"
   },
   "outputs": [
    {
     "name": "stdout",
     "output_type": "stream",
     "text": [
      "SVC(C=1, probability=True, random_state=42)\n",
      "Evaluación con Undersampling\n",
      "[[1818  598]\n",
      " [ 143  441]]\n",
      "              precision    recall  f1-score   support\n",
      "\n",
      "           0       0.93      0.75      0.83      2416\n",
      "           1       0.42      0.76      0.54       584\n",
      "\n",
      "    accuracy                           0.75      3000\n",
      "   macro avg       0.68      0.75      0.69      3000\n",
      "weighted avg       0.83      0.75      0.77      3000\n",
      "\n"
     ]
    }
   ],
   "source": [
    "# Se entrena y evalúa el modelo con datos balanceados por undersampling\n",
    "grid_search_svc_esc1.fit(X_train_under_std_esc1, y_train_under)\n",
    "best_svc_under_esc1 = grid_search_svc_esc1.best_estimator_\n",
    "print(best_svc_under_esc1)\n",
    "\n",
    "# Predicciones y evaluación\n",
    "y_pred_svc_under_esc1 = best_svc_under_esc1.predict(X_test_under_std_esc1)\n",
    "y_prob_svc_under_esc1 = best_svc_under_esc1.predict_proba(X_test_under_std_esc1)[:, 1]\n",
    "print(\"Evaluación con Undersampling\")\n",
    "print(confusion_matrix(y_test, y_pred_svc_under_esc1))\n",
    "print(classification_report(y_test, y_pred_svc_under_esc1))"
   ]
  },
  {
   "cell_type": "markdown",
   "metadata": {
    "id": "7uwhquCeE65d"
   },
   "source": [
    "##### 7.1. Aplicamos el modelo de Árboles de Decisión"
   ]
  },
  {
   "cell_type": "code",
   "execution_count": 21,
   "metadata": {
    "id": "MZse5O6hS3gV"
   },
   "outputs": [],
   "source": [
    "# Se configura el modelo de Árboles de Decisión y los hiperparámetros para GridSearch\n",
    "dt_esc1 = DecisionTreeClassifier(random_state = 42)\n",
    "\n",
    "parametros_grid_dt_esc1 = {\n",
    "    'max_depth': [5, 10, 20],\n",
    "    'min_samples_split': [2, 5, 10],\n",
    "    'min_samples_leaf': [1, 2, 4],\n",
    "    'criterion': [\"gini\", \"entropy\"],\n",
    "    'max_features': [\"sqrt\", \"log2\"]\n",
    "}\n",
    "\n",
    "# Configuración de GridSearch\n",
    "grid_search_dt_esc1 = GridSearchCV(estimator=dt_esc1,\n",
    "                                  param_grid=parametros_grid_dt_esc1,\n",
    "                                  cv=5,\n",
    "                                  n_jobs=-1,\n",
    "                                  scoring='accuracy')"
   ]
  },
  {
   "cell_type": "markdown",
   "metadata": {
    "id": "SfDOD9wK9Y1L"
   },
   "source": [
    "##### 7.1.1. Modelo con Datos Desbalanceados - Árboles de Decisión"
   ]
  },
  {
   "cell_type": "code",
   "execution_count": 22,
   "metadata": {
    "colab": {
     "base_uri": "https://localhost:8080/"
    },
    "executionInfo": {
     "elapsed": 8516,
     "status": "ok",
     "timestamp": 1725551890870,
     "user": {
      "displayName": "Raham Castillo",
      "userId": "06379344060245885210"
     },
     "user_tz": 300
    },
    "id": "2w5xN7DLS_I2",
    "outputId": "5a8acdaa-4558-44de-ad6f-5cfb6fc98320"
   },
   "outputs": [
    {
     "name": "stdout",
     "output_type": "stream",
     "text": [
      "DecisionTreeClassifier(max_depth=10, max_features='sqrt', min_samples_leaf=4,\n",
      "                       random_state=42)\n",
      "Evaluación con los datos desbalanceados\n",
      "[[2269  147]\n",
      " [ 333  251]]\n",
      "              precision    recall  f1-score   support\n",
      "\n",
      "           0       0.87      0.94      0.90      2416\n",
      "           1       0.63      0.43      0.51       584\n",
      "\n",
      "    accuracy                           0.84      3000\n",
      "   macro avg       0.75      0.68      0.71      3000\n",
      "weighted avg       0.83      0.84      0.83      3000\n",
      "\n"
     ]
    }
   ],
   "source": [
    "grid_search_dt_esc1.fit(X_train_std_esc1, y_train)\n",
    "\n",
    "# Mejor modelo con Árboles de Decisión\n",
    "best_dt_esc1 = grid_search_dt_esc1.best_estimator_\n",
    "print(best_dt_esc1)\n",
    "\n",
    "# Predicciones y evaluación\n",
    "y_pred_dt_esc1 = best_dt_esc1.predict(X_test_std_esc1)\n",
    "y_prob_dt_esc1 = best_dt_esc1.predict_proba(X_test_std_esc1)[:, 1]\n",
    "print(\"Evaluación con los datos desbalanceados\")\n",
    "print(confusion_matrix(y_test, y_pred_dt_esc1))\n",
    "print(classification_report(y_test, y_pred_dt_esc1))"
   ]
  },
  {
   "cell_type": "markdown",
   "metadata": {
    "id": "5M_l19HHZJKf"
   },
   "source": [
    "##### 7.1.2. Modelo con Oversamplig - Árboles de Decisión"
   ]
  },
  {
   "cell_type": "code",
   "execution_count": 23,
   "metadata": {
    "colab": {
     "base_uri": "https://localhost:8080/"
    },
    "executionInfo": {
     "elapsed": 8777,
     "status": "ok",
     "timestamp": 1725551900244,
     "user": {
      "displayName": "Raham Castillo",
      "userId": "06379344060245885210"
     },
     "user_tz": 300
    },
    "id": "h7ySYSx4ZLtD",
    "outputId": "d6fa7e46-7147-4bd5-b64c-f5286675f8ed"
   },
   "outputs": [
    {
     "name": "stdout",
     "output_type": "stream",
     "text": [
      "DecisionTreeClassifier(max_depth=10, max_features='sqrt', min_samples_leaf=2,\n",
      "                       random_state=42)\n",
      "Evaluación con Oversampling\n",
      "[[1870  546]\n",
      " [ 204  380]]\n",
      "              precision    recall  f1-score   support\n",
      "\n",
      "           0       0.90      0.77      0.83      2416\n",
      "           1       0.41      0.65      0.50       584\n",
      "\n",
      "    accuracy                           0.75      3000\n",
      "   macro avg       0.66      0.71      0.67      3000\n",
      "weighted avg       0.81      0.75      0.77      3000\n",
      "\n"
     ]
    }
   ],
   "source": [
    "# Se entrena y evalúa el modelo con datos balanceados por oversampling\n",
    "grid_search_dt_esc1.fit(X_train_over_std_esc1, y_train_over)\n",
    "best_dt_over_esc1 = grid_search_dt_esc1.best_estimator_\n",
    "print(best_dt_over_esc1)\n",
    "\n",
    "# Predicciones y evaluación\n",
    "y_pred_dt_over_esc1 = best_dt_over_esc1.predict(X_test_over_std_esc1)\n",
    "y_prob_dt_over_esc1 = best_dt_over_esc1.predict_proba(X_test_over_std_esc1)[:, 1]\n",
    "print(\"Evaluación con Oversampling\")\n",
    "print(confusion_matrix(y_test, y_pred_dt_over_esc1))\n",
    "print(classification_report(y_test, y_pred_dt_over_esc1))"
   ]
  },
  {
   "cell_type": "markdown",
   "metadata": {
    "id": "fLRtlP4Ge3X2"
   },
   "source": [
    "##### 7.1.3 Modelo con Undersampling - Árboles de Decisión"
   ]
  },
  {
   "cell_type": "code",
   "execution_count": 24,
   "metadata": {
    "colab": {
     "base_uri": "https://localhost:8080/"
    },
    "executionInfo": {
     "elapsed": 5573,
     "status": "ok",
     "timestamp": 1725551905792,
     "user": {
      "displayName": "Raham Castillo",
      "userId": "06379344060245885210"
     },
     "user_tz": 300
    },
    "id": "TOQsdc8qe5QC",
    "outputId": "9bdc3298-482e-47b9-ad0b-f2ba57f2c66b"
   },
   "outputs": [
    {
     "name": "stdout",
     "output_type": "stream",
     "text": [
      "DecisionTreeClassifier(max_depth=10, max_features='sqrt', random_state=42)\n",
      "Evaluación con Undersampling\n",
      "[[1620  796]\n",
      " [ 140  444]]\n",
      "              precision    recall  f1-score   support\n",
      "\n",
      "           0       0.92      0.67      0.78      2416\n",
      "           1       0.36      0.76      0.49       584\n",
      "\n",
      "    accuracy                           0.69      3000\n",
      "   macro avg       0.64      0.72      0.63      3000\n",
      "weighted avg       0.81      0.69      0.72      3000\n",
      "\n"
     ]
    }
   ],
   "source": [
    "# Se entrena y evalúa el modelo con datos balanceados por undersampling\n",
    "grid_search_dt_esc1.fit(X_train_under_std_esc1, y_train_under)\n",
    "best_dt_under_esc1 = grid_search_dt_esc1.best_estimator_\n",
    "print(best_dt_under_esc1)\n",
    "\n",
    "# Predicciones y evaluación\n",
    "y_pred_dt_under_esc1 = best_dt_under_esc1.predict(X_test_under_std_esc1)\n",
    "y_prob_dt_under_esc1 = best_dt_under_esc1.predict_proba(X_test_under_std_esc1)[:, 1]\n",
    "print(\"Evaluación con Undersampling\")\n",
    "print(confusion_matrix(y_test, y_pred_dt_under_esc1))\n",
    "print(classification_report(y_test, y_pred_dt_under_esc1))"
   ]
  },
  {
   "cell_type": "markdown",
   "metadata": {
    "id": "5eC4g5I-G5mK"
   },
   "source": [
    "#### 8.1. Aplicamos el modelo de Red Neuronal MLP"
   ]
  },
  {
   "cell_type": "code",
   "execution_count": 25,
   "metadata": {
    "id": "ndFRLR1eHHAb"
   },
   "outputs": [],
   "source": [
    "# Configurar el modelo de una Red Neuronal MLP y los hiperparámetros para GridSearch\n",
    "mlp_esc1 = MLPClassifier(random_state=42, max_iter=2000)\n",
    "\n",
    "parametros_grid_mlp_esc1 = {\n",
    "    'hidden_layer_sizes': [(50,)],\n",
    "    'activation': ['relu'],\n",
    "    'solver': ['sgd','adam'],\n",
    "    'alpha': [0.0001, 0.001],\n",
    "    'learning_rate': ['adaptive', 'constant']\n",
    "}\n",
    "# Usar GridSearchCV para encontrar los mejores hiperparámetros\n",
    "grid_search_mlp_esc1 = GridSearchCV(estimator=mlp_esc1,\n",
    "                                    param_grid=parametros_grid_mlp_esc1,\n",
    "                                    cv=5,\n",
    "                                    scoring='accuracy')"
   ]
  },
  {
   "cell_type": "markdown",
   "metadata": {
    "id": "wYWoZXylLrWc"
   },
   "source": [
    "##### 8.1.1. Modelo con Datos Desbalanceados - Red Neuronal MLP"
   ]
  },
  {
   "cell_type": "code",
   "execution_count": 26,
   "metadata": {
    "colab": {
     "base_uri": "https://localhost:8080/"
    },
    "executionInfo": {
     "elapsed": 474261,
     "status": "ok",
     "timestamp": 1725552485077,
     "user": {
      "displayName": "Raham Castillo",
      "userId": "06379344060245885210"
     },
     "user_tz": 300
    },
    "id": "AApuP6NKLr8I",
    "outputId": "cd05dbea-cf13-4ea0-c2e9-3d342fc03ddf"
   },
   "outputs": [
    {
     "name": "stdout",
     "output_type": "stream",
     "text": [
      "MLPClassifier(alpha=0.001, hidden_layer_sizes=(50,), learning_rate='adaptive',\n",
      "              max_iter=2000, random_state=42)\n",
      "Evaluación con datos desbalanceados:\n",
      "[[2316  100]\n",
      " [ 299  285]]\n",
      "              precision    recall  f1-score   support\n",
      "\n",
      "           0       0.89      0.96      0.92      2416\n",
      "           1       0.74      0.49      0.59       584\n",
      "\n",
      "    accuracy                           0.87      3000\n",
      "   macro avg       0.81      0.72      0.75      3000\n",
      "weighted avg       0.86      0.87      0.86      3000\n",
      "\n"
     ]
    }
   ],
   "source": [
    "# Se realiza el entrenamiento del modelo con datos desbalanceados\n",
    "grid_search_mlp_esc1.fit(X_train_std_esc1, y_train)\n",
    "\n",
    "# Mejor modelo MLP\n",
    "best_mlp_esc1 = grid_search_mlp_esc1.best_estimator_\n",
    "print(best_mlp_esc1)\n",
    "\n",
    "# Predicciones y evaluación\n",
    "y_pred_mlp_esc1 = best_mlp_esc1.predict(X_test_std_esc1)\n",
    "y_prob_mlp_esc1 = best_mlp_esc1.predict_proba(X_test_std_esc1)[:, 1]\n",
    "print(\"Evaluación con datos desbalanceados:\")\n",
    "print(confusion_matrix(y_test, y_pred_mlp_esc1))\n",
    "print(classification_report(y_test, y_pred_mlp_esc1))"
   ]
  },
  {
   "cell_type": "markdown",
   "metadata": {
    "id": "w7Dsm8tqNFnN"
   },
   "source": [
    "##### 8.1.2. Modelo con Oversamplig - Red Neuronal MLP"
   ]
  },
  {
   "cell_type": "code",
   "execution_count": 27,
   "metadata": {
    "colab": {
     "base_uri": "https://localhost:8080/"
    },
    "executionInfo": {
     "elapsed": 664293,
     "status": "ok",
     "timestamp": 1725553149366,
     "user": {
      "displayName": "Raham Castillo",
      "userId": "06379344060245885210"
     },
     "user_tz": 300
    },
    "id": "MZz20wpINGCA",
    "outputId": "590d347b-debb-457d-c311-58192ad7441a"
   },
   "outputs": [
    {
     "name": "stdout",
     "output_type": "stream",
     "text": [
      "MLPClassifier(alpha=0.001, hidden_layer_sizes=(50,), learning_rate='adaptive',\n",
      "              max_iter=2000, random_state=42)\n",
      "Evaluación con Oversampling (SMOTE):\n",
      "[[1943  473]\n",
      " [ 172  412]]\n",
      "              precision    recall  f1-score   support\n",
      "\n",
      "           0       0.92      0.80      0.86      2416\n",
      "           1       0.47      0.71      0.56       584\n",
      "\n",
      "    accuracy                           0.79      3000\n",
      "   macro avg       0.69      0.75      0.71      3000\n",
      "weighted avg       0.83      0.79      0.80      3000\n",
      "\n"
     ]
    }
   ],
   "source": [
    "# Se realiza el entrenamiento del modelo con datos balanceados por oversampling\n",
    "grid_search_mlp_esc1.fit(X_train_over_std_esc1, y_train_over)\n",
    "best_mlp_over_esc1 = grid_search_mlp_esc1.best_estimator_\n",
    "print(best_mlp_over_esc1)\n",
    "\n",
    "# Predicciones y evaluación\n",
    "y_pred_mlp_over_esc1 = best_mlp_over_esc1.predict(X_test_over_std_esc1)\n",
    "y_prob_mlp_over_esc1 = best_mlp_over_esc1.predict_proba(X_test_over_std_esc1)[:, 1]\n",
    "print(\"Evaluación con Oversampling (SMOTE):\")\n",
    "print(confusion_matrix(y_test, y_pred_mlp_over_esc1))\n",
    "print(classification_report(y_test, y_pred_mlp_over_esc1))"
   ]
  },
  {
   "cell_type": "markdown",
   "metadata": {
    "id": "Vt64ayzwSu6h"
   },
   "source": [
    "##### 8.1.3 Modelo con Undersampling - Red Neuronal MLP"
   ]
  },
  {
   "cell_type": "code",
   "execution_count": 28,
   "metadata": {
    "colab": {
     "base_uri": "https://localhost:8080/"
    },
    "executionInfo": {
     "elapsed": 350590,
     "status": "ok",
     "timestamp": 1725553573115,
     "user": {
      "displayName": "Raham Castillo",
      "userId": "06379344060245885210"
     },
     "user_tz": 300
    },
    "id": "9KznImuzSyRH",
    "outputId": "77591918-56eb-4c2b-9b05-bb13820a843b"
   },
   "outputs": [
    {
     "name": "stdout",
     "output_type": "stream",
     "text": [
      "MLPClassifier(alpha=0.001, hidden_layer_sizes=(50,), max_iter=2000,\n",
      "              random_state=42, solver='sgd')\n",
      "Evaluación con Undersampling:\n",
      "[[1815  601]\n",
      " [ 144  440]]\n",
      "              precision    recall  f1-score   support\n",
      "\n",
      "           0       0.93      0.75      0.83      2416\n",
      "           1       0.42      0.75      0.54       584\n",
      "\n",
      "    accuracy                           0.75      3000\n",
      "   macro avg       0.67      0.75      0.69      3000\n",
      "weighted avg       0.83      0.75      0.77      3000\n",
      "\n"
     ]
    }
   ],
   "source": [
    "# Se realiza el entrenamiento del modelo con datos balanceados por undersampling\n",
    "grid_search_mlp_esc1.fit(X_train_under_std_esc1, y_train_under)\n",
    "best_mlp_under_esc1 = grid_search_mlp_esc1.best_estimator_\n",
    "print(best_mlp_under_esc1)\n",
    "\n",
    "# Predicciones y evaluación\n",
    "y_pred_mlp_under_esc1 = best_mlp_under_esc1.predict(X_test_under_std_esc1)\n",
    "y_prob_mlp_under_esc1 = best_mlp_under_esc1.predict_proba(X_test_under_std_esc1)[:, 1]\n",
    "print(\"Evaluación con Undersampling:\")\n",
    "print(confusion_matrix(y_test, y_pred_mlp_under_esc1))\n",
    "print(classification_report(y_test, y_pred_mlp_under_esc1))"
   ]
  },
  {
   "cell_type": "markdown",
   "metadata": {
    "id": "YTbT6GdWmqr7"
   },
   "source": [
    "#### 9.1. Aplicamos el algoritmo XGBoost"
   ]
  },
  {
   "cell_type": "code",
   "execution_count": 29,
   "metadata": {
    "id": "Gx-Xyjkwxo5m"
   },
   "outputs": [],
   "source": [
    "# Se configura el modelo XGBoost y los hiperparámetros para GridSearch\n",
    "xgboost_esc1 = XGBClassifier(random_state=42)\n",
    "parametros_grid_xgb_esc1 = {\n",
    "    'n_estimators': [100, 150, 200],\n",
    "    'max_depth': [2, 3, 5],\n",
    "    'learning_rate': [0.01, 0.1, 1]\n",
    "}\n",
    "\n",
    "# Se usa GridSearchCV para encontrar los mejores hiperparámetros\n",
    "grid_search_xgb_esc1 = GridSearchCV(estimator=xgboost_esc1,\n",
    "                                    param_grid=parametros_grid_xgb_esc1,\n",
    "                                    cv=5,\n",
    "                                    scoring='accuracy')"
   ]
  },
  {
   "cell_type": "markdown",
   "metadata": {
    "id": "DNA82ZCbsfpj"
   },
   "source": [
    "##### 9.1.1. Modelo con Datos Desbalanceados - XGBoost"
   ]
  },
  {
   "cell_type": "code",
   "execution_count": 30,
   "metadata": {
    "colab": {
     "base_uri": "https://localhost:8080/"
    },
    "executionInfo": {
     "elapsed": 29164,
     "status": "ok",
     "timestamp": 1725553632465,
     "user": {
      "displayName": "Raham Castillo",
      "userId": "06379344060245885210"
     },
     "user_tz": 300
    },
    "id": "Vorq2QNKshXJ",
    "outputId": "244fbd50-1471-4e57-b3a3-00779542bfdd"
   },
   "outputs": [
    {
     "name": "stdout",
     "output_type": "stream",
     "text": [
      "XGBClassifier(base_score=None, booster=None, callbacks=None,\n",
      "              colsample_bylevel=None, colsample_bynode=None,\n",
      "              colsample_bytree=None, device=None, early_stopping_rounds=None,\n",
      "              enable_categorical=False, eval_metric=None, feature_types=None,\n",
      "              feature_weights=None, gamma=None, grow_policy=None,\n",
      "              importance_type=None, interaction_constraints=None,\n",
      "              learning_rate=0.1, max_bin=None, max_cat_threshold=None,\n",
      "              max_cat_to_onehot=None, max_delta_step=None, max_depth=5,\n",
      "              max_leaves=None, min_child_weight=None, missing=nan,\n",
      "              monotone_constraints=None, multi_strategy=None, n_estimators=100,\n",
      "              n_jobs=None, num_parallel_tree=None, ...)\n",
      "Evaluación con datos desbalanceados:\n",
      "[[2331   85]\n",
      " [ 306  278]]\n",
      "              precision    recall  f1-score   support\n",
      "\n",
      "           0       0.88      0.96      0.92      2416\n",
      "           1       0.77      0.48      0.59       584\n",
      "\n",
      "    accuracy                           0.87      3000\n",
      "   macro avg       0.82      0.72      0.75      3000\n",
      "weighted avg       0.86      0.87      0.86      3000\n",
      "\n"
     ]
    }
   ],
   "source": [
    "grid_search_xgb_esc1.fit(X_train_std_esc1, y_train)\n",
    "\n",
    "# Mejor modelo XGBoost\n",
    "best_xgb_esc1 = grid_search_xgb_esc1.best_estimator_\n",
    "print(best_xgb_esc1)\n",
    "\n",
    "# Predicciones y evaluación\n",
    "y_pred_xgb_esc1 = best_xgb_esc1.predict(X_test_std_esc1)\n",
    "y_prob_xgb_esc1 = best_xgb_esc1.predict_proba(X_test_std_esc1)[:, 1]\n",
    "print(\"Evaluación con datos desbalanceados:\")\n",
    "print(confusion_matrix(y_test, y_pred_xgb_esc1))\n",
    "print(classification_report(y_test, y_pred_xgb_esc1))"
   ]
  },
  {
   "cell_type": "markdown",
   "metadata": {
    "id": "dpNTRg88shpi"
   },
   "source": [
    "##### 9.1.2. Modelo con Oversamplig - XGBoost"
   ]
  },
  {
   "cell_type": "code",
   "execution_count": 31,
   "metadata": {
    "colab": {
     "base_uri": "https://localhost:8080/"
    },
    "executionInfo": {
     "elapsed": 35175,
     "status": "ok",
     "timestamp": 1725553667602,
     "user": {
      "displayName": "Raham Castillo",
      "userId": "06379344060245885210"
     },
     "user_tz": 300
    },
    "id": "83mwiYp_sl_A",
    "outputId": "e9436898-639c-4211-dcd3-9d02cf657530"
   },
   "outputs": [
    {
     "name": "stdout",
     "output_type": "stream",
     "text": [
      "XGBClassifier(base_score=None, booster=None, callbacks=None,\n",
      "              colsample_bylevel=None, colsample_bynode=None,\n",
      "              colsample_bytree=None, device=None, early_stopping_rounds=None,\n",
      "              enable_categorical=False, eval_metric=None, feature_types=None,\n",
      "              feature_weights=None, gamma=None, grow_policy=None,\n",
      "              importance_type=None, interaction_constraints=None,\n",
      "              learning_rate=1, max_bin=None, max_cat_threshold=None,\n",
      "              max_cat_to_onehot=None, max_delta_step=None, max_depth=5,\n",
      "              max_leaves=None, min_child_weight=None, missing=nan,\n",
      "              monotone_constraints=None, multi_strategy=None, n_estimators=200,\n",
      "              n_jobs=None, num_parallel_tree=None, ...)\n",
      "Evaluación con Oversampling\n",
      "[[2047  369]\n",
      " [ 243  341]]\n",
      "              precision    recall  f1-score   support\n",
      "\n",
      "           0       0.89      0.85      0.87      2416\n",
      "           1       0.48      0.58      0.53       584\n",
      "\n",
      "    accuracy                           0.80      3000\n",
      "   macro avg       0.69      0.72      0.70      3000\n",
      "weighted avg       0.81      0.80      0.80      3000\n",
      "\n"
     ]
    }
   ],
   "source": [
    "# Se entrena y evalúa el modelo con datos balanceados por oversampling\n",
    "grid_search_xgb_esc1.fit(X_train_over_std_esc1, y_train_over)\n",
    "best_xgb_over_esc1 = grid_search_xgb_esc1.best_estimator_\n",
    "print(best_xgb_over_esc1)\n",
    "\n",
    "# Predicciones y evaluación\n",
    "y_pred_xgb_over_esc1 = best_xgb_over_esc1.predict(X_test_over_std_esc1)\n",
    "y_prob_xgb_over_esc1 = best_xgb_over_esc1.predict_proba(X_test_over_std_esc1)[:, 1]\n",
    "print(\"Evaluación con Oversampling\")\n",
    "print(confusion_matrix(y_test, y_pred_xgb_over_esc1))\n",
    "print(classification_report(y_test, y_pred_xgb_over_esc1))"
   ]
  },
  {
   "cell_type": "markdown",
   "metadata": {
    "id": "PWS00VZm2pWE"
   },
   "source": [
    "##### 9.1.3 Modelo con Undersampling - XGBoost"
   ]
  },
  {
   "cell_type": "code",
   "execution_count": 32,
   "metadata": {
    "colab": {
     "base_uri": "https://localhost:8080/"
    },
    "executionInfo": {
     "elapsed": 36121,
     "status": "ok",
     "timestamp": 1725554392119,
     "user": {
      "displayName": "Raham Castillo",
      "userId": "06379344060245885210"
     },
     "user_tz": 300
    },
    "id": "oJ1hwly92n2H",
    "outputId": "368b22d7-9931-4fc2-cd40-bd8de9d8297d"
   },
   "outputs": [
    {
     "name": "stdout",
     "output_type": "stream",
     "text": [
      "XGBClassifier(base_score=None, booster=None, callbacks=None,\n",
      "              colsample_bylevel=None, colsample_bynode=None,\n",
      "              colsample_bytree=None, device=None, early_stopping_rounds=None,\n",
      "              enable_categorical=False, eval_metric=None, feature_types=None,\n",
      "              feature_weights=None, gamma=None, grow_policy=None,\n",
      "              importance_type=None, interaction_constraints=None,\n",
      "              learning_rate=0.1, max_bin=None, max_cat_threshold=None,\n",
      "              max_cat_to_onehot=None, max_delta_step=None, max_depth=2,\n",
      "              max_leaves=None, min_child_weight=None, missing=nan,\n",
      "              monotone_constraints=None, multi_strategy=None, n_estimators=100,\n",
      "              n_jobs=None, num_parallel_tree=None, ...)\n",
      "Evaluación con Undersampling\n",
      "[[1932  484]\n",
      " [ 154  430]]\n",
      "              precision    recall  f1-score   support\n",
      "\n",
      "           0       0.93      0.80      0.86      2416\n",
      "           1       0.47      0.74      0.57       584\n",
      "\n",
      "    accuracy                           0.79      3000\n",
      "   macro avg       0.70      0.77      0.72      3000\n",
      "weighted avg       0.84      0.79      0.80      3000\n",
      "\n"
     ]
    }
   ],
   "source": [
    "# Se entrena y evalúa el modelo con datos balanceados por undersampling\n",
    "grid_search_xgb_esc1.fit(X_train_under_std_esc1, y_train_under)\n",
    "best_xgb_under_esc1 = grid_search_xgb_esc1.best_estimator_\n",
    "print(best_xgb_under_esc1)\n",
    "\n",
    "# Predicciones y evaluación\n",
    "y_pred_xgb_under_esc1 = best_xgb_under_esc1.predict(X_test_under_std_esc1)\n",
    "y_prob_xgb_under_esc1 = best_xgb_under_esc1.predict_proba(X_test_under_std_esc1)[:, 1]\n",
    "print(\"Evaluación con Undersampling\")\n",
    "print(confusion_matrix(y_test, y_pred_xgb_under_esc1))\n",
    "print(classification_report(y_test, y_pred_xgb_under_esc1))"
   ]
  },
  {
   "cell_type": "markdown",
   "metadata": {
    "id": "k-3o5AnB2no5"
   },
   "source": [
    "#### 10.1. Aplicamos el algoritmo AdaBoost"
   ]
  },
  {
   "cell_type": "code",
   "execution_count": 33,
   "metadata": {
    "id": "TAMQAupR3G0q"
   },
   "outputs": [],
   "source": [
    "# Se configura el modelo AdaBoost y los hiperparámetros para GridSearch\n",
    "adaboost_esc1 = AdaBoostClassifier(random_state=42)\n",
    "param_grid_adaboost_esc1 = {\n",
    "    'n_estimators': [50, 100, 200],\n",
    "    'learning_rate': [0.01, 0.1, 1.0]\n",
    "}\n",
    "\n",
    "# Usar GridSearchCV para encontrar los mejores hiperparámetros\n",
    "grid_search_adaboost_esc1 = GridSearchCV(estimator=adaboost_esc1,\n",
    "                                        param_grid=param_grid_adaboost_esc1,\n",
    "                                        cv=5,\n",
    "                                        scoring='accuracy')"
   ]
  },
  {
   "cell_type": "markdown",
   "metadata": {
    "id": "-L7N_5Kf9uSr"
   },
   "source": [
    "##### 10.1.1. Modelo con Datos Desbalanceados - AdaBoost"
   ]
  },
  {
   "cell_type": "code",
   "execution_count": 34,
   "metadata": {
    "colab": {
     "base_uri": "https://localhost:8080/"
    },
    "executionInfo": {
     "elapsed": 53670,
     "status": "ok",
     "timestamp": 1725554445785,
     "user": {
      "displayName": "Raham Castillo",
      "userId": "06379344060245885210"
     },
     "user_tz": 300
    },
    "id": "MOfpEIMi3Gx8",
    "outputId": "c32cd14a-aefa-4b51-ef7d-acd859c31f3e"
   },
   "outputs": [
    {
     "name": "stdout",
     "output_type": "stream",
     "text": [
      "AdaBoostClassifier(random_state=42)\n",
      "Evaluación con datos desbalanceados:\n",
      "[[2319   97]\n",
      " [ 321  263]]\n",
      "              precision    recall  f1-score   support\n",
      "\n",
      "           0       0.88      0.96      0.92      2416\n",
      "           1       0.73      0.45      0.56       584\n",
      "\n",
      "    accuracy                           0.86      3000\n",
      "   macro avg       0.80      0.71      0.74      3000\n",
      "weighted avg       0.85      0.86      0.85      3000\n",
      "\n"
     ]
    }
   ],
   "source": [
    "# Se realiza el modelo con datos desbalanceados\n",
    "grid_search_adaboost_esc1.fit(X_train_std_esc1, y_train)\n",
    "\n",
    "# Mejor modelo AdaBoost\n",
    "best_adaboost_esc1 = grid_search_adaboost_esc1.best_estimator_\n",
    "print(best_adaboost_esc1)\n",
    "\n",
    "# Predicciones y evaluación\n",
    "y_pred_adaboost_esc1 = best_adaboost_esc1.predict(X_test_std_esc1)\n",
    "y_prob_adaboost_esc1 = best_adaboost_esc1.predict_proba(X_test_std_esc1)[:, 1]\n",
    "print(\"Evaluación con datos desbalanceados:\")\n",
    "print(confusion_matrix(y_test, y_pred_adaboost_esc1))\n",
    "print(classification_report(y_test, y_pred_adaboost_esc1))\n"
   ]
  },
  {
   "cell_type": "markdown",
   "metadata": {
    "id": "c5JN_cGb-Uo8"
   },
   "source": [
    "##### 10.1.2. Modelo con Oversamplig - AdaBoost"
   ]
  },
  {
   "cell_type": "code",
   "execution_count": 35,
   "metadata": {
    "colab": {
     "base_uri": "https://localhost:8080/"
    },
    "executionInfo": {
     "elapsed": 62349,
     "status": "ok",
     "timestamp": 1725554508126,
     "user": {
      "displayName": "Raham Castillo",
      "userId": "06379344060245885210"
     },
     "user_tz": 300
    },
    "id": "E7PAWW8k3Gvl",
    "outputId": "a5e66440-46d7-4a90-d9b3-db1f3d57f754"
   },
   "outputs": [
    {
     "name": "stdout",
     "output_type": "stream",
     "text": [
      "AdaBoostClassifier(n_estimators=200, random_state=42)\n",
      "Evaluación con Oversampling\n",
      "[[1987  429]\n",
      " [ 176  408]]\n",
      "              precision    recall  f1-score   support\n",
      "\n",
      "           0       0.92      0.82      0.87      2416\n",
      "           1       0.49      0.70      0.57       584\n",
      "\n",
      "    accuracy                           0.80      3000\n",
      "   macro avg       0.70      0.76      0.72      3000\n",
      "weighted avg       0.83      0.80      0.81      3000\n",
      "\n"
     ]
    }
   ],
   "source": [
    "# Se entrena y evalúa el modelo con datos balanceados por oversampling\n",
    "grid_search_adaboost_esc1.fit(X_train_over_std_esc1, y_train_over)\n",
    "best_adaboost_over_esc1 = grid_search_adaboost_esc1.best_estimator_\n",
    "print(best_adaboost_over_esc1)\n",
    "\n",
    "# Predicciones y evaluación\n",
    "y_pred_adaboost_over_esc1 = best_adaboost_over_esc1.predict(X_test_over_std_esc1)\n",
    "y_prob_adaboost_over_esc1 = best_adaboost_over_esc1.predict_proba(X_test_under_std_esc1)[:, 1]\n",
    "print(\"Evaluación con Oversampling\")\n",
    "print(confusion_matrix(y_test, y_pred_adaboost_over_esc1))\n",
    "print(classification_report(y_test, y_pred_adaboost_over_esc1))"
   ]
  },
  {
   "cell_type": "markdown",
   "metadata": {
    "id": "97LTvfR3_Imu"
   },
   "source": [
    "##### 10.1.3 Modelo con Undersampling - AdaBoost"
   ]
  },
  {
   "cell_type": "code",
   "execution_count": 36,
   "metadata": {
    "colab": {
     "base_uri": "https://localhost:8080/"
    },
    "executionInfo": {
     "elapsed": 26714,
     "status": "ok",
     "timestamp": 1725554534835,
     "user": {
      "displayName": "Raham Castillo",
      "userId": "06379344060245885210"
     },
     "user_tz": 300
    },
    "id": "4NgVMAoq3GtA",
    "outputId": "8dc576b7-175b-41de-f10e-474a7fa4063d"
   },
   "outputs": [
    {
     "name": "stdout",
     "output_type": "stream",
     "text": [
      "AdaBoostClassifier(n_estimators=100, random_state=42)\n",
      "Evaluación con Undersampling\n",
      "[[1848  568]\n",
      " [ 127  457]]\n",
      "              precision    recall  f1-score   support\n",
      "\n",
      "           0       0.94      0.76      0.84      2416\n",
      "           1       0.45      0.78      0.57       584\n",
      "\n",
      "    accuracy                           0.77      3000\n",
      "   macro avg       0.69      0.77      0.70      3000\n",
      "weighted avg       0.84      0.77      0.79      3000\n",
      "\n"
     ]
    }
   ],
   "source": [
    "# Se entrena y evalúa el modelo con datos balanceados por undersampling\n",
    "grid_search_adaboost_esc1.fit(X_train_under_std_esc1, y_train_under)\n",
    "best_adaboost_under_esc1 = grid_search_adaboost_esc1.best_estimator_\n",
    "print(best_adaboost_under_esc1)\n",
    "\n",
    "# Predicciones y evaluación\n",
    "y_pred_adaboost_under_esc1 = best_adaboost_under_esc1.predict(X_test_under_std_esc1)\n",
    "y_prob_adaboost_under_esc1 = best_adaboost_under_esc1.predict_proba(X_test_under_std_esc1)[:, 1]\n",
    "print(\"Evaluación con Undersampling\")\n",
    "print(confusion_matrix(y_test, y_pred_adaboost_under_esc1))\n",
    "print(classification_report(y_test, y_pred_adaboost_under_esc1))"
   ]
  },
  {
   "cell_type": "code",
   "execution_count": 37,
   "metadata": {},
   "outputs": [],
   "source": [
    "import pandas as pd\n",
    "import keras\n",
    "from sklearn.model_selection import train_test_split\n",
    "from sklearn.preprocessing import StandardScaler\n",
    "from keras import layers\n",
    "from keras import models\n",
    "import pandas as pd\n",
    "from imblearn.over_sampling import SMOTE\n",
    "from imblearn.under_sampling import RandomUnderSampler\n",
    "from sklearn.metrics import classification_report, confusion_matrix\n",
    "\n",
    "from collections import Counter\n",
    "import matplotlib.pyplot as plt\n",
    "import seaborn as sns"
   ]
  },
  {
   "cell_type": "markdown",
   "metadata": {},
   "source": [
    "#### Aplicamos el modelo de una Red Neuronal Profunda (DNN)"
   ]
  },
  {
   "cell_type": "code",
   "execution_count": 38,
   "metadata": {},
   "outputs": [],
   "source": [
    "import tensorflow as tf\n",
    "import numpy as np\n",
    "\n",
    "# Establecer semilla aleatoria para garantizar resultados reproducibles\n",
    "np.random.seed(42)  # Para operaciones que dependen de NumPy\n",
    "tf.random.set_seed(42)  # Para TensorFlow"
   ]
  },
  {
   "cell_type": "code",
   "execution_count": 39,
   "metadata": {},
   "outputs": [
    {
     "name": "stderr",
     "output_type": "stream",
     "text": [
      "c:\\Users\\rdcastillo47\\Documents\\RAHAM_UNIVERSIDAD\\HERRAMIENTAS\\appSIFIA_copia\\venv\\lib\\site-packages\\keras\\src\\layers\\core\\dense.py:87: UserWarning: Do not pass an `input_shape`/`input_dim` argument to a layer. When using Sequential models, prefer using an `Input(shape)` object as the first layer in the model instead.\n",
      "  super().__init__(activity_regularizer=activity_regularizer, **kwargs)\n"
     ]
    }
   ],
   "source": [
    "# Definir y entrenar el modelo DNN\n",
    "model = keras.Sequential()\n",
    "model.add(layers.Dense(64, input_dim=X_train_std_esc1.shape[1], activation='relu'))\n",
    "model.add(layers.Dense(32, activation='relu'))\n",
    "model.add(layers.Dense(16, activation='relu'))\n",
    "model.add(layers.Dense(1, activation='sigmoid'))"
   ]
  },
  {
   "cell_type": "code",
   "execution_count": 40,
   "metadata": {},
   "outputs": [
    {
     "name": "stdout",
     "output_type": "stream",
     "text": [
      "Epoch 1/10\n",
      "\u001b[1m350/350\u001b[0m \u001b[32m━━━━━━━━━━━━━━━━━━━━\u001b[0m\u001b[37m\u001b[0m \u001b[1m2s\u001b[0m 2ms/step - accuracy: 0.7600 - loss: 0.5040 - val_accuracy: 0.8407 - val_loss: 0.3932\n",
      "Epoch 2/10\n",
      "\u001b[1m350/350\u001b[0m \u001b[32m━━━━━━━━━━━━━━━━━━━━\u001b[0m\u001b[37m\u001b[0m \u001b[1m1s\u001b[0m 2ms/step - accuracy: 0.8353 - loss: 0.3891 - val_accuracy: 0.8450 - val_loss: 0.3684\n",
      "Epoch 3/10\n",
      "\u001b[1m350/350\u001b[0m \u001b[32m━━━━━━━━━━━━━━━━━━━━\u001b[0m\u001b[37m\u001b[0m \u001b[1m0s\u001b[0m 1ms/step - accuracy: 0.8438 - loss: 0.3670 - val_accuracy: 0.8471 - val_loss: 0.3614\n",
      "Epoch 4/10\n",
      "\u001b[1m350/350\u001b[0m \u001b[32m━━━━━━━━━━━━━━━━━━━━\u001b[0m\u001b[37m\u001b[0m \u001b[1m1s\u001b[0m 1ms/step - accuracy: 0.8469 - loss: 0.3589 - val_accuracy: 0.8479 - val_loss: 0.3587\n",
      "Epoch 5/10\n",
      "\u001b[1m350/350\u001b[0m \u001b[32m━━━━━━━━━━━━━━━━━━━━\u001b[0m\u001b[37m\u001b[0m \u001b[1m1s\u001b[0m 1ms/step - accuracy: 0.8534 - loss: 0.3527 - val_accuracy: 0.8507 - val_loss: 0.3567\n",
      "Epoch 6/10\n",
      "\u001b[1m350/350\u001b[0m \u001b[32m━━━━━━━━━━━━━━━━━━━━\u001b[0m\u001b[37m\u001b[0m \u001b[1m0s\u001b[0m 1ms/step - accuracy: 0.8540 - loss: 0.3473 - val_accuracy: 0.8529 - val_loss: 0.3544\n",
      "Epoch 7/10\n",
      "\u001b[1m350/350\u001b[0m \u001b[32m━━━━━━━━━━━━━━━━━━━━\u001b[0m\u001b[37m\u001b[0m \u001b[1m0s\u001b[0m 1ms/step - accuracy: 0.8559 - loss: 0.3431 - val_accuracy: 0.8514 - val_loss: 0.3534\n",
      "Epoch 8/10\n",
      "\u001b[1m350/350\u001b[0m \u001b[32m━━━━━━━━━━━━━━━━━━━━\u001b[0m\u001b[37m\u001b[0m \u001b[1m1s\u001b[0m 1ms/step - accuracy: 0.8555 - loss: 0.3393 - val_accuracy: 0.8521 - val_loss: 0.3543\n",
      "Epoch 9/10\n",
      "\u001b[1m350/350\u001b[0m \u001b[32m━━━━━━━━━━━━━━━━━━━━\u001b[0m\u001b[37m\u001b[0m \u001b[1m0s\u001b[0m 1ms/step - accuracy: 0.8574 - loss: 0.3359 - val_accuracy: 0.8486 - val_loss: 0.3535\n",
      "Epoch 10/10\n",
      "\u001b[1m350/350\u001b[0m \u001b[32m━━━━━━━━━━━━━━━━━━━━\u001b[0m\u001b[37m\u001b[0m \u001b[1m0s\u001b[0m 1ms/step - accuracy: 0.8573 - loss: 0.3326 - val_accuracy: 0.8514 - val_loss: 0.3538\n",
      "\u001b[1m94/94\u001b[0m \u001b[32m━━━━━━━━━━━━━━━━━━━━\u001b[0m\u001b[37m\u001b[0m \u001b[1m0s\u001b[0m 896us/step\n",
      "[[2340   76]\n",
      " [ 333  251]]\n",
      "              precision    recall  f1-score   support\n",
      "\n",
      "           0       0.88      0.97      0.92      2416\n",
      "           1       0.77      0.43      0.55       584\n",
      "\n",
      "    accuracy                           0.86      3000\n",
      "   macro avg       0.82      0.70      0.74      3000\n",
      "weighted avg       0.85      0.86      0.85      3000\n",
      "\n"
     ]
    }
   ],
   "source": [
    "# Compilación y entrenamiento\n",
    "model.compile(optimizer='adam', loss='binary_crossentropy', metrics=['accuracy'])\n",
    "model.fit(X_train_std_esc1, y_train, epochs=10, batch_size=16, validation_split=0.2)\n",
    "\n",
    "# Evaluación\n",
    "y_pred = model.predict(X_test_std_esc1)\n",
    "y_pred_etiquetas = (y_pred > 0.5)  # Convertir probabilidades en etiquetas\n",
    "print(confusion_matrix(y_test, y_pred_etiquetas))\n",
    "print(classification_report(y_test, y_pred_etiquetas))"
   ]
  },
  {
   "cell_type": "code",
   "execution_count": 41,
   "metadata": {},
   "outputs": [
    {
     "name": "stdout",
     "output_type": "stream",
     "text": [
      "              precision    recall  f1-score   support\n",
      "\n",
      "           0       0.88      0.97      0.92      2416\n",
      "           1       0.77      0.43      0.55       584\n",
      "\n",
      "    accuracy                           0.86      3000\n",
      "   macro avg       0.82      0.70      0.74      3000\n",
      "weighted avg       0.85      0.86      0.85      3000\n",
      "\n"
     ]
    }
   ],
   "source": [
    "print(classification_report(y_test, y_pred_etiquetas))"
   ]
  },
  {
   "cell_type": "markdown",
   "metadata": {},
   "source": [
    "##### 4.2. Aplicamos el modelo de una Red Neuronal Profunda (DNN) con Oversampling"
   ]
  },
  {
   "cell_type": "code",
   "execution_count": 42,
   "metadata": {},
   "outputs": [
    {
     "name": "stderr",
     "output_type": "stream",
     "text": [
      "c:\\Users\\rdcastillo47\\Documents\\RAHAM_UNIVERSIDAD\\HERRAMIENTAS\\appSIFIA_copia\\venv\\lib\\site-packages\\keras\\src\\layers\\core\\dense.py:87: UserWarning: Do not pass an `input_shape`/`input_dim` argument to a layer. When using Sequential models, prefer using an `Input(shape)` object as the first layer in the model instead.\n",
      "  super().__init__(activity_regularizer=activity_regularizer, **kwargs)\n"
     ]
    }
   ],
   "source": [
    "# Definir y entrenar el modelo DNN\n",
    "model = keras.Sequential()\n",
    "model.add(layers.Dense(64, input_dim=X_train_over_std_esc1.shape[1], activation='relu'))\n",
    "model.add(layers.Dense(32, activation='relu'))\n",
    "model.add(layers.Dense(16, activation='relu'))\n",
    "model.add(layers.Dense(1, activation='sigmoid'))"
   ]
  },
  {
   "cell_type": "code",
   "execution_count": 43,
   "metadata": {},
   "outputs": [
    {
     "name": "stdout",
     "output_type": "stream",
     "text": [
      "Epoch 1/10\n",
      "\u001b[1m555/555\u001b[0m \u001b[32m━━━━━━━━━━━━━━━━━━━━\u001b[0m\u001b[37m\u001b[0m \u001b[1m2s\u001b[0m 1ms/step - accuracy: 0.7026 - loss: 0.5551 - val_accuracy: 0.7711 - val_loss: 0.4724\n",
      "Epoch 2/10\n",
      "\u001b[1m555/555\u001b[0m \u001b[32m━━━━━━━━━━━━━━━━━━━━\u001b[0m\u001b[37m\u001b[0m \u001b[1m1s\u001b[0m 1ms/step - accuracy: 0.8076 - loss: 0.4171 - val_accuracy: 0.7900 - val_loss: 0.4407\n",
      "Epoch 3/10\n",
      "\u001b[1m555/555\u001b[0m \u001b[32m━━━━━━━━━━━━━━━━━━━━\u001b[0m\u001b[37m\u001b[0m \u001b[1m1s\u001b[0m 1ms/step - accuracy: 0.8220 - loss: 0.3977 - val_accuracy: 0.7977 - val_loss: 0.4279\n",
      "Epoch 4/10\n",
      "\u001b[1m555/555\u001b[0m \u001b[32m━━━━━━━━━━━━━━━━━━━━\u001b[0m\u001b[37m\u001b[0m \u001b[1m1s\u001b[0m 1ms/step - accuracy: 0.8269 - loss: 0.3886 - val_accuracy: 0.8089 - val_loss: 0.4171\n",
      "Epoch 5/10\n",
      "\u001b[1m555/555\u001b[0m \u001b[32m━━━━━━━━━━━━━━━━━━━━\u001b[0m\u001b[37m\u001b[0m \u001b[1m1s\u001b[0m 1ms/step - accuracy: 0.8289 - loss: 0.3822 - val_accuracy: 0.8125 - val_loss: 0.4188\n",
      "Epoch 6/10\n",
      "\u001b[1m555/555\u001b[0m \u001b[32m━━━━━━━━━━━━━━━━━━━━\u001b[0m\u001b[37m\u001b[0m \u001b[1m1s\u001b[0m 1ms/step - accuracy: 0.8341 - loss: 0.3772 - val_accuracy: 0.8134 - val_loss: 0.4177\n",
      "Epoch 7/10\n",
      "\u001b[1m555/555\u001b[0m \u001b[32m━━━━━━━━━━━━━━━━━━━━\u001b[0m\u001b[37m\u001b[0m \u001b[1m1s\u001b[0m 1ms/step - accuracy: 0.8359 - loss: 0.3731 - val_accuracy: 0.8220 - val_loss: 0.4108\n",
      "Epoch 8/10\n",
      "\u001b[1m555/555\u001b[0m \u001b[32m━━━━━━━━━━━━━━━━━━━━\u001b[0m\u001b[37m\u001b[0m \u001b[1m1s\u001b[0m 1ms/step - accuracy: 0.8382 - loss: 0.3691 - val_accuracy: 0.8233 - val_loss: 0.4111\n",
      "Epoch 9/10\n",
      "\u001b[1m555/555\u001b[0m \u001b[32m━━━━━━━━━━━━━━━━━━━━\u001b[0m\u001b[37m\u001b[0m \u001b[1m1s\u001b[0m 1ms/step - accuracy: 0.8415 - loss: 0.3653 - val_accuracy: 0.8265 - val_loss: 0.4096\n",
      "Epoch 10/10\n",
      "\u001b[1m555/555\u001b[0m \u001b[32m━━━━━━━━━━━━━━━━━━━━\u001b[0m\u001b[37m\u001b[0m \u001b[1m1s\u001b[0m 1ms/step - accuracy: 0.8428 - loss: 0.3620 - val_accuracy: 0.8306 - val_loss: 0.4012\n",
      "\u001b[1m94/94\u001b[0m \u001b[32m━━━━━━━━━━━━━━━━━━━━\u001b[0m\u001b[37m\u001b[0m \u001b[1m0s\u001b[0m 1ms/step  \n",
      "[[2097  319]\n",
      " [ 222  362]]\n",
      "              precision    recall  f1-score   support\n",
      "\n",
      "           0       0.90      0.87      0.89      2416\n",
      "           1       0.53      0.62      0.57       584\n",
      "\n",
      "    accuracy                           0.82      3000\n",
      "   macro avg       0.72      0.74      0.73      3000\n",
      "weighted avg       0.83      0.82      0.82      3000\n",
      "\n"
     ]
    }
   ],
   "source": [
    "# Definir y entrenar el modelo DNN\n",
    "model.compile(optimizer='adam', loss='binary_crossentropy', metrics=['accuracy'])\n",
    "model.fit(X_train_over_std_esc1, y_train_over, epochs=10, batch_size=16, validation_split=0.2)\n",
    "\n",
    "# Se realiza la evaluación del modelo\n",
    "y_pred_over = model.predict(X_test_over_std_esc1)\n",
    "y_pred_over_etiquetas = (y_pred_over > 0.5)\n",
    "\n",
    "print(confusion_matrix(y_test, y_pred_over_etiquetas))\n",
    "print(classification_report(y_test, y_pred_over_etiquetas))"
   ]
  },
  {
   "cell_type": "code",
   "execution_count": 44,
   "metadata": {},
   "outputs": [
    {
     "name": "stdout",
     "output_type": "stream",
     "text": [
      "              precision    recall  f1-score   support\n",
      "\n",
      "           0       0.90      0.87      0.89      2416\n",
      "           1       0.53      0.62      0.57       584\n",
      "\n",
      "    accuracy                           0.82      3000\n",
      "   macro avg       0.72      0.74      0.73      3000\n",
      "weighted avg       0.83      0.82      0.82      3000\n",
      "\n"
     ]
    }
   ],
   "source": [
    "print(classification_report(y_test, y_pred_over_etiquetas))"
   ]
  },
  {
   "cell_type": "markdown",
   "metadata": {},
   "source": [
    "##### 4.3. Aplicamos el modelo de una Red Neuronal Profunda (DNN) con Undersampling"
   ]
  },
  {
   "cell_type": "code",
   "execution_count": 45,
   "metadata": {},
   "outputs": [
    {
     "name": "stderr",
     "output_type": "stream",
     "text": [
      "c:\\Users\\rdcastillo47\\Documents\\RAHAM_UNIVERSIDAD\\HERRAMIENTAS\\appSIFIA_copia\\venv\\lib\\site-packages\\keras\\src\\layers\\core\\dense.py:87: UserWarning: Do not pass an `input_shape`/`input_dim` argument to a layer. When using Sequential models, prefer using an `Input(shape)` object as the first layer in the model instead.\n",
      "  super().__init__(activity_regularizer=activity_regularizer, **kwargs)\n"
     ]
    }
   ],
   "source": [
    "# Definir y entrenar el modelo DNN\n",
    "model = keras.Sequential()\n",
    "model.add(layers.Dense(64, input_dim=X_train_under_std_esc1.shape[1], activation='relu'))\n",
    "model.add(layers.Dense(32, activation='relu'))\n",
    "model.add(layers.Dense(16, activation='relu'))\n",
    "model.add(layers.Dense(1, activation='sigmoid'))"
   ]
  },
  {
   "cell_type": "code",
   "execution_count": 46,
   "metadata": {},
   "outputs": [
    {
     "name": "stdout",
     "output_type": "stream",
     "text": [
      "Epoch 1/10\n",
      "\u001b[1m146/146\u001b[0m \u001b[32m━━━━━━━━━━━━━━━━━━━━\u001b[0m\u001b[37m\u001b[0m \u001b[1m1s\u001b[0m 3ms/step - accuracy: 0.6163 - loss: 0.6378 - val_accuracy: 0.5069 - val_loss: 0.8511\n",
      "Epoch 2/10\n",
      "\u001b[1m146/146\u001b[0m \u001b[32m━━━━━━━━━━━━━━━━━━━━\u001b[0m\u001b[37m\u001b[0m \u001b[1m0s\u001b[0m 2ms/step - accuracy: 0.7380 - loss: 0.5351 - val_accuracy: 0.5859 - val_loss: 0.7938\n",
      "Epoch 3/10\n",
      "\u001b[1m146/146\u001b[0m \u001b[32m━━━━━━━━━━━━━━━━━━━━\u001b[0m\u001b[37m\u001b[0m \u001b[1m0s\u001b[0m 2ms/step - accuracy: 0.7648 - loss: 0.4941 - val_accuracy: 0.6151 - val_loss: 0.7547\n",
      "Epoch 4/10\n",
      "\u001b[1m146/146\u001b[0m \u001b[32m━━━━━━━━━━━━━━━━━━━━\u001b[0m\u001b[37m\u001b[0m \u001b[1m0s\u001b[0m 2ms/step - accuracy: 0.7883 - loss: 0.4614 - val_accuracy: 0.6100 - val_loss: 0.7551\n",
      "Epoch 5/10\n",
      "\u001b[1m146/146\u001b[0m \u001b[32m━━━━━━━━━━━━━━━━━━━━\u001b[0m\u001b[37m\u001b[0m \u001b[1m0s\u001b[0m 2ms/step - accuracy: 0.7943 - loss: 0.4406 - val_accuracy: 0.6134 - val_loss: 0.7575\n",
      "Epoch 6/10\n",
      "\u001b[1m146/146\u001b[0m \u001b[32m━━━━━━━━━━━━━━━━━━━━\u001b[0m\u001b[37m\u001b[0m \u001b[1m0s\u001b[0m 2ms/step - accuracy: 0.8077 - loss: 0.4285 - val_accuracy: 0.6151 - val_loss: 0.7607\n",
      "Epoch 7/10\n",
      "\u001b[1m146/146\u001b[0m \u001b[32m━━━━━━━━━━━━━━━━━━━━\u001b[0m\u001b[37m\u001b[0m \u001b[1m0s\u001b[0m 2ms/step - accuracy: 0.8129 - loss: 0.4198 - val_accuracy: 0.6186 - val_loss: 0.7568\n",
      "Epoch 8/10\n",
      "\u001b[1m146/146\u001b[0m \u001b[32m━━━━━━━━━━━━━━━━━━━━\u001b[0m\u001b[37m\u001b[0m \u001b[1m0s\u001b[0m 2ms/step - accuracy: 0.8187 - loss: 0.4122 - val_accuracy: 0.6168 - val_loss: 0.7536\n",
      "Epoch 9/10\n",
      "\u001b[1m146/146\u001b[0m \u001b[32m━━━━━━━━━━━━━━━━━━━━\u001b[0m\u001b[37m\u001b[0m \u001b[1m0s\u001b[0m 2ms/step - accuracy: 0.8216 - loss: 0.4052 - val_accuracy: 0.6203 - val_loss: 0.7543\n",
      "Epoch 10/10\n",
      "\u001b[1m146/146\u001b[0m \u001b[32m━━━━━━━━━━━━━━━━━━━━\u001b[0m\u001b[37m\u001b[0m \u001b[1m0s\u001b[0m 2ms/step - accuracy: 0.8245 - loss: 0.3986 - val_accuracy: 0.6220 - val_loss: 0.7531\n",
      "\u001b[1m94/94\u001b[0m \u001b[32m━━━━━━━━━━━━━━━━━━━━\u001b[0m\u001b[37m\u001b[0m \u001b[1m0s\u001b[0m 1ms/step  \n",
      "[[2078  338]\n",
      " [ 211  373]]\n",
      "              precision    recall  f1-score   support\n",
      "\n",
      "           0       0.91      0.86      0.88      2416\n",
      "           1       0.52      0.64      0.58       584\n",
      "\n",
      "    accuracy                           0.82      3000\n",
      "   macro avg       0.72      0.75      0.73      3000\n",
      "weighted avg       0.83      0.82      0.82      3000\n",
      "\n"
     ]
    }
   ],
   "source": [
    "# Definir y entrenar el modelo DNN\n",
    "model.compile(optimizer='adam', loss='binary_crossentropy', metrics=['accuracy'])\n",
    "model.fit(X_train_under_std_esc1, y_train_under, epochs=10, batch_size=16, validation_split=0.2)\n",
    "\n",
    "# Evaluación\n",
    "y_pred_under = model.predict(X_test_under_std_esc1)\n",
    "y_pred_under_etiquetas = (y_pred_under > 0.5)\n",
    "\n",
    "print(confusion_matrix(y_test, y_pred_under_etiquetas))\n",
    "print(classification_report(y_test, y_pred_under_etiquetas))"
   ]
  },
  {
   "cell_type": "code",
   "execution_count": 47,
   "metadata": {},
   "outputs": [
    {
     "name": "stdout",
     "output_type": "stream",
     "text": [
      "              precision    recall  f1-score   support\n",
      "\n",
      "           0       0.91      0.86      0.88      2416\n",
      "           1       0.52      0.64      0.58       584\n",
      "\n",
      "    accuracy                           0.82      3000\n",
      "   macro avg       0.72      0.75      0.73      3000\n",
      "weighted avg       0.83      0.82      0.82      3000\n",
      "\n"
     ]
    }
   ],
   "source": [
    "print(classification_report(y_test, y_pred_under_etiquetas))"
   ]
  },
  {
   "cell_type": "markdown",
   "metadata": {},
   "source": [
    "##### 5.1. Aplicamos el modelo de una Red Neuronal Convolucional (CNN)"
   ]
  },
  {
   "cell_type": "code",
   "execution_count": 48,
   "metadata": {},
   "outputs": [],
   "source": [
    "import tensorflow as tf\n",
    "import numpy as np\n",
    "\n",
    "# Establecer semilla aleatoria para garantizar resultados reproducibles\n",
    "np.random.seed(42)  # Para operaciones que dependen de NumPy\n",
    "tf.random.set_seed(42)  # Para TensorFlow"
   ]
  },
  {
   "cell_type": "code",
   "execution_count": 49,
   "metadata": {},
   "outputs": [
    {
     "name": "stderr",
     "output_type": "stream",
     "text": [
      "c:\\Users\\rdcastillo47\\Documents\\RAHAM_UNIVERSIDAD\\HERRAMIENTAS\\appSIFIA_copia\\venv\\lib\\site-packages\\keras\\src\\layers\\convolutional\\base_conv.py:107: UserWarning: Do not pass an `input_shape`/`input_dim` argument to a layer. When using Sequential models, prefer using an `Input(shape)` object as the first layer in the model instead.\n",
      "  super().__init__(activity_regularizer=activity_regularizer, **kwargs)\n"
     ]
    },
    {
     "data": {
      "text/html": [
       "<pre style=\"white-space:pre;overflow-x:auto;line-height:normal;font-family:Menlo,'DejaVu Sans Mono',consolas,'Courier New',monospace\"><span style=\"font-weight: bold\">Model: \"sequential_3\"</span>\n",
       "</pre>\n"
      ],
      "text/plain": [
       "\u001b[1mModel: \"sequential_3\"\u001b[0m\n"
      ]
     },
     "metadata": {},
     "output_type": "display_data"
    },
    {
     "data": {
      "text/html": [
       "<pre style=\"white-space:pre;overflow-x:auto;line-height:normal;font-family:Menlo,'DejaVu Sans Mono',consolas,'Courier New',monospace\">┏━━━━━━━━━━━━━━━━━━━━━━━━━━━━━━━━━┳━━━━━━━━━━━━━━━━━━━━━━━━┳━━━━━━━━━━━━━━━┓\n",
       "┃<span style=\"font-weight: bold\"> Layer (type)                    </span>┃<span style=\"font-weight: bold\"> Output Shape           </span>┃<span style=\"font-weight: bold\">       Param # </span>┃\n",
       "┡━━━━━━━━━━━━━━━━━━━━━━━━━━━━━━━━━╇━━━━━━━━━━━━━━━━━━━━━━━━╇━━━━━━━━━━━━━━━┩\n",
       "│ conv1d (<span style=\"color: #0087ff; text-decoration-color: #0087ff\">Conv1D</span>)                 │ (<span style=\"color: #00d7ff; text-decoration-color: #00d7ff\">None</span>, <span style=\"color: #00af00; text-decoration-color: #00af00\">8</span>, <span style=\"color: #00af00; text-decoration-color: #00af00\">64</span>)          │           <span style=\"color: #00af00; text-decoration-color: #00af00\">256</span> │\n",
       "├─────────────────────────────────┼────────────────────────┼───────────────┤\n",
       "│ max_pooling1d (<span style=\"color: #0087ff; text-decoration-color: #0087ff\">MaxPooling1D</span>)    │ (<span style=\"color: #00d7ff; text-decoration-color: #00d7ff\">None</span>, <span style=\"color: #00af00; text-decoration-color: #00af00\">4</span>, <span style=\"color: #00af00; text-decoration-color: #00af00\">64</span>)          │             <span style=\"color: #00af00; text-decoration-color: #00af00\">0</span> │\n",
       "├─────────────────────────────────┼────────────────────────┼───────────────┤\n",
       "│ conv1d_1 (<span style=\"color: #0087ff; text-decoration-color: #0087ff\">Conv1D</span>)               │ (<span style=\"color: #00d7ff; text-decoration-color: #00d7ff\">None</span>, <span style=\"color: #00af00; text-decoration-color: #00af00\">2</span>, <span style=\"color: #00af00; text-decoration-color: #00af00\">128</span>)         │        <span style=\"color: #00af00; text-decoration-color: #00af00\">24,704</span> │\n",
       "├─────────────────────────────────┼────────────────────────┼───────────────┤\n",
       "│ max_pooling1d_1 (<span style=\"color: #0087ff; text-decoration-color: #0087ff\">MaxPooling1D</span>)  │ (<span style=\"color: #00d7ff; text-decoration-color: #00d7ff\">None</span>, <span style=\"color: #00af00; text-decoration-color: #00af00\">1</span>, <span style=\"color: #00af00; text-decoration-color: #00af00\">128</span>)         │             <span style=\"color: #00af00; text-decoration-color: #00af00\">0</span> │\n",
       "├─────────────────────────────────┼────────────────────────┼───────────────┤\n",
       "│ flatten (<span style=\"color: #0087ff; text-decoration-color: #0087ff\">Flatten</span>)               │ (<span style=\"color: #00d7ff; text-decoration-color: #00d7ff\">None</span>, <span style=\"color: #00af00; text-decoration-color: #00af00\">128</span>)            │             <span style=\"color: #00af00; text-decoration-color: #00af00\">0</span> │\n",
       "├─────────────────────────────────┼────────────────────────┼───────────────┤\n",
       "│ dense_12 (<span style=\"color: #0087ff; text-decoration-color: #0087ff\">Dense</span>)                │ (<span style=\"color: #00d7ff; text-decoration-color: #00d7ff\">None</span>, <span style=\"color: #00af00; text-decoration-color: #00af00\">64</span>)             │         <span style=\"color: #00af00; text-decoration-color: #00af00\">8,256</span> │\n",
       "├─────────────────────────────────┼────────────────────────┼───────────────┤\n",
       "│ dense_13 (<span style=\"color: #0087ff; text-decoration-color: #0087ff\">Dense</span>)                │ (<span style=\"color: #00d7ff; text-decoration-color: #00d7ff\">None</span>, <span style=\"color: #00af00; text-decoration-color: #00af00\">32</span>)             │         <span style=\"color: #00af00; text-decoration-color: #00af00\">2,080</span> │\n",
       "├─────────────────────────────────┼────────────────────────┼───────────────┤\n",
       "│ dense_14 (<span style=\"color: #0087ff; text-decoration-color: #0087ff\">Dense</span>)                │ (<span style=\"color: #00d7ff; text-decoration-color: #00d7ff\">None</span>, <span style=\"color: #00af00; text-decoration-color: #00af00\">16</span>)             │           <span style=\"color: #00af00; text-decoration-color: #00af00\">528</span> │\n",
       "├─────────────────────────────────┼────────────────────────┼───────────────┤\n",
       "│ dense_15 (<span style=\"color: #0087ff; text-decoration-color: #0087ff\">Dense</span>)                │ (<span style=\"color: #00d7ff; text-decoration-color: #00d7ff\">None</span>, <span style=\"color: #00af00; text-decoration-color: #00af00\">1</span>)              │            <span style=\"color: #00af00; text-decoration-color: #00af00\">17</span> │\n",
       "└─────────────────────────────────┴────────────────────────┴───────────────┘\n",
       "</pre>\n"
      ],
      "text/plain": [
       "┏━━━━━━━━━━━━━━━━━━━━━━━━━━━━━━━━━┳━━━━━━━━━━━━━━━━━━━━━━━━┳━━━━━━━━━━━━━━━┓\n",
       "┃\u001b[1m \u001b[0m\u001b[1mLayer (type)                   \u001b[0m\u001b[1m \u001b[0m┃\u001b[1m \u001b[0m\u001b[1mOutput Shape          \u001b[0m\u001b[1m \u001b[0m┃\u001b[1m \u001b[0m\u001b[1m      Param #\u001b[0m\u001b[1m \u001b[0m┃\n",
       "┡━━━━━━━━━━━━━━━━━━━━━━━━━━━━━━━━━╇━━━━━━━━━━━━━━━━━━━━━━━━╇━━━━━━━━━━━━━━━┩\n",
       "│ conv1d (\u001b[38;5;33mConv1D\u001b[0m)                 │ (\u001b[38;5;45mNone\u001b[0m, \u001b[38;5;34m8\u001b[0m, \u001b[38;5;34m64\u001b[0m)          │           \u001b[38;5;34m256\u001b[0m │\n",
       "├─────────────────────────────────┼────────────────────────┼───────────────┤\n",
       "│ max_pooling1d (\u001b[38;5;33mMaxPooling1D\u001b[0m)    │ (\u001b[38;5;45mNone\u001b[0m, \u001b[38;5;34m4\u001b[0m, \u001b[38;5;34m64\u001b[0m)          │             \u001b[38;5;34m0\u001b[0m │\n",
       "├─────────────────────────────────┼────────────────────────┼───────────────┤\n",
       "│ conv1d_1 (\u001b[38;5;33mConv1D\u001b[0m)               │ (\u001b[38;5;45mNone\u001b[0m, \u001b[38;5;34m2\u001b[0m, \u001b[38;5;34m128\u001b[0m)         │        \u001b[38;5;34m24,704\u001b[0m │\n",
       "├─────────────────────────────────┼────────────────────────┼───────────────┤\n",
       "│ max_pooling1d_1 (\u001b[38;5;33mMaxPooling1D\u001b[0m)  │ (\u001b[38;5;45mNone\u001b[0m, \u001b[38;5;34m1\u001b[0m, \u001b[38;5;34m128\u001b[0m)         │             \u001b[38;5;34m0\u001b[0m │\n",
       "├─────────────────────────────────┼────────────────────────┼───────────────┤\n",
       "│ flatten (\u001b[38;5;33mFlatten\u001b[0m)               │ (\u001b[38;5;45mNone\u001b[0m, \u001b[38;5;34m128\u001b[0m)            │             \u001b[38;5;34m0\u001b[0m │\n",
       "├─────────────────────────────────┼────────────────────────┼───────────────┤\n",
       "│ dense_12 (\u001b[38;5;33mDense\u001b[0m)                │ (\u001b[38;5;45mNone\u001b[0m, \u001b[38;5;34m64\u001b[0m)             │         \u001b[38;5;34m8,256\u001b[0m │\n",
       "├─────────────────────────────────┼────────────────────────┼───────────────┤\n",
       "│ dense_13 (\u001b[38;5;33mDense\u001b[0m)                │ (\u001b[38;5;45mNone\u001b[0m, \u001b[38;5;34m32\u001b[0m)             │         \u001b[38;5;34m2,080\u001b[0m │\n",
       "├─────────────────────────────────┼────────────────────────┼───────────────┤\n",
       "│ dense_14 (\u001b[38;5;33mDense\u001b[0m)                │ (\u001b[38;5;45mNone\u001b[0m, \u001b[38;5;34m16\u001b[0m)             │           \u001b[38;5;34m528\u001b[0m │\n",
       "├─────────────────────────────────┼────────────────────────┼───────────────┤\n",
       "│ dense_15 (\u001b[38;5;33mDense\u001b[0m)                │ (\u001b[38;5;45mNone\u001b[0m, \u001b[38;5;34m1\u001b[0m)              │            \u001b[38;5;34m17\u001b[0m │\n",
       "└─────────────────────────────────┴────────────────────────┴───────────────┘\n"
      ]
     },
     "metadata": {},
     "output_type": "display_data"
    },
    {
     "data": {
      "text/html": [
       "<pre style=\"white-space:pre;overflow-x:auto;line-height:normal;font-family:Menlo,'DejaVu Sans Mono',consolas,'Courier New',monospace\"><span style=\"font-weight: bold\"> Total params: </span><span style=\"color: #00af00; text-decoration-color: #00af00\">35,841</span> (140.00 KB)\n",
       "</pre>\n"
      ],
      "text/plain": [
       "\u001b[1m Total params: \u001b[0m\u001b[38;5;34m35,841\u001b[0m (140.00 KB)\n"
      ]
     },
     "metadata": {},
     "output_type": "display_data"
    },
    {
     "data": {
      "text/html": [
       "<pre style=\"white-space:pre;overflow-x:auto;line-height:normal;font-family:Menlo,'DejaVu Sans Mono',consolas,'Courier New',monospace\"><span style=\"font-weight: bold\"> Trainable params: </span><span style=\"color: #00af00; text-decoration-color: #00af00\">35,841</span> (140.00 KB)\n",
       "</pre>\n"
      ],
      "text/plain": [
       "\u001b[1m Trainable params: \u001b[0m\u001b[38;5;34m35,841\u001b[0m (140.00 KB)\n"
      ]
     },
     "metadata": {},
     "output_type": "display_data"
    },
    {
     "data": {
      "text/html": [
       "<pre style=\"white-space:pre;overflow-x:auto;line-height:normal;font-family:Menlo,'DejaVu Sans Mono',consolas,'Courier New',monospace\"><span style=\"font-weight: bold\"> Non-trainable params: </span><span style=\"color: #00af00; text-decoration-color: #00af00\">0</span> (0.00 B)\n",
       "</pre>\n"
      ],
      "text/plain": [
       "\u001b[1m Non-trainable params: \u001b[0m\u001b[38;5;34m0\u001b[0m (0.00 B)\n"
      ]
     },
     "metadata": {},
     "output_type": "display_data"
    }
   ],
   "source": [
    "# Remodelar los datos para adaptarlos a una CNN (1 canal, porque los datos son tabulares)\n",
    "X_train_cnn_std = X_train_std_esc1.reshape(X_train_std_esc1.shape[0], X_train_std_esc1.shape[1], 1)\n",
    "X_test_cnn_std = X_test_std_esc1.reshape(X_test_std_esc1.shape[0], X_test_std_esc1.shape[1], 1)\n",
    "\n",
    "# Crear el modelo CNN\n",
    "model = models.Sequential([\n",
    "    layers.Conv1D(64, 3, activation='relu', input_shape=(X_train_cnn_std.shape[1], 1)),\n",
    "    layers.MaxPooling1D(2),\n",
    "    layers.Conv1D(128, 3, activation='relu'),\n",
    "    layers.MaxPooling1D(2),\n",
    "    layers.Flatten(),\n",
    "    layers.Dense(64, activation='relu'),\n",
    "    layers.Dense(32, activation='relu'),\n",
    "    layers.Dense(16, activation='relu'),\n",
    "    layers.Dense(1, activation='sigmoid')\n",
    "])\n",
    "# Compilar el modelo\n",
    "model.compile(optimizer='adam', loss='binary_crossentropy', metrics=['accuracy'])\n",
    "\n",
    "# Resumen del modelo\n",
    "model.summary()"
   ]
  },
  {
   "cell_type": "code",
   "execution_count": 50,
   "metadata": {},
   "outputs": [
    {
     "name": "stdout",
     "output_type": "stream",
     "text": [
      "Epoch 1/10\n",
      "\u001b[1m438/438\u001b[0m \u001b[32m━━━━━━━━━━━━━━━━━━━━\u001b[0m\u001b[37m\u001b[0m \u001b[1m2s\u001b[0m 3ms/step - accuracy: 0.7873 - loss: 0.4976 - val_accuracy: 0.8293 - val_loss: 0.4067\n",
      "Epoch 2/10\n",
      "\u001b[1m438/438\u001b[0m \u001b[32m━━━━━━━━━━━━━━━━━━━━\u001b[0m\u001b[37m\u001b[0m \u001b[1m1s\u001b[0m 3ms/step - accuracy: 0.8252 - loss: 0.4141 - val_accuracy: 0.8447 - val_loss: 0.3783\n",
      "Epoch 3/10\n",
      "\u001b[1m438/438\u001b[0m \u001b[32m━━━━━━━━━━━━━━━━━━━━\u001b[0m\u001b[37m\u001b[0m \u001b[1m1s\u001b[0m 3ms/step - accuracy: 0.8400 - loss: 0.3893 - val_accuracy: 0.8543 - val_loss: 0.3604\n",
      "Epoch 4/10\n",
      "\u001b[1m438/438\u001b[0m \u001b[32m━━━━━━━━━━━━━━━━━━━━\u001b[0m\u001b[37m\u001b[0m \u001b[1m1s\u001b[0m 3ms/step - accuracy: 0.8483 - loss: 0.3759 - val_accuracy: 0.8603 - val_loss: 0.3522\n",
      "Epoch 5/10\n",
      "\u001b[1m438/438\u001b[0m \u001b[32m━━━━━━━━━━━━━━━━━━━━\u001b[0m\u001b[37m\u001b[0m \u001b[1m1s\u001b[0m 3ms/step - accuracy: 0.8532 - loss: 0.3659 - val_accuracy: 0.8590 - val_loss: 0.3496\n",
      "Epoch 6/10\n",
      "\u001b[1m438/438\u001b[0m \u001b[32m━━━━━━━━━━━━━━━━━━━━\u001b[0m\u001b[37m\u001b[0m \u001b[1m1s\u001b[0m 2ms/step - accuracy: 0.8556 - loss: 0.3592 - val_accuracy: 0.8593 - val_loss: 0.3475\n",
      "Epoch 7/10\n",
      "\u001b[1m438/438\u001b[0m \u001b[32m━━━━━━━━━━━━━━━━━━━━\u001b[0m\u001b[37m\u001b[0m \u001b[1m1s\u001b[0m 3ms/step - accuracy: 0.8563 - loss: 0.3546 - val_accuracy: 0.8533 - val_loss: 0.3562\n",
      "Epoch 8/10\n",
      "\u001b[1m438/438\u001b[0m \u001b[32m━━━━━━━━━━━━━━━━━━━━\u001b[0m\u001b[37m\u001b[0m \u001b[1m1s\u001b[0m 3ms/step - accuracy: 0.8539 - loss: 0.3495 - val_accuracy: 0.8577 - val_loss: 0.3523\n",
      "Epoch 9/10\n",
      "\u001b[1m438/438\u001b[0m \u001b[32m━━━━━━━━━━━━━━━━━━━━\u001b[0m\u001b[37m\u001b[0m \u001b[1m1s\u001b[0m 3ms/step - accuracy: 0.8590 - loss: 0.3434 - val_accuracy: 0.8553 - val_loss: 0.3539\n",
      "Epoch 10/10\n",
      "\u001b[1m438/438\u001b[0m \u001b[32m━━━━━━━━━━━━━━━━━━━━\u001b[0m\u001b[37m\u001b[0m \u001b[1m1s\u001b[0m 3ms/step - accuracy: 0.8611 - loss: 0.3394 - val_accuracy: 0.8570 - val_loss: 0.3555\n",
      "\u001b[1m94/94\u001b[0m \u001b[32m━━━━━━━━━━━━━━━━━━━━\u001b[0m\u001b[37m\u001b[0m \u001b[1m0s\u001b[0m 3ms/step\n",
      "\u001b[1m94/94\u001b[0m \u001b[32m━━━━━━━━━━━━━━━━━━━━\u001b[0m\u001b[37m\u001b[0m \u001b[1m0s\u001b[0m 2ms/step\n",
      "Evaluación con datos completos:\n",
      "              precision    recall  f1-score   support\n",
      "\n",
      "           0       0.88      0.95      0.91      2416\n",
      "           1       0.70      0.46      0.56       584\n",
      "\n",
      "    accuracy                           0.86      3000\n",
      "   macro avg       0.79      0.71      0.74      3000\n",
      "weighted avg       0.85      0.86      0.85      3000\n",
      "\n",
      "[[2301  115]\n",
      " [ 314  270]]\n"
     ]
    }
   ],
   "source": [
    "# Entrenar el modelo\n",
    "model.fit(X_train_cnn_std, y_train, epochs=10, batch_size=16, validation_data=(X_test_cnn_std, y_test))\n",
    "\n",
    "# Evaluación del modelo con datos completos\n",
    "y_pred_cnn = (model.predict(X_test_cnn_std) > 0.5)\n",
    "# Obtener probabilidades para la curva AUC-ROC\n",
    "y_prob_cnn = model.predict(X_test_cnn_std)\n",
    "print(\"Evaluación con datos completos:\")\n",
    "print(classification_report(y_test, y_pred_cnn))\n",
    "print(confusion_matrix(y_test, y_pred_cnn))"
   ]
  },
  {
   "cell_type": "code",
   "execution_count": 51,
   "metadata": {},
   "outputs": [
    {
     "name": "stdout",
     "output_type": "stream",
     "text": [
      "              precision    recall  f1-score   support\n",
      "\n",
      "           0       0.88      0.95      0.91      2416\n",
      "           1       0.70      0.46      0.56       584\n",
      "\n",
      "    accuracy                           0.86      3000\n",
      "   macro avg       0.79      0.71      0.74      3000\n",
      "weighted avg       0.85      0.86      0.85      3000\n",
      "\n"
     ]
    }
   ],
   "source": [
    "print(classification_report(y_test, y_pred_cnn))"
   ]
  },
  {
   "cell_type": "markdown",
   "metadata": {},
   "source": [
    "##### 5.2. Aplicamos el modelo de una Red Neuronal Profunda (CNN) con Oversampling"
   ]
  },
  {
   "cell_type": "code",
   "execution_count": 52,
   "metadata": {},
   "outputs": [
    {
     "name": "stderr",
     "output_type": "stream",
     "text": [
      "c:\\Users\\rdcastillo47\\Documents\\RAHAM_UNIVERSIDAD\\HERRAMIENTAS\\appSIFIA_copia\\venv\\lib\\site-packages\\keras\\src\\layers\\convolutional\\base_conv.py:107: UserWarning: Do not pass an `input_shape`/`input_dim` argument to a layer. When using Sequential models, prefer using an `Input(shape)` object as the first layer in the model instead.\n",
      "  super().__init__(activity_regularizer=activity_regularizer, **kwargs)\n"
     ]
    },
    {
     "data": {
      "text/html": [
       "<pre style=\"white-space:pre;overflow-x:auto;line-height:normal;font-family:Menlo,'DejaVu Sans Mono',consolas,'Courier New',monospace\"><span style=\"font-weight: bold\">Model: \"sequential_4\"</span>\n",
       "</pre>\n"
      ],
      "text/plain": [
       "\u001b[1mModel: \"sequential_4\"\u001b[0m\n"
      ]
     },
     "metadata": {},
     "output_type": "display_data"
    },
    {
     "data": {
      "text/html": [
       "<pre style=\"white-space:pre;overflow-x:auto;line-height:normal;font-family:Menlo,'DejaVu Sans Mono',consolas,'Courier New',monospace\">┏━━━━━━━━━━━━━━━━━━━━━━━━━━━━━━━━━┳━━━━━━━━━━━━━━━━━━━━━━━━┳━━━━━━━━━━━━━━━┓\n",
       "┃<span style=\"font-weight: bold\"> Layer (type)                    </span>┃<span style=\"font-weight: bold\"> Output Shape           </span>┃<span style=\"font-weight: bold\">       Param # </span>┃\n",
       "┡━━━━━━━━━━━━━━━━━━━━━━━━━━━━━━━━━╇━━━━━━━━━━━━━━━━━━━━━━━━╇━━━━━━━━━━━━━━━┩\n",
       "│ conv1d_2 (<span style=\"color: #0087ff; text-decoration-color: #0087ff\">Conv1D</span>)               │ (<span style=\"color: #00d7ff; text-decoration-color: #00d7ff\">None</span>, <span style=\"color: #00af00; text-decoration-color: #00af00\">8</span>, <span style=\"color: #00af00; text-decoration-color: #00af00\">64</span>)          │           <span style=\"color: #00af00; text-decoration-color: #00af00\">256</span> │\n",
       "├─────────────────────────────────┼────────────────────────┼───────────────┤\n",
       "│ max_pooling1d_2 (<span style=\"color: #0087ff; text-decoration-color: #0087ff\">MaxPooling1D</span>)  │ (<span style=\"color: #00d7ff; text-decoration-color: #00d7ff\">None</span>, <span style=\"color: #00af00; text-decoration-color: #00af00\">4</span>, <span style=\"color: #00af00; text-decoration-color: #00af00\">64</span>)          │             <span style=\"color: #00af00; text-decoration-color: #00af00\">0</span> │\n",
       "├─────────────────────────────────┼────────────────────────┼───────────────┤\n",
       "│ conv1d_3 (<span style=\"color: #0087ff; text-decoration-color: #0087ff\">Conv1D</span>)               │ (<span style=\"color: #00d7ff; text-decoration-color: #00d7ff\">None</span>, <span style=\"color: #00af00; text-decoration-color: #00af00\">2</span>, <span style=\"color: #00af00; text-decoration-color: #00af00\">128</span>)         │        <span style=\"color: #00af00; text-decoration-color: #00af00\">24,704</span> │\n",
       "├─────────────────────────────────┼────────────────────────┼───────────────┤\n",
       "│ max_pooling1d_3 (<span style=\"color: #0087ff; text-decoration-color: #0087ff\">MaxPooling1D</span>)  │ (<span style=\"color: #00d7ff; text-decoration-color: #00d7ff\">None</span>, <span style=\"color: #00af00; text-decoration-color: #00af00\">1</span>, <span style=\"color: #00af00; text-decoration-color: #00af00\">128</span>)         │             <span style=\"color: #00af00; text-decoration-color: #00af00\">0</span> │\n",
       "├─────────────────────────────────┼────────────────────────┼───────────────┤\n",
       "│ flatten_1 (<span style=\"color: #0087ff; text-decoration-color: #0087ff\">Flatten</span>)             │ (<span style=\"color: #00d7ff; text-decoration-color: #00d7ff\">None</span>, <span style=\"color: #00af00; text-decoration-color: #00af00\">128</span>)            │             <span style=\"color: #00af00; text-decoration-color: #00af00\">0</span> │\n",
       "├─────────────────────────────────┼────────────────────────┼───────────────┤\n",
       "│ dense_16 (<span style=\"color: #0087ff; text-decoration-color: #0087ff\">Dense</span>)                │ (<span style=\"color: #00d7ff; text-decoration-color: #00d7ff\">None</span>, <span style=\"color: #00af00; text-decoration-color: #00af00\">64</span>)             │         <span style=\"color: #00af00; text-decoration-color: #00af00\">8,256</span> │\n",
       "├─────────────────────────────────┼────────────────────────┼───────────────┤\n",
       "│ dense_17 (<span style=\"color: #0087ff; text-decoration-color: #0087ff\">Dense</span>)                │ (<span style=\"color: #00d7ff; text-decoration-color: #00d7ff\">None</span>, <span style=\"color: #00af00; text-decoration-color: #00af00\">32</span>)             │         <span style=\"color: #00af00; text-decoration-color: #00af00\">2,080</span> │\n",
       "├─────────────────────────────────┼────────────────────────┼───────────────┤\n",
       "│ dense_18 (<span style=\"color: #0087ff; text-decoration-color: #0087ff\">Dense</span>)                │ (<span style=\"color: #00d7ff; text-decoration-color: #00d7ff\">None</span>, <span style=\"color: #00af00; text-decoration-color: #00af00\">16</span>)             │           <span style=\"color: #00af00; text-decoration-color: #00af00\">528</span> │\n",
       "├─────────────────────────────────┼────────────────────────┼───────────────┤\n",
       "│ dense_19 (<span style=\"color: #0087ff; text-decoration-color: #0087ff\">Dense</span>)                │ (<span style=\"color: #00d7ff; text-decoration-color: #00d7ff\">None</span>, <span style=\"color: #00af00; text-decoration-color: #00af00\">1</span>)              │            <span style=\"color: #00af00; text-decoration-color: #00af00\">17</span> │\n",
       "└─────────────────────────────────┴────────────────────────┴───────────────┘\n",
       "</pre>\n"
      ],
      "text/plain": [
       "┏━━━━━━━━━━━━━━━━━━━━━━━━━━━━━━━━━┳━━━━━━━━━━━━━━━━━━━━━━━━┳━━━━━━━━━━━━━━━┓\n",
       "┃\u001b[1m \u001b[0m\u001b[1mLayer (type)                   \u001b[0m\u001b[1m \u001b[0m┃\u001b[1m \u001b[0m\u001b[1mOutput Shape          \u001b[0m\u001b[1m \u001b[0m┃\u001b[1m \u001b[0m\u001b[1m      Param #\u001b[0m\u001b[1m \u001b[0m┃\n",
       "┡━━━━━━━━━━━━━━━━━━━━━━━━━━━━━━━━━╇━━━━━━━━━━━━━━━━━━━━━━━━╇━━━━━━━━━━━━━━━┩\n",
       "│ conv1d_2 (\u001b[38;5;33mConv1D\u001b[0m)               │ (\u001b[38;5;45mNone\u001b[0m, \u001b[38;5;34m8\u001b[0m, \u001b[38;5;34m64\u001b[0m)          │           \u001b[38;5;34m256\u001b[0m │\n",
       "├─────────────────────────────────┼────────────────────────┼───────────────┤\n",
       "│ max_pooling1d_2 (\u001b[38;5;33mMaxPooling1D\u001b[0m)  │ (\u001b[38;5;45mNone\u001b[0m, \u001b[38;5;34m4\u001b[0m, \u001b[38;5;34m64\u001b[0m)          │             \u001b[38;5;34m0\u001b[0m │\n",
       "├─────────────────────────────────┼────────────────────────┼───────────────┤\n",
       "│ conv1d_3 (\u001b[38;5;33mConv1D\u001b[0m)               │ (\u001b[38;5;45mNone\u001b[0m, \u001b[38;5;34m2\u001b[0m, \u001b[38;5;34m128\u001b[0m)         │        \u001b[38;5;34m24,704\u001b[0m │\n",
       "├─────────────────────────────────┼────────────────────────┼───────────────┤\n",
       "│ max_pooling1d_3 (\u001b[38;5;33mMaxPooling1D\u001b[0m)  │ (\u001b[38;5;45mNone\u001b[0m, \u001b[38;5;34m1\u001b[0m, \u001b[38;5;34m128\u001b[0m)         │             \u001b[38;5;34m0\u001b[0m │\n",
       "├─────────────────────────────────┼────────────────────────┼───────────────┤\n",
       "│ flatten_1 (\u001b[38;5;33mFlatten\u001b[0m)             │ (\u001b[38;5;45mNone\u001b[0m, \u001b[38;5;34m128\u001b[0m)            │             \u001b[38;5;34m0\u001b[0m │\n",
       "├─────────────────────────────────┼────────────────────────┼───────────────┤\n",
       "│ dense_16 (\u001b[38;5;33mDense\u001b[0m)                │ (\u001b[38;5;45mNone\u001b[0m, \u001b[38;5;34m64\u001b[0m)             │         \u001b[38;5;34m8,256\u001b[0m │\n",
       "├─────────────────────────────────┼────────────────────────┼───────────────┤\n",
       "│ dense_17 (\u001b[38;5;33mDense\u001b[0m)                │ (\u001b[38;5;45mNone\u001b[0m, \u001b[38;5;34m32\u001b[0m)             │         \u001b[38;5;34m2,080\u001b[0m │\n",
       "├─────────────────────────────────┼────────────────────────┼───────────────┤\n",
       "│ dense_18 (\u001b[38;5;33mDense\u001b[0m)                │ (\u001b[38;5;45mNone\u001b[0m, \u001b[38;5;34m16\u001b[0m)             │           \u001b[38;5;34m528\u001b[0m │\n",
       "├─────────────────────────────────┼────────────────────────┼───────────────┤\n",
       "│ dense_19 (\u001b[38;5;33mDense\u001b[0m)                │ (\u001b[38;5;45mNone\u001b[0m, \u001b[38;5;34m1\u001b[0m)              │            \u001b[38;5;34m17\u001b[0m │\n",
       "└─────────────────────────────────┴────────────────────────┴───────────────┘\n"
      ]
     },
     "metadata": {},
     "output_type": "display_data"
    },
    {
     "data": {
      "text/html": [
       "<pre style=\"white-space:pre;overflow-x:auto;line-height:normal;font-family:Menlo,'DejaVu Sans Mono',consolas,'Courier New',monospace\"><span style=\"font-weight: bold\"> Total params: </span><span style=\"color: #00af00; text-decoration-color: #00af00\">35,841</span> (140.00 KB)\n",
       "</pre>\n"
      ],
      "text/plain": [
       "\u001b[1m Total params: \u001b[0m\u001b[38;5;34m35,841\u001b[0m (140.00 KB)\n"
      ]
     },
     "metadata": {},
     "output_type": "display_data"
    },
    {
     "data": {
      "text/html": [
       "<pre style=\"white-space:pre;overflow-x:auto;line-height:normal;font-family:Menlo,'DejaVu Sans Mono',consolas,'Courier New',monospace\"><span style=\"font-weight: bold\"> Trainable params: </span><span style=\"color: #00af00; text-decoration-color: #00af00\">35,841</span> (140.00 KB)\n",
       "</pre>\n"
      ],
      "text/plain": [
       "\u001b[1m Trainable params: \u001b[0m\u001b[38;5;34m35,841\u001b[0m (140.00 KB)\n"
      ]
     },
     "metadata": {},
     "output_type": "display_data"
    },
    {
     "data": {
      "text/html": [
       "<pre style=\"white-space:pre;overflow-x:auto;line-height:normal;font-family:Menlo,'DejaVu Sans Mono',consolas,'Courier New',monospace\"><span style=\"font-weight: bold\"> Non-trainable params: </span><span style=\"color: #00af00; text-decoration-color: #00af00\">0</span> (0.00 B)\n",
       "</pre>\n"
      ],
      "text/plain": [
       "\u001b[1m Non-trainable params: \u001b[0m\u001b[38;5;34m0\u001b[0m (0.00 B)\n"
      ]
     },
     "metadata": {},
     "output_type": "display_data"
    }
   ],
   "source": [
    "# Remodelar para CNN con Oversampling\n",
    "X_train_cnn_std_over = X_train_over_std_esc1.reshape(X_train_over_std_esc1.shape[0], X_train_over_std_esc1.shape[1], 1)\n",
    "X_test_cnn_std_over = X_test_over_std_esc1.reshape(X_test_over_std_esc1.shape[0], X_test_over_std_esc1.shape[1], 1)\n",
    "\n",
    "# Crear el modelo CNN\n",
    "model = models.Sequential([\n",
    "    layers.Conv1D(64, 3, activation='relu', input_shape=(X_train_cnn_std_over.shape[1], 1)),\n",
    "    layers.MaxPooling1D(2),\n",
    "    layers.Conv1D(128, 3, activation='relu'),\n",
    "    layers.MaxPooling1D(2),\n",
    "    layers.Flatten(),\n",
    "    layers.Dense(64, activation='relu'),\n",
    "    layers.Dense(32, activation='relu'),\n",
    "    layers.Dense(16, activation='relu'),\n",
    "    layers.Dense(1, activation='sigmoid')\n",
    "])\n",
    "\n",
    "# Compilar el modelo\n",
    "model.compile(optimizer='adam', loss='binary_crossentropy', metrics=['accuracy'])\n",
    "\n",
    "# Resumen del modelo\n",
    "model.summary()"
   ]
  },
  {
   "cell_type": "code",
   "execution_count": 53,
   "metadata": {},
   "outputs": [
    {
     "name": "stdout",
     "output_type": "stream",
     "text": [
      "Epoch 1/10\n",
      "\u001b[1m694/694\u001b[0m \u001b[32m━━━━━━━━━━━━━━━━━━━━\u001b[0m\u001b[37m\u001b[0m \u001b[1m4s\u001b[0m 3ms/step - accuracy: 0.7059 - loss: 0.5525 - val_accuracy: 0.7627 - val_loss: 0.4925\n",
      "Epoch 2/10\n",
      "\u001b[1m694/694\u001b[0m \u001b[32m━━━━━━━━━━━━━━━━━━━━\u001b[0m\u001b[37m\u001b[0m \u001b[1m2s\u001b[0m 2ms/step - accuracy: 0.7891 - loss: 0.4535 - val_accuracy: 0.7860 - val_loss: 0.4568\n",
      "Epoch 3/10\n",
      "\u001b[1m694/694\u001b[0m \u001b[32m━━━━━━━━━━━━━━━━━━━━\u001b[0m\u001b[37m\u001b[0m \u001b[1m2s\u001b[0m 3ms/step - accuracy: 0.8020 - loss: 0.4317 - val_accuracy: 0.7917 - val_loss: 0.4451\n",
      "Epoch 4/10\n",
      "\u001b[1m694/694\u001b[0m \u001b[32m━━━━━━━━━━━━━━━━━━━━\u001b[0m\u001b[37m\u001b[0m \u001b[1m2s\u001b[0m 3ms/step - accuracy: 0.8109 - loss: 0.4169 - val_accuracy: 0.7847 - val_loss: 0.4496\n",
      "Epoch 5/10\n",
      "\u001b[1m694/694\u001b[0m \u001b[32m━━━━━━━━━━━━━━━━━━━━\u001b[0m\u001b[37m\u001b[0m \u001b[1m2s\u001b[0m 3ms/step - accuracy: 0.8197 - loss: 0.4052 - val_accuracy: 0.7903 - val_loss: 0.4363\n",
      "Epoch 6/10\n",
      "\u001b[1m694/694\u001b[0m \u001b[32m━━━━━━━━━━━━━━━━━━━━\u001b[0m\u001b[37m\u001b[0m \u001b[1m2s\u001b[0m 3ms/step - accuracy: 0.8213 - loss: 0.3973 - val_accuracy: 0.7900 - val_loss: 0.4408\n",
      "Epoch 7/10\n",
      "\u001b[1m694/694\u001b[0m \u001b[32m━━━━━━━━━━━━━━━━━━━━\u001b[0m\u001b[37m\u001b[0m \u001b[1m3s\u001b[0m 4ms/step - accuracy: 0.8236 - loss: 0.3880 - val_accuracy: 0.7737 - val_loss: 0.4597\n",
      "Epoch 8/10\n",
      "\u001b[1m694/694\u001b[0m \u001b[32m━━━━━━━━━━━━━━━━━━━━\u001b[0m\u001b[37m\u001b[0m \u001b[1m3s\u001b[0m 4ms/step - accuracy: 0.8261 - loss: 0.3801 - val_accuracy: 0.7690 - val_loss: 0.4612\n",
      "Epoch 9/10\n",
      "\u001b[1m694/694\u001b[0m \u001b[32m━━━━━━━━━━━━━━━━━━━━\u001b[0m\u001b[37m\u001b[0m \u001b[1m2s\u001b[0m 3ms/step - accuracy: 0.8316 - loss: 0.3717 - val_accuracy: 0.7727 - val_loss: 0.4643\n",
      "Epoch 10/10\n",
      "\u001b[1m694/694\u001b[0m \u001b[32m━━━━━━━━━━━━━━━━━━━━\u001b[0m\u001b[37m\u001b[0m \u001b[1m2s\u001b[0m 3ms/step - accuracy: 0.8366 - loss: 0.3624 - val_accuracy: 0.7647 - val_loss: 0.4717\n",
      "\u001b[1m94/94\u001b[0m \u001b[32m━━━━━━━━━━━━━━━━━━━━\u001b[0m\u001b[37m\u001b[0m \u001b[1m0s\u001b[0m 2ms/step\n",
      "Evaluación con datos completos:\n",
      "\u001b[1m94/94\u001b[0m \u001b[32m━━━━━━━━━━━━━━━━━━━━\u001b[0m\u001b[37m\u001b[0m \u001b[1m0s\u001b[0m 1ms/step\n",
      "              precision    recall  f1-score   support\n",
      "\n",
      "           0       0.90      0.79      0.84      2416\n",
      "           1       0.43      0.65      0.52       584\n",
      "\n",
      "    accuracy                           0.76      3000\n",
      "   macro avg       0.67      0.72      0.68      3000\n",
      "weighted avg       0.81      0.76      0.78      3000\n",
      "\n",
      "[[1914  502]\n",
      " [ 204  380]]\n"
     ]
    }
   ],
   "source": [
    "# Entrenar el modelo con datos balanceados con Oversampling\n",
    "model.fit(X_train_cnn_std_over, y_train_over, epochs=10, batch_size=16, validation_data=(X_test_cnn_std_over, y_test))\n",
    "\n",
    "# Evaluación del modelo con datos completos\n",
    "y_pred_cnn_over = (model.predict(X_test_cnn_std_over) > 0.5)\n",
    "print(\"Evaluación con datos completos:\")\n",
    "# Obtener probabilidades para la curva AUC-ROC\n",
    "y_prob_cnn_over = model.predict(X_test_cnn_std_over)\n",
    "print(classification_report(y_test, y_pred_cnn_over))\n",
    "print(confusion_matrix(y_test, y_pred_cnn_over))"
   ]
  },
  {
   "cell_type": "code",
   "execution_count": 54,
   "metadata": {},
   "outputs": [
    {
     "name": "stdout",
     "output_type": "stream",
     "text": [
      "              precision    recall  f1-score   support\n",
      "\n",
      "           0       0.90      0.79      0.84      2416\n",
      "           1       0.43      0.65      0.52       584\n",
      "\n",
      "    accuracy                           0.76      3000\n",
      "   macro avg       0.67      0.72      0.68      3000\n",
      "weighted avg       0.81      0.76      0.78      3000\n",
      "\n"
     ]
    }
   ],
   "source": [
    "print(classification_report(y_test, y_pred_cnn_over))"
   ]
  },
  {
   "cell_type": "markdown",
   "metadata": {},
   "source": [
    "##### 5.3. Aplicamos el modelo de una Red Neuronal convolucional (CNN) con undersampling"
   ]
  },
  {
   "cell_type": "code",
   "execution_count": 55,
   "metadata": {},
   "outputs": [
    {
     "name": "stderr",
     "output_type": "stream",
     "text": [
      "c:\\Users\\rdcastillo47\\Documents\\RAHAM_UNIVERSIDAD\\HERRAMIENTAS\\appSIFIA_copia\\venv\\lib\\site-packages\\keras\\src\\layers\\convolutional\\base_conv.py:107: UserWarning: Do not pass an `input_shape`/`input_dim` argument to a layer. When using Sequential models, prefer using an `Input(shape)` object as the first layer in the model instead.\n",
      "  super().__init__(activity_regularizer=activity_regularizer, **kwargs)\n"
     ]
    },
    {
     "data": {
      "text/html": [
       "<pre style=\"white-space:pre;overflow-x:auto;line-height:normal;font-family:Menlo,'DejaVu Sans Mono',consolas,'Courier New',monospace\"><span style=\"font-weight: bold\">Model: \"sequential_5\"</span>\n",
       "</pre>\n"
      ],
      "text/plain": [
       "\u001b[1mModel: \"sequential_5\"\u001b[0m\n"
      ]
     },
     "metadata": {},
     "output_type": "display_data"
    },
    {
     "data": {
      "text/html": [
       "<pre style=\"white-space:pre;overflow-x:auto;line-height:normal;font-family:Menlo,'DejaVu Sans Mono',consolas,'Courier New',monospace\">┏━━━━━━━━━━━━━━━━━━━━━━━━━━━━━━━━━┳━━━━━━━━━━━━━━━━━━━━━━━━┳━━━━━━━━━━━━━━━┓\n",
       "┃<span style=\"font-weight: bold\"> Layer (type)                    </span>┃<span style=\"font-weight: bold\"> Output Shape           </span>┃<span style=\"font-weight: bold\">       Param # </span>┃\n",
       "┡━━━━━━━━━━━━━━━━━━━━━━━━━━━━━━━━━╇━━━━━━━━━━━━━━━━━━━━━━━━╇━━━━━━━━━━━━━━━┩\n",
       "│ conv1d_4 (<span style=\"color: #0087ff; text-decoration-color: #0087ff\">Conv1D</span>)               │ (<span style=\"color: #00d7ff; text-decoration-color: #00d7ff\">None</span>, <span style=\"color: #00af00; text-decoration-color: #00af00\">8</span>, <span style=\"color: #00af00; text-decoration-color: #00af00\">64</span>)          │           <span style=\"color: #00af00; text-decoration-color: #00af00\">256</span> │\n",
       "├─────────────────────────────────┼────────────────────────┼───────────────┤\n",
       "│ max_pooling1d_4 (<span style=\"color: #0087ff; text-decoration-color: #0087ff\">MaxPooling1D</span>)  │ (<span style=\"color: #00d7ff; text-decoration-color: #00d7ff\">None</span>, <span style=\"color: #00af00; text-decoration-color: #00af00\">4</span>, <span style=\"color: #00af00; text-decoration-color: #00af00\">64</span>)          │             <span style=\"color: #00af00; text-decoration-color: #00af00\">0</span> │\n",
       "├─────────────────────────────────┼────────────────────────┼───────────────┤\n",
       "│ conv1d_5 (<span style=\"color: #0087ff; text-decoration-color: #0087ff\">Conv1D</span>)               │ (<span style=\"color: #00d7ff; text-decoration-color: #00d7ff\">None</span>, <span style=\"color: #00af00; text-decoration-color: #00af00\">2</span>, <span style=\"color: #00af00; text-decoration-color: #00af00\">128</span>)         │        <span style=\"color: #00af00; text-decoration-color: #00af00\">24,704</span> │\n",
       "├─────────────────────────────────┼────────────────────────┼───────────────┤\n",
       "│ max_pooling1d_5 (<span style=\"color: #0087ff; text-decoration-color: #0087ff\">MaxPooling1D</span>)  │ (<span style=\"color: #00d7ff; text-decoration-color: #00d7ff\">None</span>, <span style=\"color: #00af00; text-decoration-color: #00af00\">1</span>, <span style=\"color: #00af00; text-decoration-color: #00af00\">128</span>)         │             <span style=\"color: #00af00; text-decoration-color: #00af00\">0</span> │\n",
       "├─────────────────────────────────┼────────────────────────┼───────────────┤\n",
       "│ flatten_2 (<span style=\"color: #0087ff; text-decoration-color: #0087ff\">Flatten</span>)             │ (<span style=\"color: #00d7ff; text-decoration-color: #00d7ff\">None</span>, <span style=\"color: #00af00; text-decoration-color: #00af00\">128</span>)            │             <span style=\"color: #00af00; text-decoration-color: #00af00\">0</span> │\n",
       "├─────────────────────────────────┼────────────────────────┼───────────────┤\n",
       "│ dense_20 (<span style=\"color: #0087ff; text-decoration-color: #0087ff\">Dense</span>)                │ (<span style=\"color: #00d7ff; text-decoration-color: #00d7ff\">None</span>, <span style=\"color: #00af00; text-decoration-color: #00af00\">64</span>)             │         <span style=\"color: #00af00; text-decoration-color: #00af00\">8,256</span> │\n",
       "├─────────────────────────────────┼────────────────────────┼───────────────┤\n",
       "│ dense_21 (<span style=\"color: #0087ff; text-decoration-color: #0087ff\">Dense</span>)                │ (<span style=\"color: #00d7ff; text-decoration-color: #00d7ff\">None</span>, <span style=\"color: #00af00; text-decoration-color: #00af00\">32</span>)             │         <span style=\"color: #00af00; text-decoration-color: #00af00\">2,080</span> │\n",
       "├─────────────────────────────────┼────────────────────────┼───────────────┤\n",
       "│ dense_22 (<span style=\"color: #0087ff; text-decoration-color: #0087ff\">Dense</span>)                │ (<span style=\"color: #00d7ff; text-decoration-color: #00d7ff\">None</span>, <span style=\"color: #00af00; text-decoration-color: #00af00\">16</span>)             │           <span style=\"color: #00af00; text-decoration-color: #00af00\">528</span> │\n",
       "├─────────────────────────────────┼────────────────────────┼───────────────┤\n",
       "│ dense_23 (<span style=\"color: #0087ff; text-decoration-color: #0087ff\">Dense</span>)                │ (<span style=\"color: #00d7ff; text-decoration-color: #00d7ff\">None</span>, <span style=\"color: #00af00; text-decoration-color: #00af00\">1</span>)              │            <span style=\"color: #00af00; text-decoration-color: #00af00\">17</span> │\n",
       "└─────────────────────────────────┴────────────────────────┴───────────────┘\n",
       "</pre>\n"
      ],
      "text/plain": [
       "┏━━━━━━━━━━━━━━━━━━━━━━━━━━━━━━━━━┳━━━━━━━━━━━━━━━━━━━━━━━━┳━━━━━━━━━━━━━━━┓\n",
       "┃\u001b[1m \u001b[0m\u001b[1mLayer (type)                   \u001b[0m\u001b[1m \u001b[0m┃\u001b[1m \u001b[0m\u001b[1mOutput Shape          \u001b[0m\u001b[1m \u001b[0m┃\u001b[1m \u001b[0m\u001b[1m      Param #\u001b[0m\u001b[1m \u001b[0m┃\n",
       "┡━━━━━━━━━━━━━━━━━━━━━━━━━━━━━━━━━╇━━━━━━━━━━━━━━━━━━━━━━━━╇━━━━━━━━━━━━━━━┩\n",
       "│ conv1d_4 (\u001b[38;5;33mConv1D\u001b[0m)               │ (\u001b[38;5;45mNone\u001b[0m, \u001b[38;5;34m8\u001b[0m, \u001b[38;5;34m64\u001b[0m)          │           \u001b[38;5;34m256\u001b[0m │\n",
       "├─────────────────────────────────┼────────────────────────┼───────────────┤\n",
       "│ max_pooling1d_4 (\u001b[38;5;33mMaxPooling1D\u001b[0m)  │ (\u001b[38;5;45mNone\u001b[0m, \u001b[38;5;34m4\u001b[0m, \u001b[38;5;34m64\u001b[0m)          │             \u001b[38;5;34m0\u001b[0m │\n",
       "├─────────────────────────────────┼────────────────────────┼───────────────┤\n",
       "│ conv1d_5 (\u001b[38;5;33mConv1D\u001b[0m)               │ (\u001b[38;5;45mNone\u001b[0m, \u001b[38;5;34m2\u001b[0m, \u001b[38;5;34m128\u001b[0m)         │        \u001b[38;5;34m24,704\u001b[0m │\n",
       "├─────────────────────────────────┼────────────────────────┼───────────────┤\n",
       "│ max_pooling1d_5 (\u001b[38;5;33mMaxPooling1D\u001b[0m)  │ (\u001b[38;5;45mNone\u001b[0m, \u001b[38;5;34m1\u001b[0m, \u001b[38;5;34m128\u001b[0m)         │             \u001b[38;5;34m0\u001b[0m │\n",
       "├─────────────────────────────────┼────────────────────────┼───────────────┤\n",
       "│ flatten_2 (\u001b[38;5;33mFlatten\u001b[0m)             │ (\u001b[38;5;45mNone\u001b[0m, \u001b[38;5;34m128\u001b[0m)            │             \u001b[38;5;34m0\u001b[0m │\n",
       "├─────────────────────────────────┼────────────────────────┼───────────────┤\n",
       "│ dense_20 (\u001b[38;5;33mDense\u001b[0m)                │ (\u001b[38;5;45mNone\u001b[0m, \u001b[38;5;34m64\u001b[0m)             │         \u001b[38;5;34m8,256\u001b[0m │\n",
       "├─────────────────────────────────┼────────────────────────┼───────────────┤\n",
       "│ dense_21 (\u001b[38;5;33mDense\u001b[0m)                │ (\u001b[38;5;45mNone\u001b[0m, \u001b[38;5;34m32\u001b[0m)             │         \u001b[38;5;34m2,080\u001b[0m │\n",
       "├─────────────────────────────────┼────────────────────────┼───────────────┤\n",
       "│ dense_22 (\u001b[38;5;33mDense\u001b[0m)                │ (\u001b[38;5;45mNone\u001b[0m, \u001b[38;5;34m16\u001b[0m)             │           \u001b[38;5;34m528\u001b[0m │\n",
       "├─────────────────────────────────┼────────────────────────┼───────────────┤\n",
       "│ dense_23 (\u001b[38;5;33mDense\u001b[0m)                │ (\u001b[38;5;45mNone\u001b[0m, \u001b[38;5;34m1\u001b[0m)              │            \u001b[38;5;34m17\u001b[0m │\n",
       "└─────────────────────────────────┴────────────────────────┴───────────────┘\n"
      ]
     },
     "metadata": {},
     "output_type": "display_data"
    },
    {
     "data": {
      "text/html": [
       "<pre style=\"white-space:pre;overflow-x:auto;line-height:normal;font-family:Menlo,'DejaVu Sans Mono',consolas,'Courier New',monospace\"><span style=\"font-weight: bold\"> Total params: </span><span style=\"color: #00af00; text-decoration-color: #00af00\">35,841</span> (140.00 KB)\n",
       "</pre>\n"
      ],
      "text/plain": [
       "\u001b[1m Total params: \u001b[0m\u001b[38;5;34m35,841\u001b[0m (140.00 KB)\n"
      ]
     },
     "metadata": {},
     "output_type": "display_data"
    },
    {
     "data": {
      "text/html": [
       "<pre style=\"white-space:pre;overflow-x:auto;line-height:normal;font-family:Menlo,'DejaVu Sans Mono',consolas,'Courier New',monospace\"><span style=\"font-weight: bold\"> Trainable params: </span><span style=\"color: #00af00; text-decoration-color: #00af00\">35,841</span> (140.00 KB)\n",
       "</pre>\n"
      ],
      "text/plain": [
       "\u001b[1m Trainable params: \u001b[0m\u001b[38;5;34m35,841\u001b[0m (140.00 KB)\n"
      ]
     },
     "metadata": {},
     "output_type": "display_data"
    },
    {
     "data": {
      "text/html": [
       "<pre style=\"white-space:pre;overflow-x:auto;line-height:normal;font-family:Menlo,'DejaVu Sans Mono',consolas,'Courier New',monospace\"><span style=\"font-weight: bold\"> Non-trainable params: </span><span style=\"color: #00af00; text-decoration-color: #00af00\">0</span> (0.00 B)\n",
       "</pre>\n"
      ],
      "text/plain": [
       "\u001b[1m Non-trainable params: \u001b[0m\u001b[38;5;34m0\u001b[0m (0.00 B)\n"
      ]
     },
     "metadata": {},
     "output_type": "display_data"
    }
   ],
   "source": [
    "# Remodelar para CNN con Undersampling\n",
    "X_train_cnn_std_under = X_train_under_std_esc1.reshape(X_train_under_std_esc1.shape[0], X_train_under_std_esc1.shape[1], 1)\n",
    "X_test_cnn_std_under = X_test_under_std_esc1.reshape(X_test_under_std_esc1.shape[0], X_test_under_std_esc1.shape[1], 1)\n",
    "\n",
    "# Crear el modelo CNN\n",
    "model = models.Sequential([\n",
    "    layers.Conv1D(64, 3, activation='relu', input_shape=(X_train_cnn_std_under.shape[1], 1)),\n",
    "    layers.MaxPooling1D(2),\n",
    "    layers.Conv1D(128, 3, activation='relu'),\n",
    "    layers.MaxPooling1D(2),\n",
    "    layers.Flatten(),\n",
    "    layers.Dense(64, activation='relu'),\n",
    "    layers.Dense(32, activation='relu'),\n",
    "    layers.Dense(16, activation='relu'),\n",
    "    layers.Dense(1, activation='sigmoid')\n",
    "])\n",
    "\n",
    "# Compilar el modelo\n",
    "model.compile(optimizer='adam', loss='binary_crossentropy', metrics=['accuracy'])\n",
    "\n",
    "# Resumen del modelo\n",
    "model.summary()"
   ]
  },
  {
   "cell_type": "code",
   "execution_count": 56,
   "metadata": {},
   "outputs": [
    {
     "name": "stdout",
     "output_type": "stream",
     "text": [
      "Epoch 1/10\n",
      "\u001b[1m182/182\u001b[0m \u001b[32m━━━━━━━━━━━━━━━━━━━━\u001b[0m\u001b[37m\u001b[0m \u001b[1m2s\u001b[0m 5ms/step - accuracy: 0.6052 - loss: 0.6602 - val_accuracy: 0.5857 - val_loss: 0.6727\n",
      "Epoch 2/10\n",
      "\u001b[1m182/182\u001b[0m \u001b[32m━━━━━━━━━━━━━━━━━━━━\u001b[0m\u001b[37m\u001b[0m \u001b[1m1s\u001b[0m 3ms/step - accuracy: 0.6765 - loss: 0.5842 - val_accuracy: 0.5530 - val_loss: 0.6877\n",
      "Epoch 3/10\n",
      "\u001b[1m182/182\u001b[0m \u001b[32m━━━━━━━━━━━━━━━━━━━━\u001b[0m\u001b[37m\u001b[0m \u001b[1m1s\u001b[0m 4ms/step - accuracy: 0.7042 - loss: 0.5502 - val_accuracy: 0.5470 - val_loss: 0.7147\n",
      "Epoch 4/10\n",
      "\u001b[1m182/182\u001b[0m \u001b[32m━━━━━━━━━━━━━━━━━━━━\u001b[0m\u001b[37m\u001b[0m \u001b[1m1s\u001b[0m 4ms/step - accuracy: 0.7276 - loss: 0.5233 - val_accuracy: 0.5867 - val_loss: 0.6866\n",
      "Epoch 5/10\n",
      "\u001b[1m182/182\u001b[0m \u001b[32m━━━━━━━━━━━━━━━━━━━━\u001b[0m\u001b[37m\u001b[0m \u001b[1m1s\u001b[0m 5ms/step - accuracy: 0.7371 - loss: 0.5020 - val_accuracy: 0.5893 - val_loss: 0.6986\n",
      "Epoch 6/10\n",
      "\u001b[1m182/182\u001b[0m \u001b[32m━━━━━━━━━━━━━━━━━━━━\u001b[0m\u001b[37m\u001b[0m \u001b[1m1s\u001b[0m 6ms/step - accuracy: 0.7472 - loss: 0.4879 - val_accuracy: 0.6000 - val_loss: 0.6847\n",
      "Epoch 7/10\n",
      "\u001b[1m182/182\u001b[0m \u001b[32m━━━━━━━━━━━━━━━━━━━━\u001b[0m\u001b[37m\u001b[0m \u001b[1m1s\u001b[0m 6ms/step - accuracy: 0.7521 - loss: 0.4738 - val_accuracy: 0.6147 - val_loss: 0.6681\n",
      "Epoch 8/10\n",
      "\u001b[1m182/182\u001b[0m \u001b[32m━━━━━━━━━━━━━━━━━━━━\u001b[0m\u001b[37m\u001b[0m \u001b[1m1s\u001b[0m 5ms/step - accuracy: 0.7618 - loss: 0.4616 - val_accuracy: 0.6310 - val_loss: 0.6443\n",
      "Epoch 9/10\n",
      "\u001b[1m182/182\u001b[0m \u001b[32m━━━━━━━━━━━━━━━━━━━━\u001b[0m\u001b[37m\u001b[0m \u001b[1m1s\u001b[0m 5ms/step - accuracy: 0.7708 - loss: 0.4512 - val_accuracy: 0.6430 - val_loss: 0.6327\n",
      "Epoch 10/10\n",
      "\u001b[1m182/182\u001b[0m \u001b[32m━━━━━━━━━━━━━━━━━━━━\u001b[0m\u001b[37m\u001b[0m \u001b[1m1s\u001b[0m 4ms/step - accuracy: 0.7730 - loss: 0.4424 - val_accuracy: 0.6303 - val_loss: 0.6481\n",
      "\u001b[1m94/94\u001b[0m \u001b[32m━━━━━━━━━━━━━━━━━━━━\u001b[0m\u001b[37m\u001b[0m \u001b[1m0s\u001b[0m 2ms/step\n",
      "\u001b[1m94/94\u001b[0m \u001b[32m━━━━━━━━━━━━━━━━━━━━\u001b[0m\u001b[37m\u001b[0m \u001b[1m0s\u001b[0m 1ms/step\n",
      "Evaluación con datos completos:\n",
      "              precision    recall  f1-score   support\n",
      "\n",
      "           0       0.95      0.57      0.71      2416\n",
      "           1       0.33      0.86      0.48       584\n",
      "\n",
      "    accuracy                           0.63      3000\n",
      "   macro avg       0.64      0.72      0.60      3000\n",
      "weighted avg       0.83      0.63      0.67      3000\n",
      "\n",
      "[[1386 1030]\n",
      " [  79  505]]\n"
     ]
    }
   ],
   "source": [
    "# Entrenar el modelo con datos balanceados con Undersampling\n",
    "model.fit(X_train_cnn_std_under, y_train_under, epochs=10, batch_size=16, validation_data=(X_test_cnn_std_under, y_test))\n",
    "\n",
    "# Evaluación del modelo con datos completos\n",
    "y_pred_cnn_under = (model.predict(X_test_cnn_std_under) > 0.5)\n",
    "\n",
    "# Obtener probabilidades para la curva AUC-ROC\n",
    "y_prob_cnn_under = model.predict(X_test_cnn_std_under)\n",
    "print(\"Evaluación con datos completos:\")\n",
    "print(classification_report(y_test, y_pred_cnn_under))\n",
    "print(confusion_matrix(y_test, y_pred_cnn_under))"
   ]
  },
  {
   "cell_type": "code",
   "execution_count": 57,
   "metadata": {},
   "outputs": [
    {
     "name": "stdout",
     "output_type": "stream",
     "text": [
      "              precision    recall  f1-score   support\n",
      "\n",
      "           0       0.95      0.57      0.71      2416\n",
      "           1       0.33      0.86      0.48       584\n",
      "\n",
      "    accuracy                           0.63      3000\n",
      "   macro avg       0.64      0.72      0.60      3000\n",
      "weighted avg       0.83      0.63      0.67      3000\n",
      "\n"
     ]
    }
   ],
   "source": [
    "print(classification_report(y_test, y_pred_cnn_under))"
   ]
  },
  {
   "cell_type": "markdown",
   "metadata": {},
   "source": [
    "##### 6.1. Aplicamos el modelo de una Red Neuronal recurrente (LSTM)"
   ]
  },
  {
   "cell_type": "code",
   "execution_count": 58,
   "metadata": {},
   "outputs": [],
   "source": [
    "import tensorflow as tf\n",
    "import numpy as np\n",
    "\n",
    "# Establecer semilla aleatoria para garantizar resultados reproducibles\n",
    "np.random.seed(42)  # Para operaciones que dependen de NumPy\n",
    "tf.random.set_seed(42)  # Para TensorFlow"
   ]
  },
  {
   "cell_type": "code",
   "execution_count": 59,
   "metadata": {},
   "outputs": [
    {
     "name": "stdout",
     "output_type": "stream",
     "text": [
      "(7000, 10, 1) (3000, 10, 1)\n"
     ]
    },
    {
     "name": "stderr",
     "output_type": "stream",
     "text": [
      "c:\\Users\\rdcastillo47\\Documents\\RAHAM_UNIVERSIDAD\\HERRAMIENTAS\\appSIFIA_copia\\venv\\lib\\site-packages\\keras\\src\\layers\\rnn\\rnn.py:200: UserWarning: Do not pass an `input_shape`/`input_dim` argument to a layer. When using Sequential models, prefer using an `Input(shape)` object as the first layer in the model instead.\n",
      "  super().__init__(**kwargs)\n"
     ]
    },
    {
     "data": {
      "text/html": [
       "<pre style=\"white-space:pre;overflow-x:auto;line-height:normal;font-family:Menlo,'DejaVu Sans Mono',consolas,'Courier New',monospace\"><span style=\"font-weight: bold\">Model: \"sequential_6\"</span>\n",
       "</pre>\n"
      ],
      "text/plain": [
       "\u001b[1mModel: \"sequential_6\"\u001b[0m\n"
      ]
     },
     "metadata": {},
     "output_type": "display_data"
    },
    {
     "data": {
      "text/html": [
       "<pre style=\"white-space:pre;overflow-x:auto;line-height:normal;font-family:Menlo,'DejaVu Sans Mono',consolas,'Courier New',monospace\">┏━━━━━━━━━━━━━━━━━━━━━━━━━━━━━━━━━┳━━━━━━━━━━━━━━━━━━━━━━━━┳━━━━━━━━━━━━━━━┓\n",
       "┃<span style=\"font-weight: bold\"> Layer (type)                    </span>┃<span style=\"font-weight: bold\"> Output Shape           </span>┃<span style=\"font-weight: bold\">       Param # </span>┃\n",
       "┡━━━━━━━━━━━━━━━━━━━━━━━━━━━━━━━━━╇━━━━━━━━━━━━━━━━━━━━━━━━╇━━━━━━━━━━━━━━━┩\n",
       "│ lstm (<span style=\"color: #0087ff; text-decoration-color: #0087ff\">LSTM</span>)                     │ (<span style=\"color: #00d7ff; text-decoration-color: #00d7ff\">None</span>, <span style=\"color: #00af00; text-decoration-color: #00af00\">64</span>)             │        <span style=\"color: #00af00; text-decoration-color: #00af00\">16,896</span> │\n",
       "├─────────────────────────────────┼────────────────────────┼───────────────┤\n",
       "│ dropout (<span style=\"color: #0087ff; text-decoration-color: #0087ff\">Dropout</span>)               │ (<span style=\"color: #00d7ff; text-decoration-color: #00d7ff\">None</span>, <span style=\"color: #00af00; text-decoration-color: #00af00\">64</span>)             │             <span style=\"color: #00af00; text-decoration-color: #00af00\">0</span> │\n",
       "├─────────────────────────────────┼────────────────────────┼───────────────┤\n",
       "│ dense_24 (<span style=\"color: #0087ff; text-decoration-color: #0087ff\">Dense</span>)                │ (<span style=\"color: #00d7ff; text-decoration-color: #00d7ff\">None</span>, <span style=\"color: #00af00; text-decoration-color: #00af00\">64</span>)             │         <span style=\"color: #00af00; text-decoration-color: #00af00\">4,160</span> │\n",
       "├─────────────────────────────────┼────────────────────────┼───────────────┤\n",
       "│ dense_25 (<span style=\"color: #0087ff; text-decoration-color: #0087ff\">Dense</span>)                │ (<span style=\"color: #00d7ff; text-decoration-color: #00d7ff\">None</span>, <span style=\"color: #00af00; text-decoration-color: #00af00\">32</span>)             │         <span style=\"color: #00af00; text-decoration-color: #00af00\">2,080</span> │\n",
       "├─────────────────────────────────┼────────────────────────┼───────────────┤\n",
       "│ dense_26 (<span style=\"color: #0087ff; text-decoration-color: #0087ff\">Dense</span>)                │ (<span style=\"color: #00d7ff; text-decoration-color: #00d7ff\">None</span>, <span style=\"color: #00af00; text-decoration-color: #00af00\">16</span>)             │           <span style=\"color: #00af00; text-decoration-color: #00af00\">528</span> │\n",
       "├─────────────────────────────────┼────────────────────────┼───────────────┤\n",
       "│ dense_27 (<span style=\"color: #0087ff; text-decoration-color: #0087ff\">Dense</span>)                │ (<span style=\"color: #00d7ff; text-decoration-color: #00d7ff\">None</span>, <span style=\"color: #00af00; text-decoration-color: #00af00\">1</span>)              │            <span style=\"color: #00af00; text-decoration-color: #00af00\">17</span> │\n",
       "└─────────────────────────────────┴────────────────────────┴───────────────┘\n",
       "</pre>\n"
      ],
      "text/plain": [
       "┏━━━━━━━━━━━━━━━━━━━━━━━━━━━━━━━━━┳━━━━━━━━━━━━━━━━━━━━━━━━┳━━━━━━━━━━━━━━━┓\n",
       "┃\u001b[1m \u001b[0m\u001b[1mLayer (type)                   \u001b[0m\u001b[1m \u001b[0m┃\u001b[1m \u001b[0m\u001b[1mOutput Shape          \u001b[0m\u001b[1m \u001b[0m┃\u001b[1m \u001b[0m\u001b[1m      Param #\u001b[0m\u001b[1m \u001b[0m┃\n",
       "┡━━━━━━━━━━━━━━━━━━━━━━━━━━━━━━━━━╇━━━━━━━━━━━━━━━━━━━━━━━━╇━━━━━━━━━━━━━━━┩\n",
       "│ lstm (\u001b[38;5;33mLSTM\u001b[0m)                     │ (\u001b[38;5;45mNone\u001b[0m, \u001b[38;5;34m64\u001b[0m)             │        \u001b[38;5;34m16,896\u001b[0m │\n",
       "├─────────────────────────────────┼────────────────────────┼───────────────┤\n",
       "│ dropout (\u001b[38;5;33mDropout\u001b[0m)               │ (\u001b[38;5;45mNone\u001b[0m, \u001b[38;5;34m64\u001b[0m)             │             \u001b[38;5;34m0\u001b[0m │\n",
       "├─────────────────────────────────┼────────────────────────┼───────────────┤\n",
       "│ dense_24 (\u001b[38;5;33mDense\u001b[0m)                │ (\u001b[38;5;45mNone\u001b[0m, \u001b[38;5;34m64\u001b[0m)             │         \u001b[38;5;34m4,160\u001b[0m │\n",
       "├─────────────────────────────────┼────────────────────────┼───────────────┤\n",
       "│ dense_25 (\u001b[38;5;33mDense\u001b[0m)                │ (\u001b[38;5;45mNone\u001b[0m, \u001b[38;5;34m32\u001b[0m)             │         \u001b[38;5;34m2,080\u001b[0m │\n",
       "├─────────────────────────────────┼────────────────────────┼───────────────┤\n",
       "│ dense_26 (\u001b[38;5;33mDense\u001b[0m)                │ (\u001b[38;5;45mNone\u001b[0m, \u001b[38;5;34m16\u001b[0m)             │           \u001b[38;5;34m528\u001b[0m │\n",
       "├─────────────────────────────────┼────────────────────────┼───────────────┤\n",
       "│ dense_27 (\u001b[38;5;33mDense\u001b[0m)                │ (\u001b[38;5;45mNone\u001b[0m, \u001b[38;5;34m1\u001b[0m)              │            \u001b[38;5;34m17\u001b[0m │\n",
       "└─────────────────────────────────┴────────────────────────┴───────────────┘\n"
      ]
     },
     "metadata": {},
     "output_type": "display_data"
    },
    {
     "data": {
      "text/html": [
       "<pre style=\"white-space:pre;overflow-x:auto;line-height:normal;font-family:Menlo,'DejaVu Sans Mono',consolas,'Courier New',monospace\"><span style=\"font-weight: bold\"> Total params: </span><span style=\"color: #00af00; text-decoration-color: #00af00\">23,681</span> (92.50 KB)\n",
       "</pre>\n"
      ],
      "text/plain": [
       "\u001b[1m Total params: \u001b[0m\u001b[38;5;34m23,681\u001b[0m (92.50 KB)\n"
      ]
     },
     "metadata": {},
     "output_type": "display_data"
    },
    {
     "data": {
      "text/html": [
       "<pre style=\"white-space:pre;overflow-x:auto;line-height:normal;font-family:Menlo,'DejaVu Sans Mono',consolas,'Courier New',monospace\"><span style=\"font-weight: bold\"> Trainable params: </span><span style=\"color: #00af00; text-decoration-color: #00af00\">23,681</span> (92.50 KB)\n",
       "</pre>\n"
      ],
      "text/plain": [
       "\u001b[1m Trainable params: \u001b[0m\u001b[38;5;34m23,681\u001b[0m (92.50 KB)\n"
      ]
     },
     "metadata": {},
     "output_type": "display_data"
    },
    {
     "data": {
      "text/html": [
       "<pre style=\"white-space:pre;overflow-x:auto;line-height:normal;font-family:Menlo,'DejaVu Sans Mono',consolas,'Courier New',monospace\"><span style=\"font-weight: bold\"> Non-trainable params: </span><span style=\"color: #00af00; text-decoration-color: #00af00\">0</span> (0.00 B)\n",
       "</pre>\n"
      ],
      "text/plain": [
       "\u001b[1m Non-trainable params: \u001b[0m\u001b[38;5;34m0\u001b[0m (0.00 B)\n"
      ]
     },
     "metadata": {},
     "output_type": "display_data"
    }
   ],
   "source": [
    "# Se remodela para que sea compatible con LSTM (n_samples, n_features, 1)\n",
    "X_train_lstm_std = X_train_std_esc1.reshape(X_train_std_esc1.shape[0], X_train_std_esc1.shape[1], 1)\n",
    "X_test_lstm_std = X_test_std_esc1.reshape(X_test_std_esc1.shape[0], X_test_std_esc1.shape[1], 1)\n",
    "# Ver la nueva forma de los datos\n",
    "print(X_train_lstm_std.shape, X_test_lstm_std.shape)\n",
    "\n",
    "# Crear el modelo LSTM\n",
    "model = models.Sequential([\n",
    "    layers.LSTM(64, activation='relu', input_shape=(X_train_lstm_std.shape[1], 1)),\n",
    "    layers.Dropout(0.2),  # Regularización por Dropout\n",
    "    layers.Dense(64, activation='relu'),\n",
    "    layers.Dense(32, activation='relu'),\n",
    "    layers.Dense(16, activation='relu'),\n",
    "    layers.Dense(1, activation='sigmoid')  # Salida binaria (0 o 1)\n",
    "])\n",
    "# Compilar el modelo\n",
    "model.compile(optimizer='adam', loss='binary_crossentropy', metrics=['accuracy'])\n",
    "\n",
    "# Resumen del modelo\n",
    "model.summary()"
   ]
  },
  {
   "cell_type": "code",
   "execution_count": 60,
   "metadata": {},
   "outputs": [
    {
     "name": "stdout",
     "output_type": "stream",
     "text": [
      "Epoch 1/10\n",
      "\u001b[1m438/438\u001b[0m \u001b[32m━━━━━━━━━━━━━━━━━━━━\u001b[0m\u001b[37m\u001b[0m \u001b[1m4s\u001b[0m 5ms/step - accuracy: 0.7971 - loss: 0.5278 - val_accuracy: 0.8093 - val_loss: 0.4542\n",
      "Epoch 2/10\n",
      "\u001b[1m438/438\u001b[0m \u001b[32m━━━━━━━━━━━━━━━━━━━━\u001b[0m\u001b[37m\u001b[0m \u001b[1m2s\u001b[0m 5ms/step - accuracy: 0.8023 - loss: 0.4659 - val_accuracy: 0.8207 - val_loss: 0.4268\n",
      "Epoch 3/10\n",
      "\u001b[1m438/438\u001b[0m \u001b[32m━━━━━━━━━━━━━━━━━━━━\u001b[0m\u001b[37m\u001b[0m \u001b[1m2s\u001b[0m 5ms/step - accuracy: 0.8132 - loss: 0.4428 - val_accuracy: 0.8300 - val_loss: 0.4086\n",
      "Epoch 4/10\n",
      "\u001b[1m438/438\u001b[0m \u001b[32m━━━━━━━━━━━━━━━━━━━━\u001b[0m\u001b[37m\u001b[0m \u001b[1m2s\u001b[0m 4ms/step - accuracy: 0.8164 - loss: 0.4302 - val_accuracy: 0.8320 - val_loss: 0.4010\n",
      "Epoch 5/10\n",
      "\u001b[1m438/438\u001b[0m \u001b[32m━━━━━━━━━━━━━━━━━━━━\u001b[0m\u001b[37m\u001b[0m \u001b[1m2s\u001b[0m 5ms/step - accuracy: 0.8258 - loss: 0.4171 - val_accuracy: 0.8370 - val_loss: 0.3880\n",
      "Epoch 6/10\n",
      "\u001b[1m438/438\u001b[0m \u001b[32m━━━━━━━━━━━━━━━━━━━━\u001b[0m\u001b[37m\u001b[0m \u001b[1m2s\u001b[0m 5ms/step - accuracy: 0.8245 - loss: 0.4099 - val_accuracy: 0.8383 - val_loss: 0.3853\n",
      "Epoch 7/10\n",
      "\u001b[1m438/438\u001b[0m \u001b[32m━━━━━━━━━━━━━━━━━━━━\u001b[0m\u001b[37m\u001b[0m \u001b[1m2s\u001b[0m 4ms/step - accuracy: 0.8274 - loss: 0.4021 - val_accuracy: 0.8457 - val_loss: 0.3698\n",
      "Epoch 8/10\n",
      "\u001b[1m438/438\u001b[0m \u001b[32m━━━━━━━━━━━━━━━━━━━━\u001b[0m\u001b[37m\u001b[0m \u001b[1m2s\u001b[0m 4ms/step - accuracy: 0.8296 - loss: 0.3938 - val_accuracy: 0.8460 - val_loss: 0.3675\n",
      "Epoch 9/10\n",
      "\u001b[1m438/438\u001b[0m \u001b[32m━━━━━━━━━━━━━━━━━━━━\u001b[0m\u001b[37m\u001b[0m \u001b[1m2s\u001b[0m 4ms/step - accuracy: 0.8370 - loss: 0.3890 - val_accuracy: 0.8487 - val_loss: 0.3638\n",
      "Epoch 10/10\n",
      "\u001b[1m438/438\u001b[0m \u001b[32m━━━━━━━━━━━━━━━━━━━━\u001b[0m\u001b[37m\u001b[0m \u001b[1m2s\u001b[0m 4ms/step - accuracy: 0.8382 - loss: 0.3816 - val_accuracy: 0.8547 - val_loss: 0.3582\n",
      "\u001b[1m94/94\u001b[0m \u001b[32m━━━━━━━━━━━━━━━━━━━━\u001b[0m\u001b[37m\u001b[0m \u001b[1m0s\u001b[0m 3ms/step\n",
      "\u001b[1m94/94\u001b[0m \u001b[32m━━━━━━━━━━━━━━━━━━━━\u001b[0m\u001b[37m\u001b[0m \u001b[1m0s\u001b[0m 1ms/step\n",
      "Evaluación con datos completos:\n",
      "              precision    recall  f1-score   support\n",
      "\n",
      "           0       0.86      0.98      0.92      2416\n",
      "           1       0.82      0.32      0.46       584\n",
      "\n",
      "    accuracy                           0.85      3000\n",
      "   macro avg       0.84      0.65      0.69      3000\n",
      "weighted avg       0.85      0.85      0.83      3000\n",
      "\n",
      "[[2375   41]\n",
      " [ 395  189]]\n"
     ]
    }
   ],
   "source": [
    "# Entrenar el modelo\n",
    "model.fit(X_train_lstm_std, y_train, epochs=10, batch_size=16, validation_data=(X_test_lstm_std, y_test))\n",
    "\n",
    "# Evaluar el modelo\n",
    "y_pred_lstm = (model.predict(X_test_lstm_std) > 0.5)\n",
    "# Obtener las probabilidades para la curva AUC-ROC\n",
    "y_prob_lstm = model.predict(X_test_lstm_std)\n",
    "print(\"Evaluación con datos completos:\")\n",
    "print(classification_report(y_test, y_pred_lstm))\n",
    "print(confusion_matrix(y_test, y_pred_lstm))"
   ]
  },
  {
   "cell_type": "code",
   "execution_count": 61,
   "metadata": {},
   "outputs": [
    {
     "name": "stdout",
     "output_type": "stream",
     "text": [
      "              precision    recall  f1-score   support\n",
      "\n",
      "           0       0.86      0.98      0.92      2416\n",
      "           1       0.82      0.32      0.46       584\n",
      "\n",
      "    accuracy                           0.85      3000\n",
      "   macro avg       0.84      0.65      0.69      3000\n",
      "weighted avg       0.85      0.85      0.83      3000\n",
      "\n"
     ]
    }
   ],
   "source": [
    "print(classification_report(y_test, y_pred_lstm))"
   ]
  },
  {
   "cell_type": "markdown",
   "metadata": {},
   "source": [
    "##### 6.2. Aplicamos el modelo de una Red Neuronal recurrente (LSTM) con oversampling"
   ]
  },
  {
   "cell_type": "code",
   "execution_count": 62,
   "metadata": {},
   "outputs": [
    {
     "name": "stderr",
     "output_type": "stream",
     "text": [
      "c:\\Users\\rdcastillo47\\Documents\\RAHAM_UNIVERSIDAD\\HERRAMIENTAS\\appSIFIA_copia\\venv\\lib\\site-packages\\keras\\src\\layers\\rnn\\rnn.py:200: UserWarning: Do not pass an `input_shape`/`input_dim` argument to a layer. When using Sequential models, prefer using an `Input(shape)` object as the first layer in the model instead.\n",
      "  super().__init__(**kwargs)\n"
     ]
    },
    {
     "data": {
      "text/html": [
       "<pre style=\"white-space:pre;overflow-x:auto;line-height:normal;font-family:Menlo,'DejaVu Sans Mono',consolas,'Courier New',monospace\"><span style=\"font-weight: bold\">Model: \"sequential_7\"</span>\n",
       "</pre>\n"
      ],
      "text/plain": [
       "\u001b[1mModel: \"sequential_7\"\u001b[0m\n"
      ]
     },
     "metadata": {},
     "output_type": "display_data"
    },
    {
     "data": {
      "text/html": [
       "<pre style=\"white-space:pre;overflow-x:auto;line-height:normal;font-family:Menlo,'DejaVu Sans Mono',consolas,'Courier New',monospace\">┏━━━━━━━━━━━━━━━━━━━━━━━━━━━━━━━━━┳━━━━━━━━━━━━━━━━━━━━━━━━┳━━━━━━━━━━━━━━━┓\n",
       "┃<span style=\"font-weight: bold\"> Layer (type)                    </span>┃<span style=\"font-weight: bold\"> Output Shape           </span>┃<span style=\"font-weight: bold\">       Param # </span>┃\n",
       "┡━━━━━━━━━━━━━━━━━━━━━━━━━━━━━━━━━╇━━━━━━━━━━━━━━━━━━━━━━━━╇━━━━━━━━━━━━━━━┩\n",
       "│ lstm_1 (<span style=\"color: #0087ff; text-decoration-color: #0087ff\">LSTM</span>)                   │ (<span style=\"color: #00d7ff; text-decoration-color: #00d7ff\">None</span>, <span style=\"color: #00af00; text-decoration-color: #00af00\">64</span>)             │        <span style=\"color: #00af00; text-decoration-color: #00af00\">16,896</span> │\n",
       "├─────────────────────────────────┼────────────────────────┼───────────────┤\n",
       "│ dropout_1 (<span style=\"color: #0087ff; text-decoration-color: #0087ff\">Dropout</span>)             │ (<span style=\"color: #00d7ff; text-decoration-color: #00d7ff\">None</span>, <span style=\"color: #00af00; text-decoration-color: #00af00\">64</span>)             │             <span style=\"color: #00af00; text-decoration-color: #00af00\">0</span> │\n",
       "├─────────────────────────────────┼────────────────────────┼───────────────┤\n",
       "│ dense_28 (<span style=\"color: #0087ff; text-decoration-color: #0087ff\">Dense</span>)                │ (<span style=\"color: #00d7ff; text-decoration-color: #00d7ff\">None</span>, <span style=\"color: #00af00; text-decoration-color: #00af00\">64</span>)             │         <span style=\"color: #00af00; text-decoration-color: #00af00\">4,160</span> │\n",
       "├─────────────────────────────────┼────────────────────────┼───────────────┤\n",
       "│ dense_29 (<span style=\"color: #0087ff; text-decoration-color: #0087ff\">Dense</span>)                │ (<span style=\"color: #00d7ff; text-decoration-color: #00d7ff\">None</span>, <span style=\"color: #00af00; text-decoration-color: #00af00\">32</span>)             │         <span style=\"color: #00af00; text-decoration-color: #00af00\">2,080</span> │\n",
       "├─────────────────────────────────┼────────────────────────┼───────────────┤\n",
       "│ dense_30 (<span style=\"color: #0087ff; text-decoration-color: #0087ff\">Dense</span>)                │ (<span style=\"color: #00d7ff; text-decoration-color: #00d7ff\">None</span>, <span style=\"color: #00af00; text-decoration-color: #00af00\">16</span>)             │           <span style=\"color: #00af00; text-decoration-color: #00af00\">528</span> │\n",
       "├─────────────────────────────────┼────────────────────────┼───────────────┤\n",
       "│ dense_31 (<span style=\"color: #0087ff; text-decoration-color: #0087ff\">Dense</span>)                │ (<span style=\"color: #00d7ff; text-decoration-color: #00d7ff\">None</span>, <span style=\"color: #00af00; text-decoration-color: #00af00\">1</span>)              │            <span style=\"color: #00af00; text-decoration-color: #00af00\">17</span> │\n",
       "└─────────────────────────────────┴────────────────────────┴───────────────┘\n",
       "</pre>\n"
      ],
      "text/plain": [
       "┏━━━━━━━━━━━━━━━━━━━━━━━━━━━━━━━━━┳━━━━━━━━━━━━━━━━━━━━━━━━┳━━━━━━━━━━━━━━━┓\n",
       "┃\u001b[1m \u001b[0m\u001b[1mLayer (type)                   \u001b[0m\u001b[1m \u001b[0m┃\u001b[1m \u001b[0m\u001b[1mOutput Shape          \u001b[0m\u001b[1m \u001b[0m┃\u001b[1m \u001b[0m\u001b[1m      Param #\u001b[0m\u001b[1m \u001b[0m┃\n",
       "┡━━━━━━━━━━━━━━━━━━━━━━━━━━━━━━━━━╇━━━━━━━━━━━━━━━━━━━━━━━━╇━━━━━━━━━━━━━━━┩\n",
       "│ lstm_1 (\u001b[38;5;33mLSTM\u001b[0m)                   │ (\u001b[38;5;45mNone\u001b[0m, \u001b[38;5;34m64\u001b[0m)             │        \u001b[38;5;34m16,896\u001b[0m │\n",
       "├─────────────────────────────────┼────────────────────────┼───────────────┤\n",
       "│ dropout_1 (\u001b[38;5;33mDropout\u001b[0m)             │ (\u001b[38;5;45mNone\u001b[0m, \u001b[38;5;34m64\u001b[0m)             │             \u001b[38;5;34m0\u001b[0m │\n",
       "├─────────────────────────────────┼────────────────────────┼───────────────┤\n",
       "│ dense_28 (\u001b[38;5;33mDense\u001b[0m)                │ (\u001b[38;5;45mNone\u001b[0m, \u001b[38;5;34m64\u001b[0m)             │         \u001b[38;5;34m4,160\u001b[0m │\n",
       "├─────────────────────────────────┼────────────────────────┼───────────────┤\n",
       "│ dense_29 (\u001b[38;5;33mDense\u001b[0m)                │ (\u001b[38;5;45mNone\u001b[0m, \u001b[38;5;34m32\u001b[0m)             │         \u001b[38;5;34m2,080\u001b[0m │\n",
       "├─────────────────────────────────┼────────────────────────┼───────────────┤\n",
       "│ dense_30 (\u001b[38;5;33mDense\u001b[0m)                │ (\u001b[38;5;45mNone\u001b[0m, \u001b[38;5;34m16\u001b[0m)             │           \u001b[38;5;34m528\u001b[0m │\n",
       "├─────────────────────────────────┼────────────────────────┼───────────────┤\n",
       "│ dense_31 (\u001b[38;5;33mDense\u001b[0m)                │ (\u001b[38;5;45mNone\u001b[0m, \u001b[38;5;34m1\u001b[0m)              │            \u001b[38;5;34m17\u001b[0m │\n",
       "└─────────────────────────────────┴────────────────────────┴───────────────┘\n"
      ]
     },
     "metadata": {},
     "output_type": "display_data"
    },
    {
     "data": {
      "text/html": [
       "<pre style=\"white-space:pre;overflow-x:auto;line-height:normal;font-family:Menlo,'DejaVu Sans Mono',consolas,'Courier New',monospace\"><span style=\"font-weight: bold\"> Total params: </span><span style=\"color: #00af00; text-decoration-color: #00af00\">23,681</span> (92.50 KB)\n",
       "</pre>\n"
      ],
      "text/plain": [
       "\u001b[1m Total params: \u001b[0m\u001b[38;5;34m23,681\u001b[0m (92.50 KB)\n"
      ]
     },
     "metadata": {},
     "output_type": "display_data"
    },
    {
     "data": {
      "text/html": [
       "<pre style=\"white-space:pre;overflow-x:auto;line-height:normal;font-family:Menlo,'DejaVu Sans Mono',consolas,'Courier New',monospace\"><span style=\"font-weight: bold\"> Trainable params: </span><span style=\"color: #00af00; text-decoration-color: #00af00\">23,681</span> (92.50 KB)\n",
       "</pre>\n"
      ],
      "text/plain": [
       "\u001b[1m Trainable params: \u001b[0m\u001b[38;5;34m23,681\u001b[0m (92.50 KB)\n"
      ]
     },
     "metadata": {},
     "output_type": "display_data"
    },
    {
     "data": {
      "text/html": [
       "<pre style=\"white-space:pre;overflow-x:auto;line-height:normal;font-family:Menlo,'DejaVu Sans Mono',consolas,'Courier New',monospace\"><span style=\"font-weight: bold\"> Non-trainable params: </span><span style=\"color: #00af00; text-decoration-color: #00af00\">0</span> (0.00 B)\n",
       "</pre>\n"
      ],
      "text/plain": [
       "\u001b[1m Non-trainable params: \u001b[0m\u001b[38;5;34m0\u001b[0m (0.00 B)\n"
      ]
     },
     "metadata": {},
     "output_type": "display_data"
    }
   ],
   "source": [
    "# Remodelar para LSTM con Oversampling\n",
    "X_train_lstm_std_over = X_train_over_std_esc1.reshape(X_train_over_std_esc1.shape[0], X_train_over_std_esc1.shape[1], 1)\n",
    "X_test_lstm_std_over = X_test_over_std_esc1.reshape(X_test_over_std_esc1.shape[0], X_test_over_std_esc1.shape[1], 1)\n",
    "\n",
    "#Crear el modelo LSTM\n",
    "model = models.Sequential([\n",
    "    layers.LSTM(64, activation='relu', input_shape=(X_train_lstm_std_over.shape[1], 1)),\n",
    "    layers.Dropout(0.2),  # Regularización por Dropout\n",
    "    layers.Dense(64, activation='relu'),\n",
    "    layers.Dense(32, activation='relu'),\n",
    "    layers.Dense(16, activation='relu'),\n",
    "    layers.Dense(1, activation='sigmoid')  # Salida binaria (0 o 1)\n",
    "])\n",
    "\n",
    "# Compilar el modelo\n",
    "model.compile(optimizer='adam', loss='binary_crossentropy', metrics=['accuracy'])\n",
    "\n",
    "# Resumen del modelo\n",
    "model.summary()"
   ]
  },
  {
   "cell_type": "code",
   "execution_count": 63,
   "metadata": {},
   "outputs": [
    {
     "name": "stdout",
     "output_type": "stream",
     "text": [
      "Epoch 1/10\n",
      "\u001b[1m694/694\u001b[0m \u001b[32m━━━━━━━━━━━━━━━━━━━━\u001b[0m\u001b[37m\u001b[0m \u001b[1m5s\u001b[0m 5ms/step - accuracy: 0.6305 - loss: 0.6480 - val_accuracy: 0.6927 - val_loss: 0.6002\n",
      "Epoch 2/10\n",
      "\u001b[1m694/694\u001b[0m \u001b[32m━━━━━━━━━━━━━━━━━━━━\u001b[0m\u001b[37m\u001b[0m \u001b[1m4s\u001b[0m 6ms/step - accuracy: 0.7266 - loss: 0.5508 - val_accuracy: 0.7310 - val_loss: 0.5608\n",
      "Epoch 3/10\n",
      "\u001b[1m694/694\u001b[0m \u001b[32m━━━━━━━━━━━━━━━━━━━━\u001b[0m\u001b[37m\u001b[0m \u001b[1m4s\u001b[0m 5ms/step - accuracy: 0.7564 - loss: 0.5097 - val_accuracy: 0.7817 - val_loss: 0.4861\n",
      "Epoch 4/10\n",
      "\u001b[1m694/694\u001b[0m \u001b[32m━━━━━━━━━━━━━━━━━━━━\u001b[0m\u001b[37m\u001b[0m \u001b[1m3s\u001b[0m 4ms/step - accuracy: 0.7759 - loss: 0.4800 - val_accuracy: 0.7573 - val_loss: 0.4959\n",
      "Epoch 5/10\n",
      "\u001b[1m694/694\u001b[0m \u001b[32m━━━━━━━━━━━━━━━━━━━━\u001b[0m\u001b[37m\u001b[0m \u001b[1m3s\u001b[0m 4ms/step - accuracy: 0.7836 - loss: 0.4611 - val_accuracy: 0.7787 - val_loss: 0.4784\n",
      "Epoch 6/10\n",
      "\u001b[1m694/694\u001b[0m \u001b[32m━━━━━━━━━━━━━━━━━━━━\u001b[0m\u001b[37m\u001b[0m \u001b[1m3s\u001b[0m 4ms/step - accuracy: 0.7890 - loss: 0.4527 - val_accuracy: 0.7747 - val_loss: 0.4849\n",
      "Epoch 7/10\n",
      "\u001b[1m694/694\u001b[0m \u001b[32m━━━━━━━━━━━━━━━━━━━━\u001b[0m\u001b[37m\u001b[0m \u001b[1m3s\u001b[0m 5ms/step - accuracy: 0.7959 - loss: 0.4481 - val_accuracy: 0.7710 - val_loss: 0.4987\n",
      "Epoch 8/10\n",
      "\u001b[1m694/694\u001b[0m \u001b[32m━━━━━━━━━━━━━━━━━━━━\u001b[0m\u001b[37m\u001b[0m \u001b[1m3s\u001b[0m 4ms/step - accuracy: 0.7953 - loss: 0.4432 - val_accuracy: 0.7567 - val_loss: 0.5092\n",
      "Epoch 9/10\n",
      "\u001b[1m694/694\u001b[0m \u001b[32m━━━━━━━━━━━━━━━━━━━━\u001b[0m\u001b[37m\u001b[0m \u001b[1m2s\u001b[0m 3ms/step - accuracy: 0.7947 - loss: 0.4423 - val_accuracy: 0.7730 - val_loss: 0.4865\n",
      "Epoch 10/10\n",
      "\u001b[1m694/694\u001b[0m \u001b[32m━━━━━━━━━━━━━━━━━━━━\u001b[0m\u001b[37m\u001b[0m \u001b[1m2s\u001b[0m 3ms/step - accuracy: 0.8019 - loss: 0.4349 - val_accuracy: 0.7570 - val_loss: 0.5117\n",
      "\u001b[1m94/94\u001b[0m \u001b[32m━━━━━━━━━━━━━━━━━━━━\u001b[0m\u001b[37m\u001b[0m \u001b[1m0s\u001b[0m 2ms/step\n",
      "\u001b[1m94/94\u001b[0m \u001b[32m━━━━━━━━━━━━━━━━━━━━\u001b[0m\u001b[37m\u001b[0m \u001b[1m0s\u001b[0m 1ms/step\n",
      "Evaluación con datos completos:\n",
      "              precision    recall  f1-score   support\n",
      "\n",
      "           0       0.91      0.77      0.84      2416\n",
      "           1       0.42      0.70      0.53       584\n",
      "\n",
      "    accuracy                           0.76      3000\n",
      "   macro avg       0.67      0.73      0.68      3000\n",
      "weighted avg       0.82      0.76      0.78      3000\n",
      "\n",
      "[[1865  551]\n",
      " [ 178  406]]\n"
     ]
    }
   ],
   "source": [
    "# Entrenar el modelo con datos balanceados con Oversampling\n",
    "model.fit(X_train_lstm_std_over, y_train_over, epochs=10, batch_size=16, validation_data=(X_test_lstm_std_over, y_test))\n",
    "\n",
    "# Evaluar el modelo\n",
    "y_pred_lstm_over = (model.predict(X_test_lstm_std_over) > 0.5)\n",
    "\n",
    "# Obtener las probabilidades para la curva AUC-ROC\n",
    "y_prob_lstm_over = model.predict(X_test_lstm_std_over)\n",
    "\n",
    "print(\"Evaluación con datos completos:\")\n",
    "print(classification_report(y_test, y_pred_lstm_over))\n",
    "print(confusion_matrix(y_test, y_pred_lstm_over))"
   ]
  },
  {
   "cell_type": "code",
   "execution_count": 64,
   "metadata": {},
   "outputs": [
    {
     "name": "stdout",
     "output_type": "stream",
     "text": [
      "              precision    recall  f1-score   support\n",
      "\n",
      "           0       0.91      0.77      0.84      2416\n",
      "           1       0.42      0.70      0.53       584\n",
      "\n",
      "    accuracy                           0.76      3000\n",
      "   macro avg       0.67      0.73      0.68      3000\n",
      "weighted avg       0.82      0.76      0.78      3000\n",
      "\n"
     ]
    }
   ],
   "source": [
    "print(classification_report(y_test, y_pred_lstm_over))"
   ]
  },
  {
   "cell_type": "markdown",
   "metadata": {},
   "source": [
    "##### 6.3. Aplicamos el modelo de una Red Neuronal recurrente (LSTM) con undersampling"
   ]
  },
  {
   "cell_type": "code",
   "execution_count": 65,
   "metadata": {},
   "outputs": [
    {
     "name": "stderr",
     "output_type": "stream",
     "text": [
      "c:\\Users\\rdcastillo47\\Documents\\RAHAM_UNIVERSIDAD\\HERRAMIENTAS\\appSIFIA_copia\\venv\\lib\\site-packages\\keras\\src\\layers\\rnn\\rnn.py:200: UserWarning: Do not pass an `input_shape`/`input_dim` argument to a layer. When using Sequential models, prefer using an `Input(shape)` object as the first layer in the model instead.\n",
      "  super().__init__(**kwargs)\n"
     ]
    },
    {
     "data": {
      "text/html": [
       "<pre style=\"white-space:pre;overflow-x:auto;line-height:normal;font-family:Menlo,'DejaVu Sans Mono',consolas,'Courier New',monospace\"><span style=\"font-weight: bold\">Model: \"sequential_8\"</span>\n",
       "</pre>\n"
      ],
      "text/plain": [
       "\u001b[1mModel: \"sequential_8\"\u001b[0m\n"
      ]
     },
     "metadata": {},
     "output_type": "display_data"
    },
    {
     "data": {
      "text/html": [
       "<pre style=\"white-space:pre;overflow-x:auto;line-height:normal;font-family:Menlo,'DejaVu Sans Mono',consolas,'Courier New',monospace\">┏━━━━━━━━━━━━━━━━━━━━━━━━━━━━━━━━━┳━━━━━━━━━━━━━━━━━━━━━━━━┳━━━━━━━━━━━━━━━┓\n",
       "┃<span style=\"font-weight: bold\"> Layer (type)                    </span>┃<span style=\"font-weight: bold\"> Output Shape           </span>┃<span style=\"font-weight: bold\">       Param # </span>┃\n",
       "┡━━━━━━━━━━━━━━━━━━━━━━━━━━━━━━━━━╇━━━━━━━━━━━━━━━━━━━━━━━━╇━━━━━━━━━━━━━━━┩\n",
       "│ lstm_2 (<span style=\"color: #0087ff; text-decoration-color: #0087ff\">LSTM</span>)                   │ (<span style=\"color: #00d7ff; text-decoration-color: #00d7ff\">None</span>, <span style=\"color: #00af00; text-decoration-color: #00af00\">64</span>)             │        <span style=\"color: #00af00; text-decoration-color: #00af00\">16,896</span> │\n",
       "├─────────────────────────────────┼────────────────────────┼───────────────┤\n",
       "│ dropout_2 (<span style=\"color: #0087ff; text-decoration-color: #0087ff\">Dropout</span>)             │ (<span style=\"color: #00d7ff; text-decoration-color: #00d7ff\">None</span>, <span style=\"color: #00af00; text-decoration-color: #00af00\">64</span>)             │             <span style=\"color: #00af00; text-decoration-color: #00af00\">0</span> │\n",
       "├─────────────────────────────────┼────────────────────────┼───────────────┤\n",
       "│ dense_32 (<span style=\"color: #0087ff; text-decoration-color: #0087ff\">Dense</span>)                │ (<span style=\"color: #00d7ff; text-decoration-color: #00d7ff\">None</span>, <span style=\"color: #00af00; text-decoration-color: #00af00\">64</span>)             │         <span style=\"color: #00af00; text-decoration-color: #00af00\">4,160</span> │\n",
       "├─────────────────────────────────┼────────────────────────┼───────────────┤\n",
       "│ dense_33 (<span style=\"color: #0087ff; text-decoration-color: #0087ff\">Dense</span>)                │ (<span style=\"color: #00d7ff; text-decoration-color: #00d7ff\">None</span>, <span style=\"color: #00af00; text-decoration-color: #00af00\">32</span>)             │         <span style=\"color: #00af00; text-decoration-color: #00af00\">2,080</span> │\n",
       "├─────────────────────────────────┼────────────────────────┼───────────────┤\n",
       "│ dense_34 (<span style=\"color: #0087ff; text-decoration-color: #0087ff\">Dense</span>)                │ (<span style=\"color: #00d7ff; text-decoration-color: #00d7ff\">None</span>, <span style=\"color: #00af00; text-decoration-color: #00af00\">16</span>)             │           <span style=\"color: #00af00; text-decoration-color: #00af00\">528</span> │\n",
       "├─────────────────────────────────┼────────────────────────┼───────────────┤\n",
       "│ dense_35 (<span style=\"color: #0087ff; text-decoration-color: #0087ff\">Dense</span>)                │ (<span style=\"color: #00d7ff; text-decoration-color: #00d7ff\">None</span>, <span style=\"color: #00af00; text-decoration-color: #00af00\">1</span>)              │            <span style=\"color: #00af00; text-decoration-color: #00af00\">17</span> │\n",
       "└─────────────────────────────────┴────────────────────────┴───────────────┘\n",
       "</pre>\n"
      ],
      "text/plain": [
       "┏━━━━━━━━━━━━━━━━━━━━━━━━━━━━━━━━━┳━━━━━━━━━━━━━━━━━━━━━━━━┳━━━━━━━━━━━━━━━┓\n",
       "┃\u001b[1m \u001b[0m\u001b[1mLayer (type)                   \u001b[0m\u001b[1m \u001b[0m┃\u001b[1m \u001b[0m\u001b[1mOutput Shape          \u001b[0m\u001b[1m \u001b[0m┃\u001b[1m \u001b[0m\u001b[1m      Param #\u001b[0m\u001b[1m \u001b[0m┃\n",
       "┡━━━━━━━━━━━━━━━━━━━━━━━━━━━━━━━━━╇━━━━━━━━━━━━━━━━━━━━━━━━╇━━━━━━━━━━━━━━━┩\n",
       "│ lstm_2 (\u001b[38;5;33mLSTM\u001b[0m)                   │ (\u001b[38;5;45mNone\u001b[0m, \u001b[38;5;34m64\u001b[0m)             │        \u001b[38;5;34m16,896\u001b[0m │\n",
       "├─────────────────────────────────┼────────────────────────┼───────────────┤\n",
       "│ dropout_2 (\u001b[38;5;33mDropout\u001b[0m)             │ (\u001b[38;5;45mNone\u001b[0m, \u001b[38;5;34m64\u001b[0m)             │             \u001b[38;5;34m0\u001b[0m │\n",
       "├─────────────────────────────────┼────────────────────────┼───────────────┤\n",
       "│ dense_32 (\u001b[38;5;33mDense\u001b[0m)                │ (\u001b[38;5;45mNone\u001b[0m, \u001b[38;5;34m64\u001b[0m)             │         \u001b[38;5;34m4,160\u001b[0m │\n",
       "├─────────────────────────────────┼────────────────────────┼───────────────┤\n",
       "│ dense_33 (\u001b[38;5;33mDense\u001b[0m)                │ (\u001b[38;5;45mNone\u001b[0m, \u001b[38;5;34m32\u001b[0m)             │         \u001b[38;5;34m2,080\u001b[0m │\n",
       "├─────────────────────────────────┼────────────────────────┼───────────────┤\n",
       "│ dense_34 (\u001b[38;5;33mDense\u001b[0m)                │ (\u001b[38;5;45mNone\u001b[0m, \u001b[38;5;34m16\u001b[0m)             │           \u001b[38;5;34m528\u001b[0m │\n",
       "├─────────────────────────────────┼────────────────────────┼───────────────┤\n",
       "│ dense_35 (\u001b[38;5;33mDense\u001b[0m)                │ (\u001b[38;5;45mNone\u001b[0m, \u001b[38;5;34m1\u001b[0m)              │            \u001b[38;5;34m17\u001b[0m │\n",
       "└─────────────────────────────────┴────────────────────────┴───────────────┘\n"
      ]
     },
     "metadata": {},
     "output_type": "display_data"
    },
    {
     "data": {
      "text/html": [
       "<pre style=\"white-space:pre;overflow-x:auto;line-height:normal;font-family:Menlo,'DejaVu Sans Mono',consolas,'Courier New',monospace\"><span style=\"font-weight: bold\"> Total params: </span><span style=\"color: #00af00; text-decoration-color: #00af00\">23,681</span> (92.50 KB)\n",
       "</pre>\n"
      ],
      "text/plain": [
       "\u001b[1m Total params: \u001b[0m\u001b[38;5;34m23,681\u001b[0m (92.50 KB)\n"
      ]
     },
     "metadata": {},
     "output_type": "display_data"
    },
    {
     "data": {
      "text/html": [
       "<pre style=\"white-space:pre;overflow-x:auto;line-height:normal;font-family:Menlo,'DejaVu Sans Mono',consolas,'Courier New',monospace\"><span style=\"font-weight: bold\"> Trainable params: </span><span style=\"color: #00af00; text-decoration-color: #00af00\">23,681</span> (92.50 KB)\n",
       "</pre>\n"
      ],
      "text/plain": [
       "\u001b[1m Trainable params: \u001b[0m\u001b[38;5;34m23,681\u001b[0m (92.50 KB)\n"
      ]
     },
     "metadata": {},
     "output_type": "display_data"
    },
    {
     "data": {
      "text/html": [
       "<pre style=\"white-space:pre;overflow-x:auto;line-height:normal;font-family:Menlo,'DejaVu Sans Mono',consolas,'Courier New',monospace\"><span style=\"font-weight: bold\"> Non-trainable params: </span><span style=\"color: #00af00; text-decoration-color: #00af00\">0</span> (0.00 B)\n",
       "</pre>\n"
      ],
      "text/plain": [
       "\u001b[1m Non-trainable params: \u001b[0m\u001b[38;5;34m0\u001b[0m (0.00 B)\n"
      ]
     },
     "metadata": {},
     "output_type": "display_data"
    }
   ],
   "source": [
    "# Remodelar para LSTM con Undersampling\n",
    "X_train_lstm_std_under = X_train_under_std_esc1.reshape(X_train_under_std_esc1.shape[0], X_train_under_std_esc1.shape[1], 1)\n",
    "X_test_lstm_std_under = X_test_under_std_esc1.reshape(X_test_under_std_esc1.shape[0], X_test_under_std_esc1.shape[1], 1)\n",
    "\n",
    "#Crear el modelo LSTM\n",
    "model = models.Sequential([\n",
    "    layers.LSTM(64, activation='relu', input_shape=(X_train_lstm_std_under.shape[1], 1)),\n",
    "    layers.Dropout(0.2),  # Regularización por Dropout\n",
    "    layers.Dense(64, activation='relu'),\n",
    "    layers.Dense(32, activation='relu'),\n",
    "    layers.Dense(16, activation='relu'),\n",
    "    layers.Dense(1, activation='sigmoid')  # Salida binaria (0 o 1)\n",
    "])\n",
    "\n",
    "# Compilar el modelo\n",
    "model.compile(optimizer='adam', loss='binary_crossentropy', metrics=['accuracy'])\n",
    "\n",
    "# Resumen del modelo\n",
    "model.summary()"
   ]
  },
  {
   "cell_type": "code",
   "execution_count": 66,
   "metadata": {},
   "outputs": [
    {
     "name": "stdout",
     "output_type": "stream",
     "text": [
      "Epoch 1/10\n",
      "\u001b[1m182/182\u001b[0m \u001b[32m━━━━━━━━━━━━━━━━━━━━\u001b[0m\u001b[37m\u001b[0m \u001b[1m3s\u001b[0m 6ms/step - accuracy: 0.5125 - loss: 0.6931 - val_accuracy: 0.8053 - val_loss: 0.6743\n",
      "Epoch 2/10\n",
      "\u001b[1m182/182\u001b[0m \u001b[32m━━━━━━━━━━━━━━━━━━━━\u001b[0m\u001b[37m\u001b[0m \u001b[1m1s\u001b[0m 5ms/step - accuracy: 0.5118 - loss: 0.6919 - val_accuracy: 0.8103 - val_loss: 0.6372\n",
      "Epoch 3/10\n",
      "\u001b[1m182/182\u001b[0m \u001b[32m━━━━━━━━━━━━━━━━━━━━\u001b[0m\u001b[37m\u001b[0m \u001b[1m1s\u001b[0m 6ms/step - accuracy: 0.5900 - loss: 0.6761 - val_accuracy: 0.5573 - val_loss: 0.6799\n",
      "Epoch 4/10\n",
      "\u001b[1m182/182\u001b[0m \u001b[32m━━━━━━━━━━━━━━━━━━━━\u001b[0m\u001b[37m\u001b[0m \u001b[1m1s\u001b[0m 7ms/step - accuracy: 0.6170 - loss: 0.6489 - val_accuracy: 0.6143 - val_loss: 0.6603\n",
      "Epoch 5/10\n",
      "\u001b[1m182/182\u001b[0m \u001b[32m━━━━━━━━━━━━━━━━━━━━\u001b[0m\u001b[37m\u001b[0m \u001b[1m1s\u001b[0m 6ms/step - accuracy: 0.6432 - loss: 0.6284 - val_accuracy: 0.5923 - val_loss: 0.6731\n",
      "Epoch 6/10\n",
      "\u001b[1m182/182\u001b[0m \u001b[32m━━━━━━━━━━━━━━━━━━━━\u001b[0m\u001b[37m\u001b[0m \u001b[1m1s\u001b[0m 5ms/step - accuracy: 0.6559 - loss: 0.6124 - val_accuracy: 0.6683 - val_loss: 0.6130\n",
      "Epoch 7/10\n",
      "\u001b[1m182/182\u001b[0m \u001b[32m━━━━━━━━━━━━━━━━━━━━\u001b[0m\u001b[37m\u001b[0m \u001b[1m1s\u001b[0m 5ms/step - accuracy: 0.6660 - loss: 0.5988 - val_accuracy: 0.5807 - val_loss: 0.6788\n",
      "Epoch 8/10\n",
      "\u001b[1m182/182\u001b[0m \u001b[32m━━━━━━━━━━━━━━━━━━━━\u001b[0m\u001b[37m\u001b[0m \u001b[1m1s\u001b[0m 5ms/step - accuracy: 0.6836 - loss: 0.5861 - val_accuracy: 0.5927 - val_loss: 0.6673\n",
      "Epoch 9/10\n",
      "\u001b[1m182/182\u001b[0m \u001b[32m━━━━━━━━━━━━━━━━━━━━\u001b[0m\u001b[37m\u001b[0m \u001b[1m1s\u001b[0m 4ms/step - accuracy: 0.7031 - loss: 0.5726 - val_accuracy: 0.6087 - val_loss: 0.6548\n",
      "Epoch 10/10\n",
      "\u001b[1m182/182\u001b[0m \u001b[32m━━━━━━━━━━━━━━━━━━━━\u001b[0m\u001b[37m\u001b[0m \u001b[1m1s\u001b[0m 5ms/step - accuracy: 0.7010 - loss: 0.5652 - val_accuracy: 0.6393 - val_loss: 0.6271\n",
      "\u001b[1m94/94\u001b[0m \u001b[32m━━━━━━━━━━━━━━━━━━━━\u001b[0m\u001b[37m\u001b[0m \u001b[1m0s\u001b[0m 3ms/step\n",
      "\u001b[1m94/94\u001b[0m \u001b[32m━━━━━━━━━━━━━━━━━━━━\u001b[0m\u001b[37m\u001b[0m \u001b[1m0s\u001b[0m 1ms/step\n",
      "Evaluación con datos completos:\n",
      "              precision    recall  f1-score   support\n",
      "\n",
      "           0       0.93      0.60      0.73      2416\n",
      "           1       0.33      0.82      0.47       584\n",
      "\n",
      "    accuracy                           0.64      3000\n",
      "   macro avg       0.63      0.71      0.60      3000\n",
      "weighted avg       0.82      0.64      0.68      3000\n",
      "\n"
     ]
    }
   ],
   "source": [
    "# Entrenar el modelo con datos balanceados con Undersampling\n",
    "model.fit(X_train_lstm_std_under, y_train_under, epochs=10, batch_size=16, validation_data=(X_test_lstm_std_under, y_test))\n",
    "\n",
    "# Evaluar el modelo\n",
    "y_pred_lstm_under = (model.predict(X_test_lstm_std_under) > 0.5)\n",
    "\n",
    "# Obtener las probabilidades para la curva AUC-ROC\n",
    "y_prob_lstm_under = model.predict(X_test_lstm_std_under)\n",
    "\n",
    "print(\"Evaluación con datos completos:\")\n",
    "print(classification_report(y_test, y_pred_lstm_under))\n",
    "# print(confusion_matrix(y_test, y_pred_lstm_under))"
   ]
  },
  {
   "cell_type": "code",
   "execution_count": 67,
   "metadata": {},
   "outputs": [
    {
     "name": "stdout",
     "output_type": "stream",
     "text": [
      "              precision    recall  f1-score   support\n",
      "\n",
      "           0       0.93      0.60      0.73      2416\n",
      "           1       0.33      0.82      0.47       584\n",
      "\n",
      "    accuracy                           0.64      3000\n",
      "   macro avg       0.63      0.71      0.60      3000\n",
      "weighted avg       0.82      0.64      0.68      3000\n",
      "\n"
     ]
    }
   ],
   "source": [
    "print(classification_report(y_test, y_pred_lstm_under))"
   ]
  },
  {
   "cell_type": "markdown",
   "metadata": {
    "id": "wS3yQMEdTymP"
   },
   "source": [
    "##### 5. Gráficas la Matriz de Confusión y Curva AUC-ROC"
   ]
  },
  {
   "cell_type": "code",
   "execution_count": 68,
   "metadata": {
    "id": "fsjBR3yNKXp9"
   },
   "outputs": [],
   "source": [
    "# Función para graficar la matriz de confusión\n",
    "def plot_confusion_matrix(y_true, y_pred, title):\n",
    "    cm = confusion_matrix(y_true, y_pred)\n",
    "    plt.figure(figsize=(5, 3))\n",
    "    sns.heatmap(cm, annot=True, fmt='d', cmap='Blues', cbar=False)\n",
    "    plt.title(f'Matriz de Confusión - {title}')\n",
    "    plt.ylabel('Verdadero')\n",
    "    plt.xlabel('Predicción')\n",
    "    plt.show()"
   ]
  },
  {
   "cell_type": "code",
   "execution_count": 69,
   "metadata": {
    "id": "6bLTcjrg3GnM"
   },
   "outputs": [
    {
     "data": {
      "image/png": "[encoded data removed]",
      "text/plain": [
       "<Figure size 500x300 with 1 Axes>"
      ]
     },
     "metadata": {},
     "output_type": "display_data"
    },
    {
     "data": {
      "image/png": "[encoded data removed]",
      "text/plain": [
       "<Figure size 500x300 with 1 Axes>"
      ]
     },
     "metadata": {},
     "output_type": "display_data"
    },
    {
     "data": {
      "image/png": "[encoded data removed]",
      "text/plain": [
       "<Figure size 500x300 with 1 Axes>"
      ]
     },
     "metadata": {},
     "output_type": "display_data"
    }
   ],
   "source": [
    "# Matriz de confusión\n",
    "plot_confusion_matrix(y_test, y_pred_rf_esc1, 'Random Forest Datos Desbalanceados')\n",
    "plot_confusion_matrix(y_test, y_pred_rf_over_esc1, 'Random Forest Oversampling')\n",
    "plot_confusion_matrix(y_test, y_pred_rf_under_esc1, 'Random Forest Undersampling')"
   ]
  },
  {
   "cell_type": "code",
   "execution_count": 70,
   "metadata": {
    "colab": {
     "base_uri": "https://localhost:8080/",
     "height": 565
    },
    "executionInfo": {
     "elapsed": 927,
     "status": "ok",
     "timestamp": 1725554931408,
     "user": {
      "displayName": "Raham Castillo",
      "userId": "06379344060245885210"
     },
     "user_tz": 300
    },
    "id": "7uH_0BTOUtg0",
    "outputId": "45c97d10-9cb5-40f1-d105-f8eff2253f55"
   },
   "outputs": [
    {
     "data": {
      "image/png": "[encoded data removed]",
      "text/plain": [
       "<Figure size 800x600 with 1 Axes>"
      ]
     },
     "metadata": {},
     "output_type": "display_data"
    }
   ],
   "source": [
    "# Función para graficar la curva ROC\n",
    "def plot_roc_curve(y_true, y_prob, titulo):\n",
    "    fpr, tpr, _ = roc_curve(y_true, y_prob)\n",
    "    auc_score = roc_auc_score(y_true, y_prob)\n",
    "    plt.plot(fpr, tpr, label=f'{titulo} (AUC = {auc_score:.2f})')\n",
    "\n",
    "# Crear el gráfico de la curva ROC para Random Forest y Árboles de Decisión\n",
    "plt.figure(figsize=(8, 6))\n",
    "\n",
    "# ---------------- Gráfica para datos balanceados ---------\n",
    "# Random Forest\n",
    "plot_roc_curve(y_test, y_prob_rf_esc1, 'Random Forest')\n",
    "# Regresión Logística\n",
    "plot_roc_curve(y_test, y_prob_reglog_esc1, 'Regresión Logística')\n",
    "# Support Vector Machine\n",
    "plot_roc_curve(y_test, y_prob_svc_esc1, 'SVM')\n",
    "# Árboles de Decisión\n",
    "plot_roc_curve(y_test, y_prob_dt_esc1, 'Árboles de Decisión')\n",
    "# Red Neuronal MLP\n",
    "plot_roc_curve(y_test, y_prob_mlp_esc1, 'Red Neuronal MLP')\n",
    "# XGBoost\n",
    "plot_roc_curve(y_test, y_prob_xgb_esc1, 'XGBoost')\n",
    "# AdaBoost\n",
    "plot_roc_curve(y_test, y_prob_adaboost_esc1, 'Adaboost')\n",
    "# Red Neuronal Profunda (DNN)\n",
    "plot_roc_curve(y_test, y_pred, 'Red Neuronal Profunda (DNN)')  # Usar las probabilidades, no las etiquetas\n",
    "# Red Neuronal CNN\n",
    "plot_roc_curve(y_test, y_prob_cnn, 'CNN')\n",
    "# Red Neuronal LSTM\n",
    "plot_roc_curve(y_test, y_prob_lstm, 'LSTM')\n",
    "\n",
    "# Gráfico final\n",
    "plt.plot([0, 1], [0, 1], 'k--')  # Línea diagonal\n",
    "plt.xlabel('Tasa de Falsos Positivos')\n",
    "plt.ylabel('Tasa de Verdaderos Positivos')\n",
    "plt.title('Comparación de Curvas AUC-ROC - Datos Desbalanceados')\n",
    "plt.legend(loc='lower right')\n",
    "plt.grid(True)\n",
    "plt.show()"
   ]
  },
  {
   "cell_type": "code",
   "execution_count": 71,
   "metadata": {
    "colab": {
     "base_uri": "https://localhost:8080/",
     "height": 472
    },
    "executionInfo": {
     "elapsed": 1107,
     "status": "ok",
     "timestamp": 1725554940615,
     "user": {
      "displayName": "Raham Castillo",
      "userId": "06379344060245885210"
     },
     "user_tz": 300
    },
    "id": "Q8JdVmgoFsqq",
    "outputId": "bb0fa461-bb2e-42b9-b611-332dead4e0d3"
   },
   "outputs": [
    {
     "data": {
      "image/png": "[encoded data removed]",
      "text/plain": [
       "<Figure size 640x480 with 1 Axes>"
      ]
     },
     "metadata": {},
     "output_type": "display_data"
    }
   ],
   "source": [
    "# ---------------- Gráfica para datos con Oversampling ---------\n",
    "# Random Forest\n",
    "plot_roc_curve(y_test, y_prob_rf_over_esc1, 'Random Forest')\n",
    "# Regresión Logística\n",
    "plot_roc_curve(y_test, y_prob_reglog_over_esc1, 'Regresión Logística')\n",
    "# Support Vector Machine\n",
    "plot_roc_curve(y_test, y_prob_svc_over_esc1, 'SVM')\n",
    "# Árboles de Decisión\n",
    "plot_roc_curve(y_test, y_prob_dt_over_esc1, 'Árboles de Decisión')\n",
    "# Red Neuronal MLP\n",
    "plot_roc_curve(y_test, y_prob_mlp_over_esc1, 'Red Neuronal MLP')\n",
    "# XGBoost\n",
    "plot_roc_curve(y_test, y_prob_xgb_over_esc1, 'XGBoost')\n",
    "# AdaBoost\n",
    "plot_roc_curve(y_test, y_prob_adaboost_over_esc1, 'Adaboost')\n",
    "\n",
    "# Red Neuronal Profunda (DNN)\n",
    "plot_roc_curve(y_test, y_pred_over, 'Red Neuronal Profunda (DNN)')\n",
    "# Red Neuronal CNN\n",
    "plot_roc_curve(y_test, y_prob_cnn_over, 'CNN')\n",
    "# Red Neuronal LSTM\n",
    "plot_roc_curve(y_test, y_prob_lstm_over, 'LSTM')\n",
    "\n",
    "# Gráfico final\n",
    "plt.plot([0, 1], [0, 1], 'k--')  # Línea diagonal\n",
    "plt.xlabel('Tasa de Falsos Positivos')\n",
    "plt.ylabel('Tasa de Verdaderos Positivos')\n",
    "plt.title('Comparación de Curvas AUC-ROC - Datos con Oversampling')\n",
    "plt.legend(loc='lower right')\n",
    "plt.grid(True)\n",
    "plt.show()"
   ]
  },
  {
   "cell_type": "code",
   "execution_count": 72,
   "metadata": {
    "colab": {
     "base_uri": "https://localhost:8080/",
     "height": 472
    },
    "executionInfo": {
     "elapsed": 1481,
     "status": "ok",
     "timestamp": 1725554972632,
     "user": {
      "displayName": "Raham Castillo",
      "userId": "06379344060245885210"
     },
     "user_tz": 300
    },
    "id": "TDOxx_ZoF0et",
    "outputId": "87ffd0f7-a487-4eb7-b0a3-10871276fc49"
   },
   "outputs": [
    {
     "data": {
      "image/png": "[encoded data removed]",
      "text/plain": [
       "<Figure size 640x480 with 1 Axes>"
      ]
     },
     "metadata": {},
     "output_type": "display_data"
    }
   ],
   "source": [
    "# ---------------- Gráfica para datos con Undersampling ---------\n",
    "# Random Forest\n",
    "plot_roc_curve(y_test, y_prob_rf_under_esc1, 'Random Forest')\n",
    "# Regresión Logística\n",
    "plot_roc_curve(y_test, y_prob_reglog_under_esc1, 'Regresión Logística')\n",
    "# Support Vector Machine\n",
    "plot_roc_curve(y_test, y_prob_svc_under_esc1, 'SVM')\n",
    "# Árboles de Decisión\n",
    "plot_roc_curve(y_test, y_prob_dt_under_esc1, 'Árboles de Decisión')\n",
    "# Red Neuronal MLP\n",
    "plot_roc_curve(y_test, y_prob_mlp_under_esc1, 'Red Neuronal MLP')\n",
    "# XGBoost\n",
    "plot_roc_curve(y_test, y_prob_xgb_under_esc1, 'XGBoost')\n",
    "# AdaBoost\n",
    "plot_roc_curve(y_test, y_prob_adaboost_under_esc1, 'Adaboost')\n",
    "\n",
    "# Red Neuronal Profunda (DNN)\n",
    "plot_roc_curve(y_test, y_pred_under, 'Red Neuronal Profunda (DNN)')\n",
    "# Red Neuronal CNN\n",
    "plot_roc_curve(y_test, y_prob_cnn_under, 'CNN')\n",
    "# Red Neuronal LSTM\n",
    "plot_roc_curve(y_test, y_prob_lstm_under, 'LSTM')\n",
    "\n",
    "# Gráfico final\n",
    "plt.plot([0, 1], [0, 1], 'k--')  # Línea diagonal\n",
    "plt.xlabel('Tasa de Falsos Positivos')\n",
    "plt.ylabel('Tasa de Verdaderos Positivos')\n",
    "plt.title('Comparación de Curvas AUC-ROC - Datos con Undersampling')\n",
    "plt.legend(loc='lower right')\n",
    "plt.grid(True)\n",
    "plt.show()"
   ]
  }
 ],
 "metadata": {
  "colab": {
   "authorship_tag": "ABX9TyNcFsnEWbqAv/9ZGnsrNVSC",
   "mount_file_id": "1V0ojsIUoz8lxkr2fPvdvMFLZNraEtQWJ",
   "provenance": []
  },
  "kernelspec": {
   "display_name": "venv",
   "language": "python",
   "name": "python3"
  },
  "language_info": {
   "codemirror_mode": {
    "name": "ipython",
    "version": 3
   },
   "file_extension": ".py",
   "mimetype": "text/x-python",
   "name": "python",
   "nbconvert_exporter": "python",
   "pygments_lexer": "ipython3",
   "version": "3.10.16"
  }
 },
 "nbformat": 4,
 "nbformat_minor": 0
}
